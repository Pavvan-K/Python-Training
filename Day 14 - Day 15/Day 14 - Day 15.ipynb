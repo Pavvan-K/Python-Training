{
 "cells": [
  {
   "cell_type": "markdown",
   "metadata": {},
   "source": [
    "# Object Oriented Programming"
   ]
  },
  {
   "cell_type": "markdown",
   "metadata": {},
   "source": [
    "For this lesson we will construct our knowledge of OOP in Python by building on the following topics:\n",
    "* Objects\n",
    "* Using the class keyword\n",
    "* Creating class attributes\n",
    "* Creating methods in a class"
   ]
  },
  {
   "cell_type": "code",
   "execution_count": 109,
   "metadata": {},
   "outputs": [],
   "source": [
    "from IPython.core.display import Image, display\n",
    "Image_width = 600\n",
    "Image_Height = 190"
   ]
  },
  {
   "cell_type": "markdown",
   "metadata": {},
   "source": [
    "## Why Class for  Object:"
   ]
  },
  {
   "cell_type": "markdown",
   "metadata": {},
   "source": [
    "* Class is a simple plan or blueprint of our plan.\n",
    "* Once class is there we can use that plan(blueprint) we can create mulitple objects(entities or instance)\n",
    "* Simply object is instance of a class."
   ]
  },
  {
   "cell_type": "markdown",
   "metadata": {},
   "source": [
    "## Inbuilt Types:"
   ]
  },
  {
   "cell_type": "code",
   "execution_count": 1,
   "metadata": {},
   "outputs": [],
   "source": [
    "a=2"
   ]
  },
  {
   "cell_type": "code",
   "execution_count": 191,
   "metadata": {},
   "outputs": [],
   "source": [
    "b=4"
   ]
  },
  {
   "cell_type": "code",
   "execution_count": 3,
   "metadata": {},
   "outputs": [
    {
     "name": "stdout",
     "output_type": "stream",
     "text": [
      "<class 'int'>\n"
     ]
    }
   ],
   "source": [
    "print(type(a))"
   ]
  },
  {
   "cell_type": "code",
   "execution_count": 5,
   "metadata": {},
   "outputs": [],
   "source": [
    "a=2.0"
   ]
  },
  {
   "cell_type": "code",
   "execution_count": 6,
   "metadata": {},
   "outputs": [
    {
     "name": "stdout",
     "output_type": "stream",
     "text": [
      "<class 'float'>\n"
     ]
    }
   ],
   "source": [
    "print(type(a))"
   ]
  },
  {
   "cell_type": "code",
   "execution_count": 12,
   "metadata": {},
   "outputs": [],
   "source": [
    "a=\"Mango\""
   ]
  },
  {
   "cell_type": "code",
   "execution_count": 13,
   "metadata": {},
   "outputs": [
    {
     "name": "stdout",
     "output_type": "stream",
     "text": [
      "<class 'str'>\n"
     ]
    }
   ],
   "source": [
    "print(type(a))"
   ]
  },
  {
   "cell_type": "code",
   "execution_count": 16,
   "metadata": {},
   "outputs": [
    {
     "data": {
      "text/plain": [
       "'MANGO'"
      ]
     },
     "execution_count": 16,
     "metadata": {},
     "output_type": "execute_result"
    }
   ],
   "source": [
    "a.upper()"
   ]
  },
  {
   "cell_type": "code",
   "execution_count": 126,
   "metadata": {},
   "outputs": [
    {
     "name": "stdout",
     "output_type": "stream",
     "text": [
      "<class 'int'>\n",
      "<class 'list'>\n",
      "<class 'tuple'>\n",
      "<class 'dict'>\n"
     ]
    }
   ],
   "source": [
    "print(type(1))\n",
    "print(type([]))\n",
    "print(type(()))\n",
    "print(type({}))"
   ]
  },
  {
   "cell_type": "markdown",
   "metadata": {},
   "source": [
    "## Let's create(design) your own  type:"
   ]
  },
  {
   "cell_type": "markdown",
   "metadata": {},
   "source": [
    "we know all these things are objects, so how can we create our own Object types? That is where the class keyword comes in."
   ]
  },
  {
   "cell_type": "markdown",
   "metadata": {},
   "source": [
    "### `class`"
   ]
  },
  {
   "cell_type": "markdown",
   "metadata": {},
   "source": [
    "* User defined objects are created using the __class__ keyword. \n",
    "* The class is a blueprint that defines the nature of a future object\n",
    "* An instance is a specific object created from a particular class\n",
    "* Create instance of a list object like a=[1,2,3]"
   ]
  },
  {
   "cell_type": "code",
   "execution_count": 21,
   "metadata": {},
   "outputs": [],
   "source": [
    "## Create computer class (my Own class)\n",
    "\n",
    "class MyComputer:\n",
    "    \n",
    "    ## Class Contains Attributes (DATA) and Methods/Functions (Behaviour)\n",
    "    \n",
    "    def config(self): \n",
    "        print(\"16GB RAM, i7 Processor, 1 TB\")\n",
    "        \n",
    "    def restart()\n",
    "    \n",
    "    \n",
    "    def reboot()\n",
    "    \n",
    "    def install_program()"
   ]
  },
  {
   "cell_type": "markdown",
   "metadata": {},
   "source": [
    "### `Object:`"
   ]
  },
  {
   "cell_type": "markdown",
   "metadata": {},
   "source": [
    "\n",
    "<img src=\"Objects.png\" width=250 height = 100></img>"
   ]
  },
  {
   "cell_type": "markdown",
   "metadata": {},
   "source": [
    "* An object is nothing but a self-contained component which consists of methods and properties to make a particular type of data useful.\n",
    "* Object determines the behavior of the class"
   ]
  },
  {
   "cell_type": "markdown",
   "metadata": {},
   "source": [
    "### Create Instances:"
   ]
  },
  {
   "cell_type": "code",
   "execution_count": 23,
   "metadata": {},
   "outputs": [],
   "source": [
    "com1 = MyComputer()"
   ]
  },
  {
   "cell_type": "code",
   "execution_count": 24,
   "metadata": {},
   "outputs": [
    {
     "name": "stdout",
     "output_type": "stream",
     "text": [
      "<class '__main__.MyComputer'>\n"
     ]
    }
   ],
   "source": [
    "print(type(com1))"
   ]
  },
  {
   "cell_type": "code",
   "execution_count": 27,
   "metadata": {},
   "outputs": [
    {
     "name": "stdout",
     "output_type": "stream",
     "text": [
      "16GB RAM, i7 Processor, 1 TB\n"
     ]
    }
   ],
   "source": [
    "MyComputer.config(com1)"
   ]
  },
  {
   "cell_type": "code",
   "execution_count": 29,
   "metadata": {},
   "outputs": [
    {
     "ename": "NameError",
     "evalue": "name 'com2' is not defined",
     "output_type": "error",
     "traceback": [
      "\u001b[1;31m---------------------------------------------------------------------------\u001b[0m",
      "\u001b[1;31mNameError\u001b[0m                                 Traceback (most recent call last)",
      "\u001b[1;32m<ipython-input-29-a5632bcb112a>\u001b[0m in \u001b[0;36m<module>\u001b[1;34m\u001b[0m\n\u001b[1;32m----> 1\u001b[1;33m \u001b[0mMyComputer\u001b[0m\u001b[1;33m.\u001b[0m\u001b[0mconfig\u001b[0m\u001b[1;33m(\u001b[0m\u001b[0mcom2\u001b[0m\u001b[1;33m)\u001b[0m\u001b[1;33m\u001b[0m\u001b[1;33m\u001b[0m\u001b[0m\n\u001b[0m",
      "\u001b[1;31mNameError\u001b[0m: name 'com2' is not defined"
     ]
    }
   ],
   "source": [
    "MyComputer.config(com2)"
   ]
  },
  {
   "cell_type": "code",
   "execution_count": 30,
   "metadata": {},
   "outputs": [],
   "source": [
    "com2 = MyComputer()"
   ]
  },
  {
   "cell_type": "code",
   "execution_count": 31,
   "metadata": {},
   "outputs": [
    {
     "name": "stdout",
     "output_type": "stream",
     "text": [
      "16GB RAM, i7 Processor, 1 TB\n"
     ]
    }
   ],
   "source": [
    "MyComputer.config(com2)"
   ]
  },
  {
   "cell_type": "markdown",
   "metadata": {},
   "source": [
    "#### We can initilize objects like this also"
   ]
  },
  {
   "cell_type": "code",
   "execution_count": 32,
   "metadata": {},
   "outputs": [
    {
     "name": "stdout",
     "output_type": "stream",
     "text": [
      "16GB RAM, i7 Processor, 1 TB\n"
     ]
    }
   ],
   "source": [
    "com1.config() ## Mostly people will use like this!"
   ]
  },
  {
   "cell_type": "code",
   "execution_count": 33,
   "metadata": {},
   "outputs": [
    {
     "name": "stdout",
     "output_type": "stream",
     "text": [
      "16GB RAM, i7 Processor, 1 TB\n"
     ]
    }
   ],
   "source": [
    "com2.config()"
   ]
  },
  {
   "cell_type": "markdown",
   "metadata": {},
   "source": [
    "## `__init__ method`"
   ]
  },
  {
   "cell_type": "markdown",
   "metadata": {},
   "source": [
    "* Object is having attributes (Varibales), Behaviour (methods)\n",
    "* Above example we can call the methods __using object itself__ or __with help of class by passing object__\n",
    "* `__init__` is a special method in python\n",
    "* This method automatically called during instance creation. In order to initialize the attributes we are using `__init__` method."
   ]
  },
  {
   "cell_type": "code",
   "execution_count": 34,
   "metadata": {},
   "outputs": [],
   "source": [
    "class MyComputer:\n",
    "    def __init__(self): ## Constructor\n",
    "        print(\"I am INIT\")\n",
    "    def config(self):\n",
    "        print(\"1TB, 16GB, i5\")"
   ]
  },
  {
   "cell_type": "code",
   "execution_count": 35,
   "metadata": {},
   "outputs": [
    {
     "name": "stdout",
     "output_type": "stream",
     "text": [
      "I am INIT\n"
     ]
    }
   ],
   "source": [
    "comp1 = MyComputer() ## Object initilization"
   ]
  },
  {
   "cell_type": "code",
   "execution_count": 37,
   "metadata": {},
   "outputs": [
    {
     "name": "stdout",
     "output_type": "stream",
     "text": [
      "1TB, 16GB, i5\n"
     ]
    }
   ],
   "source": [
    "comp1.config()"
   ]
  },
  {
   "cell_type": "markdown",
   "metadata": {},
   "source": [
    "I want to create multiple instances with different configurations"
   ]
  },
  {
   "cell_type": "code",
   "execution_count": 72,
   "metadata": {},
   "outputs": [],
   "source": [
    "class MyComputer:\n",
    "    def __init__(self,RAM,HDD,PROCESSOR):\n",
    "        print(\"Computer Object created Successfully!\")\n",
    "        self.RAM = RAM\n",
    "        self.HDD = HDD\n",
    "        self.PROCESSOR = PROCESSOR\n",
    "        \n",
    "    def config(self):\n",
    "        print(\"YOUR CONFIGURATION IS: {} {} {}\".format(self.RAM,self.HDD,self.PROCESSOR))\n"
   ]
  },
  {
   "cell_type": "code",
   "execution_count": 73,
   "metadata": {},
   "outputs": [
    {
     "ename": "TypeError",
     "evalue": "__init__() missing 3 required positional arguments: 'RAM', 'HDD', and 'PROCESSOR'",
     "output_type": "error",
     "traceback": [
      "\u001b[1;31m---------------------------------------------------------------------------\u001b[0m",
      "\u001b[1;31mTypeError\u001b[0m                                 Traceback (most recent call last)",
      "\u001b[1;32m<ipython-input-73-2394125c1ece>\u001b[0m in \u001b[0;36m<module>\u001b[1;34m\u001b[0m\n\u001b[1;32m----> 1\u001b[1;33m \u001b[0mcomp1\u001b[0m \u001b[1;33m=\u001b[0m \u001b[0mMyComputer\u001b[0m\u001b[1;33m(\u001b[0m\u001b[1;33m)\u001b[0m\u001b[1;33m\u001b[0m\u001b[1;33m\u001b[0m\u001b[0m\n\u001b[0m",
      "\u001b[1;31mTypeError\u001b[0m: __init__() missing 3 required positional arguments: 'RAM', 'HDD', and 'PROCESSOR'"
     ]
    }
   ],
   "source": [
    "comp1 = MyComputer(2,1000,\"i7\")"
   ]
  },
  {
   "cell_type": "code",
   "execution_count": null,
   "metadata": {},
   "outputs": [],
   "source": [
    "comp2 = Mycomputer(1,500,\"i5\")"
   ]
  },
  {
   "cell_type": "code",
   "execution_count": 74,
   "metadata": {},
   "outputs": [
    {
     "name": "stdout",
     "output_type": "stream",
     "text": [
      "Computer Object created Successfully!\n"
     ]
    }
   ],
   "source": [
    "comp1=MyComputer(RAM=\"16GB\",HDD=\"1TB\",PROCESSOR=\"i5\")"
   ]
  },
  {
   "cell_type": "code",
   "execution_count": 75,
   "metadata": {},
   "outputs": [
    {
     "data": {
      "text/plain": [
       "'16GB'"
      ]
     },
     "execution_count": 75,
     "metadata": {},
     "output_type": "execute_result"
    }
   ],
   "source": [
    "comp1.RAM"
   ]
  },
  {
   "cell_type": "code",
   "execution_count": 76,
   "metadata": {},
   "outputs": [
    {
     "data": {
      "text/plain": [
       "'1TB'"
      ]
     },
     "execution_count": 76,
     "metadata": {},
     "output_type": "execute_result"
    }
   ],
   "source": [
    "comp1.HDD"
   ]
  },
  {
   "cell_type": "code",
   "execution_count": 77,
   "metadata": {},
   "outputs": [
    {
     "data": {
      "text/plain": [
       "'i5'"
      ]
     },
     "execution_count": 77,
     "metadata": {},
     "output_type": "execute_result"
    }
   ],
   "source": [
    "comp1.PROCESSOR"
   ]
  },
  {
   "cell_type": "code",
   "execution_count": 78,
   "metadata": {},
   "outputs": [
    {
     "name": "stdout",
     "output_type": "stream",
     "text": [
      "YOUR CONFIGURATION IS: 16GB 1TB i5\n"
     ]
    }
   ],
   "source": [
    "comp1.config()"
   ]
  },
  {
   "cell_type": "markdown",
   "metadata": {},
   "source": [
    "## Lets create  computer virtually using `Class` (Design) and `Instance of class` in python!"
   ]
  },
  {
   "cell_type": "code",
   "execution_count": 81,
   "metadata": {},
   "outputs": [
    {
     "name": "stdout",
     "output_type": "stream",
     "text": [
      "Computer Object created Successfully!\n"
     ]
    }
   ],
   "source": [
    "comp2 = MyComputer(\"8GB\",\"100TB\",\"i7\")"
   ]
  },
  {
   "cell_type": "code",
   "execution_count": 83,
   "metadata": {},
   "outputs": [
    {
     "name": "stdout",
     "output_type": "stream",
     "text": [
      "YOUR CONFIGURATION IS: 8GB 100TB i7\n"
     ]
    }
   ],
   "source": [
    "comp2.config()"
   ]
  },
  {
   "cell_type": "markdown",
   "metadata": {},
   "source": [
    "## Lets create  pet management system virtually using `Class` (Design) and `Instance of class` in python!"
   ]
  },
  {
   "cell_type": "markdown",
   "metadata": {},
   "source": [
    "* Let's take an example of developing a pet management system, specially meant for dogs.\n",
    "* You will need various information about the dogs like different breeds of the dogs, the age, size\n",
    "* You need to model real-life beings, i.e., dogs into software entities."
   ]
  },
  {
   "cell_type": "code",
   "execution_count": 108,
   "metadata": {},
   "outputs": [],
   "source": []
  },
  {
   "cell_type": "code",
   "execution_count": 116,
   "metadata": {},
   "outputs": [
    {
     "data": {
      "image/jpeg": "[encoded data removed]",
      "text/plain": [
       "<IPython.core.display.Image object>"
      ]
     },
     "metadata": {
      "image/jpeg": {
       "height": 190,
       "unconfined": true,
       "width": 600
      }
     },
     "output_type": "display_data"
    }
   ],
   "source": [
    "URL1 =  \"https://www.guru99.com/images/java/052016_0704_ObjectsandC1.jpg\"\n",
    "display(Image(URL1, width=Image_width,height=Image_Height, unconfined=True))"
   ]
  },
  {
   "cell_type": "code",
   "execution_count": 124,
   "metadata": {
    "collapsed": true
   },
   "outputs": [
    {
     "data": {
      "image/jpeg": "[encoded data removed]",
      "text/plain": [
       "<IPython.core.display.Image object>"
      ]
     },
     "metadata": {
      "image/jpeg": {
       "height": 190,
       "unconfined": true,
       "width": 600
      }
     },
     "output_type": "display_data"
    }
   ],
   "source": [
    "URL2 = \"https://www.guru99.com/images/java/052016_0704_ObjectsandC2.jpg\"\n",
    "display(Image(URL2,  width=Image_width,height=Image_Height, unconfined=True))"
   ]
  },
  {
   "cell_type": "markdown",
   "metadata": {},
   "source": [
    "* Some of the differences you might have listed out maybe breed, age, size, color, etc. \n",
    "* If you think for a minute, these differences are also some common characteristics shared by these dogs"
   ]
  },
  {
   "cell_type": "code",
   "execution_count": 118,
   "metadata": {},
   "outputs": [
    {
     "data": {
      "image/jpeg": "[encoded data removed]",
      "text/plain": [
       "<IPython.core.display.Image object>"
      ]
     },
     "metadata": {
      "image/jpeg": {
       "height": 190,
       "unconfined": true,
       "width": 600
      }
     },
     "output_type": "display_data"
    }
   ],
   "source": [
    "URL3=  \"https://www.guru99.com/images/java/052016_0704_ObjectsandC3.jpg\"\n",
    "display(Image(URL3, width=Image_width,height=Image_Height, unconfined=True))"
   ]
  },
  {
   "cell_type": "markdown",
   "metadata": {},
   "source": [
    "* Next, list out the common behaviors of these dogs like sleep, sit, eat, etc. So these will be the actions of our software objects."
   ]
  },
  {
   "cell_type": "code",
   "execution_count": 119,
   "metadata": {},
   "outputs": [
    {
     "data": {
      "image/jpeg": "[encoded data removed]",
      "text/plain": [
       "<IPython.core.display.Image object>"
      ]
     },
     "metadata": {
      "image/jpeg": {
       "height": 190,
       "unconfined": true,
       "width": 600
      }
     },
     "output_type": "display_data"
    }
   ],
   "source": [
    "URL4 = \"https://www.guru99.com/images/java/052016_0704_ObjectsandC4.jpg\"\n",
    "display(Image(URL4, width=Image_width,height=Image_Height, unconfined=True))"
   ]
  },
  {
   "cell_type": "markdown",
   "metadata": {},
   "source": [
    "So far we have defined following things,\n",
    "\n",
    "* Class - __Dogs__\n",
    "* __Data members__ or __Attributes__ or __Variables__ - size, age, color, breed, etc.\n",
    "* __Methods__- eat, sleep, sit and run."
   ]
  },
  {
   "cell_type": "code",
   "execution_count": 120,
   "metadata": {},
   "outputs": [
    {
     "data": {
      "image/jpeg": "[encoded data removed]",
      "text/plain": [
       "<IPython.core.display.Image object>"
      ]
     },
     "metadata": {
      "image/jpeg": {
       "height": 190,
       "unconfined": true,
       "width": 600
      }
     },
     "output_type": "display_data"
    }
   ],
   "source": [
    "URL5 = \"https://www.guru99.com/images/java/052016_0704_ObjectsandC5.jpg\"\n",
    "display(Image(URL5, width=Image_width,height = Image_Height, unconfined=True))"
   ]
  },
  {
   "cell_type": "markdown",
   "metadata": {},
   "source": [
    "Now, for different values of data members (breed size, age, and color) in Python class, you will get different dog objects."
   ]
  },
  {
   "cell_type": "code",
   "execution_count": 121,
   "metadata": {},
   "outputs": [
    {
     "data": {
      "image/jpeg": "[encoded data removed]",
      "text/plain": [
       "<IPython.core.display.Image object>"
      ]
     },
     "metadata": {
      "image/jpeg": {
       "height": 190,
       "unconfined": true,
       "width": 600
      }
     },
     "output_type": "display_data"
    }
   ],
   "source": [
    "URL6 = \"https://www.guru99.com/images/java/052016_0704_ObjectsandC6.jpg\"\n",
    "display(Image(URL4, width=Image_width,height = Image_Height, unconfined=True))"
   ]
  },
  {
   "cell_type": "code",
   "execution_count": 95,
   "metadata": {},
   "outputs": [],
   "source": [
    "class Dog:\n",
    "    def __init__(self,size,age,color,breed):\n",
    "        self.size = size\n",
    "        self.age =age\n",
    "        self.color = color\n",
    "        self.breed = breed\n",
    "    def eat(self):\n",
    "        print(\"my breed is {} and I started to eat now as per your request!\".format(self.breed))\n",
    "    def sleep(self):\n",
    "        print(\"my breed is {} and I am sleepy!\".format(self.breed))\n",
    "    def sit(self):\n",
    "        print(\"my breed is {} and I am sitting!\".format(self.breed))\n",
    "    def run(self):\n",
    "        print(\"my breed is {} and I am running!\".format(self.breed))"
   ]
  },
  {
   "cell_type": "code",
   "execution_count": 96,
   "metadata": {},
   "outputs": [],
   "source": [
    "mydog1 = Dog(size=\"6\",age=\"23\",color=\"White\",breed=\"X\")"
   ]
  },
  {
   "cell_type": "code",
   "execution_count": 100,
   "metadata": {},
   "outputs": [],
   "source": [
    "mydog2 = Dog(size=\"7\",age=\"26\",color=\"Black\",breed=\"Y\")"
   ]
  },
  {
   "cell_type": "code",
   "execution_count": 101,
   "metadata": {},
   "outputs": [],
   "source": [
    "mydog3 = Dog(size=\"8\",age=\"29\",color=\"Black & White\",breed=\"Z\")"
   ]
  },
  {
   "cell_type": "code",
   "execution_count": 102,
   "metadata": {},
   "outputs": [
    {
     "name": "stdout",
     "output_type": "stream",
     "text": [
      "my breed is Y and I started to eat now as per your request!\n"
     ]
    }
   ],
   "source": [
    "mydog2.eat()"
   ]
  },
  {
   "cell_type": "markdown",
   "metadata": {},
   "source": [
    "## Summarize:"
   ]
  },
  {
   "cell_type": "markdown",
   "metadata": {},
   "source": [
    "* Class is an entity that determines how an object will behave and what the object will contain\n",
    "*  object is a self-contained component which consists of methods and properties to make certain type of data useful"
   ]
  },
  {
   "cell_type": "markdown",
   "metadata": {},
   "source": [
    "## Self"
   ]
  },
  {
   "cell_type": "code",
   "execution_count": null,
   "metadata": {},
   "outputs": [],
   "source": []
  },
  {
   "cell_type": "code",
   "execution_count": null,
   "metadata": {},
   "outputs": [],
   "source": []
  },
  {
   "cell_type": "code",
   "execution_count": null,
   "metadata": {},
   "outputs": [],
   "source": []
  },
  {
   "cell_type": "code",
   "execution_count": null,
   "metadata": {},
   "outputs": [],
   "source": []
  },
  {
   "cell_type": "code",
   "execution_count": null,
   "metadata": {},
   "outputs": [],
   "source": []
  },
  {
   "cell_type": "code",
   "execution_count": 197,
   "metadata": {},
   "outputs": [],
   "source": [
    "class person:\n",
    "    def __init__(self,age,name):\n",
    "        self.age = age\n",
    "        self.name = name\n",
    "    def compare(self,some_object):\n",
    "        if self.age==some_object.age:\n",
    "            return True\n",
    "        else:\n",
    "            return False\n",
    "        \n",
    "    "
   ]
  },
  {
   "cell_type": "code",
   "execution_count": 209,
   "metadata": {},
   "outputs": [],
   "source": [
    "person1 = person(name=\"X\",age=23)"
   ]
  },
  {
   "cell_type": "code",
   "execution_count": 210,
   "metadata": {},
   "outputs": [],
   "source": [
    "person2 = person(name=\"Y\",age=23)"
   ]
  },
  {
   "cell_type": "code",
   "execution_count": 200,
   "metadata": {},
   "outputs": [
    {
     "data": {
      "text/plain": [
       "1811808653832"
      ]
     },
     "execution_count": 200,
     "metadata": {},
     "output_type": "execute_result"
    }
   ],
   "source": [
    "id(person1)"
   ]
  },
  {
   "cell_type": "code",
   "execution_count": 201,
   "metadata": {},
   "outputs": [
    {
     "data": {
      "text/plain": [
       "1811808656800"
      ]
     },
     "execution_count": 201,
     "metadata": {},
     "output_type": "execute_result"
    }
   ],
   "source": [
    "id(person2)"
   ]
  },
  {
   "cell_type": "code",
   "execution_count": 211,
   "metadata": {},
   "outputs": [
    {
     "name": "stdout",
     "output_type": "stream",
     "text": [
      "Ages are same\n"
     ]
    }
   ],
   "source": [
    "if person1.compare(person2):\n",
    "    print(\"Ages are same\")"
   ]
  },
  {
   "cell_type": "code",
   "execution_count": 194,
   "metadata": {},
   "outputs": [],
   "source": [
    "c1= person(age=23,name=\"Koti\")"
   ]
  },
  {
   "cell_type": "code",
   "execution_count": 195,
   "metadata": {},
   "outputs": [],
   "source": [
    "c2= person(name=\"Pavan\",age=25)# person 2"
   ]
  },
  {
   "cell_type": "code",
   "execution_count": 196,
   "metadata": {},
   "outputs": [
    {
     "data": {
      "text/plain": [
       "False"
      ]
     },
     "execution_count": 196,
     "metadata": {},
     "output_type": "execute_result"
    }
   ],
   "source": [
    "c1.compare(c2)"
   ]
  },
  {
   "cell_type": "code",
   "execution_count": 161,
   "metadata": {},
   "outputs": [
    {
     "name": "stdout",
     "output_type": "stream",
     "text": [
      "There ages are same!\n"
     ]
    }
   ],
   "source": [
    "if c1.compare(c2):\n",
    "    print(\"There ages are same!\")\n",
    "    \n",
    "else:\n",
    "    print(\"There ages are different!\")"
   ]
  },
  {
   "cell_type": "markdown",
   "metadata": {},
   "source": [
    "### Exercise:"
   ]
  },
  {
   "cell_type": "markdown",
   "metadata": {},
   "source": [
    "* Create Circel class to calculate the perimeter circumfarence and area.\n",
    "* Calculate all three measures (Area, Perimeter & Circumference) by initiating three new circle object with different radius.\n",
    "    * `Area (A) = pi*r*r    (pi = 3.14)`\n",
    "    * `Paremeter (P) = 2*pi*r`"
   ]
  },
  {
   "cell_type": "code",
   "execution_count": 230,
   "metadata": {},
   "outputs": [],
   "source": [
    "class Human:\n",
    "    cnt=0 # Class Variables\n",
    "    \n",
    "    def __init__(self,initial_weight):\n",
    "        self.weight = initial_weight # instanc Variables\n",
    "        print(\"Human Has Created, with weight {}\".format(self.weight))\n",
    "    \n",
    "    def Exercise(self):\n",
    "        self.cnt=self.cnt+1\n",
    "        self.weight = self.weight-20\n",
    "        print(\"Now your weight is {} after {} times of performing Exercise\".format(self.weight,self.cnt))"
   ]
  },
  {
   "cell_type": "code",
   "execution_count": 231,
   "metadata": {},
   "outputs": [
    {
     "name": "stdout",
     "output_type": "stream",
     "text": [
      "Human Has Created, with weight 100\n"
     ]
    }
   ],
   "source": [
    "h1 = Human(100)"
   ]
  },
  {
   "cell_type": "code",
   "execution_count": 238,
   "metadata": {},
   "outputs": [
    {
     "name": "stdout",
     "output_type": "stream",
     "text": [
      "Now your weight is 60 after 2 times of performing Exercise\n"
     ]
    }
   ],
   "source": [
    "h1.Exercise()"
   ]
  },
  {
   "cell_type": "code",
   "execution_count": 239,
   "metadata": {},
   "outputs": [
    {
     "name": "stdout",
     "output_type": "stream",
     "text": [
      "Human Has Created, with weight 200\n"
     ]
    }
   ],
   "source": [
    "h2 = Human(200)"
   ]
  },
  {
   "cell_type": "code",
   "execution_count": 236,
   "metadata": {},
   "outputs": [
    {
     "name": "stdout",
     "output_type": "stream",
     "text": [
      "Now your weight is 100 after 5 times\n"
     ]
    }
   ],
   "source": [
    "h2.Exercise()"
   ]
  },
  {
   "cell_type": "markdown",
   "metadata": {},
   "source": [
    "## Day 15"
   ]
  },
  {
   "cell_type": "markdown",
   "metadata": {},
   "source": [
    "## Types of Variables:"
   ]
  },
  {
   "cell_type": "markdown",
   "metadata": {},
   "source": [
    "* Instance Variables\n",
    "* Class/Static Variables"
   ]
  },
  {
   "cell_type": "markdown",
   "metadata": {},
   "source": [
    "* __Instance variables__ are variables used for data that is unique to a particular instance\n",
    "* Instance Variables are those we can change.\n",
    "* __Class Variables__ are variables that are shared by all instances of a class"
   ]
  },
  {
   "cell_type": "code",
   "execution_count": 162,
   "metadata": {},
   "outputs": [],
   "source": [
    "class Car:\n",
    "    def __init__(self,mileage,brand):\n",
    "        self.mileage = mileage\n",
    "        self.brand = brand"
   ]
  },
  {
   "cell_type": "code",
   "execution_count": 163,
   "metadata": {},
   "outputs": [],
   "source": [
    "c1 = Car(8,\"Martuhi\")"
   ]
  },
  {
   "cell_type": "code",
   "execution_count": 164,
   "metadata": {},
   "outputs": [],
   "source": [
    "c2= Car(12, \"BMW\")"
   ]
  },
  {
   "cell_type": "code",
   "execution_count": 165,
   "metadata": {},
   "outputs": [
    {
     "name": "stdout",
     "output_type": "stream",
     "text": [
      "8\n",
      "12\n"
     ]
    }
   ],
   "source": [
    "print(c1.mileage)\n",
    "print(c2.mileage)"
   ]
  },
  {
   "cell_type": "code",
   "execution_count": 166,
   "metadata": {},
   "outputs": [],
   "source": [
    "c1.mileage = 15"
   ]
  },
  {
   "cell_type": "code",
   "execution_count": 167,
   "metadata": {},
   "outputs": [
    {
     "name": "stdout",
     "output_type": "stream",
     "text": [
      "15\n"
     ]
    }
   ],
   "source": [
    "print(c1.mileage)"
   ]
  },
  {
   "cell_type": "code",
   "execution_count": 172,
   "metadata": {},
   "outputs": [],
   "source": [
    "c2.mileage = 20"
   ]
  },
  {
   "cell_type": "code",
   "execution_count": 174,
   "metadata": {},
   "outputs": [
    {
     "name": "stdout",
     "output_type": "stream",
     "text": [
      "20\n"
     ]
    }
   ],
   "source": [
    "print(c2.mileage)"
   ]
  },
  {
   "cell_type": "code",
   "execution_count": 252,
   "metadata": {},
   "outputs": [],
   "source": [
    "class Car:\n",
    "    wheels = 4\n",
    "    def __init__(self,mileage,brand):\n",
    "        self.mileage = mileage\n",
    "        self.brand = brand"
   ]
  },
  {
   "cell_type": "code",
   "execution_count": 253,
   "metadata": {},
   "outputs": [],
   "source": [
    "c1 = Car(8,\"Martuhi\")\n",
    "c2 = Car(8, \"BMW\")"
   ]
  },
  {
   "cell_type": "code",
   "execution_count": 245,
   "metadata": {},
   "outputs": [],
   "source": [
    "c1.mileage = 9"
   ]
  },
  {
   "cell_type": "code",
   "execution_count": 246,
   "metadata": {},
   "outputs": [
    {
     "data": {
      "text/plain": [
       "9"
      ]
     },
     "execution_count": 246,
     "metadata": {},
     "output_type": "execute_result"
    }
   ],
   "source": [
    "c1.mileage"
   ]
  },
  {
   "cell_type": "code",
   "execution_count": 242,
   "metadata": {},
   "outputs": [],
   "source": [
    "c2= Car(12, \"BMW\")"
   ]
  },
  {
   "cell_type": "code",
   "execution_count": 243,
   "metadata": {},
   "outputs": [
    {
     "data": {
      "text/plain": [
       "4"
      ]
     },
     "execution_count": 243,
     "metadata": {},
     "output_type": "execute_result"
    }
   ],
   "source": [
    "c1.wheels"
   ]
  },
  {
   "cell_type": "code",
   "execution_count": 244,
   "metadata": {},
   "outputs": [],
   "source": [
    "c1.wheels = 5"
   ]
  },
  {
   "cell_type": "code",
   "execution_count": 177,
   "metadata": {},
   "outputs": [
    {
     "name": "stdout",
     "output_type": "stream",
     "text": [
      "4\n"
     ]
    }
   ],
   "source": [
    "print(c2.wheels)"
   ]
  },
  {
   "cell_type": "code",
   "execution_count": 248,
   "metadata": {},
   "outputs": [],
   "source": [
    "Car.wheels=5 ## ALl objects attributes gets changes"
   ]
  },
  {
   "cell_type": "code",
   "execution_count": 254,
   "metadata": {},
   "outputs": [
    {
     "name": "stdout",
     "output_type": "stream",
     "text": [
      "4\n",
      "4\n"
     ]
    }
   ],
   "source": [
    "print(c2.wheels)\n",
    "\n",
    "print(c1.wheels)"
   ]
  },
  {
   "cell_type": "code",
   "execution_count": 255,
   "metadata": {},
   "outputs": [],
   "source": [
    "Car.wheels=5"
   ]
  },
  {
   "cell_type": "code",
   "execution_count": 256,
   "metadata": {},
   "outputs": [
    {
     "name": "stdout",
     "output_type": "stream",
     "text": [
      "5\n"
     ]
    }
   ],
   "source": [
    "print(c1.wheels)"
   ]
  },
  {
   "cell_type": "code",
   "execution_count": 257,
   "metadata": {},
   "outputs": [
    {
     "name": "stdout",
     "output_type": "stream",
     "text": [
      "5\n"
     ]
    }
   ],
   "source": [
    "print(c2.wheels)"
   ]
  },
  {
   "cell_type": "markdown",
   "metadata": {},
   "source": [
    "### Types of Methods"
   ]
  },
  {
   "cell_type": "markdown",
   "metadata": {},
   "source": [
    "* __Instance Method__: Method which uses instance variables\n",
    "* __Class Method__: Method which uses class Variables\n",
    "* __Static Method__: Method which doesn't use neither instance variabels nor class variabels but to do some extra operations."
   ]
  },
  {
   "cell_type": "code",
   "execution_count": 266,
   "metadata": {},
   "outputs": [],
   "source": [
    "class Student:\n",
    "    School = \"Nalanda\"\n",
    "    def __init__(self,name,m1,m2,m3):\n",
    "        self.name = name\n",
    "        self.m1=m1\n",
    "        self.m2 = m2\n",
    "        self.m3 =m3\n",
    "    def Avg(self):\n",
    "        avg = (self.m1 + self.m2 + self.m3)/3\n",
    "        print(\"Avg of {} is: {}\".format(self.name,round(avg,2)))"
   ]
  },
  {
   "cell_type": "code",
   "execution_count": 267,
   "metadata": {},
   "outputs": [],
   "source": [
    "s1 =Student(\"Ramu\",23,34,53)"
   ]
  },
  {
   "cell_type": "code",
   "execution_count": 268,
   "metadata": {},
   "outputs": [
    {
     "name": "stdout",
     "output_type": "stream",
     "text": [
      "Avg of Ramu is: 36.67\n"
     ]
    }
   ],
   "source": [
    "s1.Avg()"
   ]
  },
  {
   "cell_type": "code",
   "execution_count": 269,
   "metadata": {},
   "outputs": [],
   "source": [
    "s2 =Student(\"Ramu\",45,36,76)"
   ]
  },
  {
   "cell_type": "code",
   "execution_count": 270,
   "metadata": {},
   "outputs": [
    {
     "name": "stdout",
     "output_type": "stream",
     "text": [
      "Avg of Ramu is: 52.33\n"
     ]
    }
   ],
   "source": [
    "s2.Avg()"
   ]
  },
  {
   "cell_type": "code",
   "execution_count": 201,
   "metadata": {},
   "outputs": [],
   "source": [
    "class Student:\n",
    "    School = \"Nalanda\"\n",
    "    def __init__(self,name,m1,m2,m3):\n",
    "        self.name = name\n",
    "        self.m1=m1\n",
    "        self.m2=m2\n",
    "        self.m3=m3\n",
    "    def Avg(self):\n",
    "        avg = (self.m1+self.m2+self.m3)/3\n",
    "        print(\"Avg marks of {} is {}\".format(self.name,round(avg,2)))"
   ]
  },
  {
   "cell_type": "code",
   "execution_count": 202,
   "metadata": {},
   "outputs": [],
   "source": [
    "s1 = Student(\"Ganesh\",21,65,23)"
   ]
  },
  {
   "cell_type": "code",
   "execution_count": 203,
   "metadata": {},
   "outputs": [
    {
     "name": "stdout",
     "output_type": "stream",
     "text": [
      "Avg marks of Ganesh is 36.33\n"
     ]
    }
   ],
   "source": [
    "s1.Avg()"
   ]
  },
  {
   "cell_type": "code",
   "execution_count": 204,
   "metadata": {},
   "outputs": [],
   "source": [
    "s2 = Student(\"Naresh\",34,54,35)"
   ]
  },
  {
   "cell_type": "code",
   "execution_count": 205,
   "metadata": {},
   "outputs": [
    {
     "name": "stdout",
     "output_type": "stream",
     "text": [
      "Avg marks of Naresh is 41.0\n"
     ]
    }
   ],
   "source": [
    "s2.Avg()"
   ]
  },
  {
   "cell_type": "code",
   "execution_count": 208,
   "metadata": {},
   "outputs": [],
   "source": [
    "Student.School = \"Vidyanikethan\""
   ]
  },
  {
   "cell_type": "code",
   "execution_count": 11,
   "metadata": {},
   "outputs": [],
   "source": [
    "class Student:\n",
    "    School = \"Nalanda\"\n",
    "    \n",
    "    def __init__(self,name,m1,m2,m3):\n",
    "        self.name = name\n",
    "        self.m1=m1\n",
    "        self.m2=m2\n",
    "        self.m3=m3\n",
    "        \n",
    "    def Avg(self):                ## Instance Method\n",
    "        avg = (self.m1+self.m2+self.m3)/3\n",
    "        print(\"Avg marks of {} is {}\".format(self.name,round(avg,2)))\n",
    "        \n",
    "    \n",
    "    @instancemethod   \n",
    "    def getMySchool(cls):\n",
    "        print(\"{} is school\".format(cls.School))"
   ]
  },
  {
   "cell_type": "code",
   "execution_count": 12,
   "metadata": {},
   "outputs": [],
   "source": [
    "s1 = Student(\"x\",1,34,24)"
   ]
  },
  {
   "cell_type": "code",
   "execution_count": 13,
   "metadata": {},
   "outputs": [
    {
     "name": "stdout",
     "output_type": "stream",
     "text": [
      "Nalanda is school\n"
     ]
    }
   ],
   "source": [
    "s1.getMySchool()"
   ]
  },
  {
   "cell_type": "code",
   "execution_count": 7,
   "metadata": {},
   "outputs": [],
   "source": [
    "s2 = Student(\"y\",16,43,34)"
   ]
  },
  {
   "cell_type": "code",
   "execution_count": 277,
   "metadata": {},
   "outputs": [
    {
     "name": "stdout",
     "output_type": "stream",
     "text": [
      "Nalanda is school\n"
     ]
    }
   ],
   "source": [
    "s2.getSchool()"
   ]
  },
  {
   "cell_type": "code",
   "execution_count": 287,
   "metadata": {},
   "outputs": [],
   "source": [
    "Student.School = \"Vidyanikethan\""
   ]
  },
  {
   "cell_type": "code",
   "execution_count": 288,
   "metadata": {},
   "outputs": [],
   "source": [
    "s1 = Student(\"x\",1,34,24)"
   ]
  },
  {
   "cell_type": "code",
   "execution_count": 291,
   "metadata": {},
   "outputs": [
    {
     "data": {
      "text/plain": [
       "'Vidyanikethan'"
      ]
     },
     "execution_count": 291,
     "metadata": {},
     "output_type": "execute_result"
    }
   ],
   "source": []
  },
  {
   "cell_type": "code",
   "execution_count": 24,
   "metadata": {},
   "outputs": [],
   "source": [
    "class Student:\n",
    "    School = \"Nalanda\"\n",
    "    \n",
    "    def __init__(self,name,m1,m2,m3):\n",
    "        self.name = name\n",
    "        self.m1=m1\n",
    "        self.m2=m2\n",
    "        self.m3=m3\n",
    "        \n",
    "    def Avg(self):                ## Instance Method\n",
    "        avg = (self.m1+self.m2+self.m3)/3\n",
    "        print(\"Avg marks of {} is {}\".format(self.name,round(avg,2)))\n",
    "    \n",
    "    @classmethod                  ##  class method\n",
    "    def getSchool(cls):\n",
    "        print(\"its {}\".format(cls.School))\n",
    "        \n",
    "    @staticmethod                ## Static Method\n",
    "    def extraFeature():\n",
    "        print(\"This is my Extra Feature. I dont want class attributes, Instance Attributes to access me!\")"
   ]
  },
  {
   "cell_type": "code",
   "execution_count": 25,
   "metadata": {},
   "outputs": [],
   "source": [
    "s1 = Student(\"Ganesh\",21,65,23)"
   ]
  },
  {
   "cell_type": "code",
   "execution_count": 26,
   "metadata": {},
   "outputs": [
    {
     "name": "stdout",
     "output_type": "stream",
     "text": [
      "its Nalanda\n"
     ]
    }
   ],
   "source": [
    "Student.getSchool() # I want to access the method(uses class variable) through class name"
   ]
  },
  {
   "cell_type": "code",
   "execution_count": 27,
   "metadata": {},
   "outputs": [
    {
     "name": "stdout",
     "output_type": "stream",
     "text": [
      "This is my Extra Feature. I dont want class attributes, Instance Attributes to access me!\n"
     ]
    }
   ],
   "source": [
    "s1.extraFeature()"
   ]
  },
  {
   "cell_type": "code",
   "execution_count": 32,
   "metadata": {},
   "outputs": [
    {
     "name": "stdout",
     "output_type": "stream",
     "text": [
      "This is my Extra Feature. I dont want class attributes, Instance Attributes to access me!\n"
     ]
    }
   ],
   "source": [
    "s1.extraFeature()"
   ]
  },
  {
   "cell_type": "markdown",
   "metadata": {},
   "source": [
    "## Design Basic banking system:\n",
    " * Create Differerent accounts for different users with Some initial Balance in his A/C.\n",
    " * User should be able to perform `Deposit` and `Withdrawl` Operations so that Amount has to be changed respectively.\n",
    " * "
   ]
  },
  {
   "cell_type": "code",
   "execution_count": 74,
   "metadata": {},
   "outputs": [],
   "source": [
    "class Account:\n",
    "    \n",
    "    def __init__(self,name,inital_amt):\n",
    "        # Random generate 6 digit number to him.\n",
    "        \n",
    "        self.name = name\n",
    "        self.balance = inital_amt\n",
    "        print(\"Welcome {}! Your A/C has created succesfully!\".format(self.name,self.balance))\n",
    "        self.checkBalance()\n",
    "    \n",
    "    def Deposit(self,deposit_amt):\n",
    "        self.balance = self.balance + deposit_amt\n",
    "        print(\"Deposited Successfully!\")\n",
    "        self.checkBalance()\n",
    "        \n",
    "    def Withdraw(self,withdrawn_amt):\n",
    "        if withdrawn_amt<=self.balance:\n",
    "            self.balance = self.balance-withdrawn_amt\n",
    "            print(\"Withdrawn Successfully!\")\n",
    "            self.checkBalance()\n",
    "        else:\n",
    "            print(\"Insufficient Funds!\")\n",
    "            \n",
    "    def GeneratePin():\n",
    "        pin = ()\n",
    "    def checkBalance(self):\n",
    "        print(\"\\nAvl.Balance is {}\".format(self.balance))"
   ]
  },
  {
   "cell_type": "code",
   "execution_count": null,
   "metadata": {},
   "outputs": [],
   "source": [
    "# If user deposited 10K INR so add 3% Intrest Rate in his balance. and Display It!\n",
    "# Add PIN Num"
   ]
  },
  {
   "cell_type": "code",
   "execution_count": 79,
   "metadata": {},
   "outputs": [
    {
     "name": "stdout",
     "output_type": "stream",
     "text": [
      "Welcome Rajesh! Your A/C has created succesfully!\n",
      "\n",
      "Avl.Balance is 100\n"
     ]
    }
   ],
   "source": [
    "u1 = Account(name=\"Rajesh\",inital_amt=100)"
   ]
  },
  {
   "cell_type": "code",
   "execution_count": 80,
   "metadata": {},
   "outputs": [
    {
     "name": "stdout",
     "output_type": "stream",
     "text": [
      "\n",
      "Avl.Balance is 100\n"
     ]
    }
   ],
   "source": [
    "u1.checkBalance()"
   ]
  },
  {
   "cell_type": "code",
   "execution_count": 81,
   "metadata": {},
   "outputs": [
    {
     "name": "stdout",
     "output_type": "stream",
     "text": [
      "Deposited Successfully!\n",
      "\n",
      "Avl.Balance is 2100\n"
     ]
    }
   ],
   "source": [
    "u1.Deposit(2000)"
   ]
  },
  {
   "cell_type": "code",
   "execution_count": 82,
   "metadata": {},
   "outputs": [
    {
     "name": "stdout",
     "output_type": "stream",
     "text": [
      "Insufficient Funds!\n"
     ]
    }
   ],
   "source": [
    "u1.Withdraw(2101)"
   ]
  },
  {
   "cell_type": "code",
   "execution_count": 83,
   "metadata": {},
   "outputs": [
    {
     "name": "stdout",
     "output_type": "stream",
     "text": [
      "Withdrawn Successfully!\n",
      "\n",
      "Avl.Balance is 0\n"
     ]
    }
   ],
   "source": [
    "u1.Withdraw(2100)"
   ]
  },
  {
   "cell_type": "code",
   "execution_count": 84,
   "metadata": {},
   "outputs": [
    {
     "name": "stdout",
     "output_type": "stream",
     "text": [
      "Insufficient Funds!\n"
     ]
    }
   ],
   "source": [
    "u1.Withdraw(2100)"
   ]
  },
  {
   "cell_type": "code",
   "execution_count": 85,
   "metadata": {},
   "outputs": [
    {
     "name": "stdout",
     "output_type": "stream",
     "text": [
      "Welcome koti! Your A/C has created succesfully!\n",
      "\n",
      "Avl.Balance is 400\n"
     ]
    }
   ],
   "source": [
    "u2 = Account(\"koti\",inital_amt=400)"
   ]
  },
  {
   "cell_type": "code",
   "execution_count": null,
   "metadata": {},
   "outputs": [],
   "source": [
    "u2 = Account(\"koti\",inital_amt=400)"
   ]
  },
  {
   "cell_type": "code",
   "execution_count": 86,
   "metadata": {},
   "outputs": [
    {
     "name": "stdout",
     "output_type": "stream",
     "text": [
      "\n",
      "Avl.Balance is 400\n"
     ]
    }
   ],
   "source": [
    "u2.checkBalance()"
   ]
  },
  {
   "cell_type": "code",
   "execution_count": 87,
   "metadata": {},
   "outputs": [
    {
     "name": "stdout",
     "output_type": "stream",
     "text": [
      "Deposited Successfully!\n",
      "\n",
      "Avl.Balance is 34400\n"
     ]
    }
   ],
   "source": [
    "u2.Deposit(34000)"
   ]
  },
  {
   "cell_type": "code",
   "execution_count": 88,
   "metadata": {},
   "outputs": [
    {
     "name": "stdout",
     "output_type": "stream",
     "text": [
      "Withdrawn Successfully!\n",
      "\n",
      "Avl.Balance is 29400\n"
     ]
    }
   ],
   "source": [
    "u2.Withdraw(5000)"
   ]
  },
  {
   "cell_type": "code",
   "execution_count": 89,
   "metadata": {},
   "outputs": [
    {
     "name": "stdout",
     "output_type": "stream",
     "text": [
      "\n",
      "Avl.Balance is 29400\n"
     ]
    }
   ],
   "source": [
    "u2.checkBalance()"
   ]
  },
  {
   "cell_type": "code",
   "execution_count": null,
   "metadata": {},
   "outputs": [],
   "source": []
  },
  {
   "cell_type": "code",
   "execution_count": null,
   "metadata": {},
   "outputs": [],
   "source": []
  },
  {
   "cell_type": "code",
   "execution_count": 102,
   "metadata": {},
   "outputs": [],
   "source": [
    "class Account:\n",
    "    \n",
    "    def __init__(self,name,inital_amount):\n",
    "        self.user = name\n",
    "        self.avail_amount = inital_amount\n",
    "        print(\"Congraulations {}! Your bank account has created succesfully!\\n\\nAvl.Balance in your account is: INR {}/-\".format(self.user,self.avail_amount))\n",
    "    \n",
    "    def checkBalance(self):\n",
    "        print(\"Avl.Balance in your A/C is: INR {}/-\".format(self.avail_amount))\n",
    "    \n",
    "    def Deposit(self,dep_amount):\n",
    "        self.avail_amount = dep_amount + self.avail_amount\n",
    "        #print(\"Deposited {} succesfully. Avl.balance in Your A/C is: INR {}/-\".format(dep_amount,self.avail_amount))\n",
    "        print(\"Deposited {} succesfully\\n\".format(dep_amount))\n",
    "        self.checkBalance()\n",
    "    def Withdraw(self,withdrawn_amount):\n",
    "        if withdrawn_amount<=self.avail_amount:\n",
    "            self.avail_amount = self.avail_amount - withdrawn_amount\n",
    "            #print(\"Amount INR {}/- withdrawn succesfully!. Avl.Balance is: INR {} /-\".format(withdrawn_amount,self.avail_amount))\n",
    "            print(\"Amount INR {}/- withdrawn succesfully!\\n\".format(withdrawn_amount))\n",
    "            self.checkBalance()\n",
    "        else:\n",
    "            print(\"Insufficient Balance!\")"
   ]
  },
  {
   "cell_type": "markdown",
   "metadata": {},
   "source": [
    "**ACCOUNT - 1**"
   ]
  },
  {
   "cell_type": "code",
   "execution_count": 103,
   "metadata": {},
   "outputs": [
    {
     "name": "stdout",
     "output_type": "stream",
     "text": [
      "Congraulations pavan! Your bank account has created succesfully!\n",
      "\n",
      "Avl.Balance in your account is: INR 100/-\n"
     ]
    }
   ],
   "source": [
    "user1=Account(\"pavan\",100)"
   ]
  },
  {
   "cell_type": "code",
   "execution_count": 104,
   "metadata": {},
   "outputs": [
    {
     "name": "stdout",
     "output_type": "stream",
     "text": [
      "Deposited 200 succesfully\n",
      "\n",
      "Avl.Balance in your A/C is: INR 300/-\n"
     ]
    }
   ],
   "source": [
    "user1.Deposit(200)"
   ]
  },
  {
   "cell_type": "code",
   "execution_count": 105,
   "metadata": {},
   "outputs": [
    {
     "name": "stdout",
     "output_type": "stream",
     "text": [
      "Insufficient Balance!\n"
     ]
    }
   ],
   "source": [
    "user1.Withdraw(500)"
   ]
  },
  {
   "cell_type": "code",
   "execution_count": 106,
   "metadata": {},
   "outputs": [
    {
     "name": "stdout",
     "output_type": "stream",
     "text": [
      "Amount INR 299/- withdrawn succesfully!\n",
      "\n",
      "Avl.Balance in your A/C is: INR 1/-\n"
     ]
    }
   ],
   "source": [
    "user1.Withdraw(299)"
   ]
  },
  {
   "cell_type": "markdown",
   "metadata": {},
   "source": [
    "**ACCOUNT - 2**"
   ]
  },
  {
   "cell_type": "code",
   "execution_count": 70,
   "metadata": {},
   "outputs": [
    {
     "name": "stdout",
     "output_type": "stream",
     "text": [
      "Congraulations Koteswari! Your Account has created Succesfully!.\n",
      "Avl.Balance In your Account is: INR 10000/-\n"
     ]
    }
   ],
   "source": [
    "user2=Account(\"Koteswari\",10000)"
   ]
  },
  {
   "cell_type": "code",
   "execution_count": 72,
   "metadata": {},
   "outputs": [
    {
     "name": "stdout",
     "output_type": "stream",
     "text": [
      "Amount INR 4000/- withdrawn Succesfully!. Updated Balance is: INR 6000 /-\n"
     ]
    }
   ],
   "source": [
    "user2.Withdraw(4000)"
   ]
  },
  {
   "cell_type": "markdown",
   "metadata": {},
   "source": [
    "## Properties of OOPS:"
   ]
  },
  {
   "cell_type": "markdown",
   "metadata": {},
   "source": [
    "<img src = \"CoreConcepts_OOPS.png\" height=700 width=400></img>"
   ]
  },
  {
   "cell_type": "markdown",
   "metadata": {},
   "source": [
    "## Inheritance:"
   ]
  },
  {
   "cell_type": "markdown",
   "metadata": {},
   "source": [
    "* Acquiring Properties of already existed class in newly created class is called inheritance.\n",
    "* Here Already Created class we called as PARENT CLASS/SUPER CLASS\n",
    "* Class which tries to inherits features from PARENT IS called as CHILD CLASS/SUB CLASS"
   ]
  },
  {
   "cell_type": "code",
   "execution_count": 124,
   "metadata": {},
   "outputs": [],
   "source": [
    "class A:\n",
    "    def Feature1(self):\n",
    "        print(\"Feature 1 is working from A Class\")\n",
    "    def Feature2(self):\n",
    "        print(\"Feature 2 is working from A Class\")"
   ]
  },
  {
   "cell_type": "code",
   "execution_count": 125,
   "metadata": {},
   "outputs": [],
   "source": [
    "a = A()"
   ]
  },
  {
   "cell_type": "code",
   "execution_count": 126,
   "metadata": {},
   "outputs": [
    {
     "name": "stdout",
     "output_type": "stream",
     "text": [
      "Feature 1 is working from A Class\n"
     ]
    }
   ],
   "source": [
    "a.Feature1()"
   ]
  },
  {
   "cell_type": "code",
   "execution_count": 127,
   "metadata": {},
   "outputs": [
    {
     "name": "stdout",
     "output_type": "stream",
     "text": [
      "Feature 2 is working from A Class\n"
     ]
    }
   ],
   "source": [
    "a.Feature2()"
   ]
  },
  {
   "cell_type": "code",
   "execution_count": 130,
   "metadata": {},
   "outputs": [],
   "source": [
    "class B:\n",
    "    def Feature3(self):\n",
    "        print(\"Feature 3 is working from B Class\")\n",
    "    def Feature4(self):\n",
    "        print(\"Feature 4 is working from B Class\")\n",
    "    def Feature5(self):\n",
    "        print(\"Feature 5 is working from B Class\")"
   ]
  },
  {
   "cell_type": "code",
   "execution_count": 131,
   "metadata": {},
   "outputs": [],
   "source": [
    "b = B()"
   ]
  },
  {
   "cell_type": "markdown",
   "metadata": {},
   "source": [
    "Can i access the features of class A now??"
   ]
  },
  {
   "cell_type": "markdown",
   "metadata": {},
   "source": [
    "<img src = \"single Inhertiance.png\" height=500 width=200></img>"
   ]
  },
  {
   "cell_type": "markdown",
   "metadata": {},
   "source": [
    "__Single Inheritance__"
   ]
  },
  {
   "cell_type": "code",
   "execution_count": 135,
   "metadata": {},
   "outputs": [],
   "source": [
    "class B(A):#----------------------> Inheriting Class A Features\n",
    "    def Feature3(self):\n",
    "        print(\"Feature 3 is working from B Class\")\n",
    "    def Feature4(self):\n",
    "        print(\"Feature 4 is working from B Class\")\n",
    "    def Feature5(self):\n",
    "        print(\"Feature 5 is working from B Class\")"
   ]
  },
  {
   "cell_type": "code",
   "execution_count": 136,
   "metadata": {},
   "outputs": [],
   "source": [
    "b=B()"
   ]
  },
  {
   "cell_type": "code",
   "execution_count": 138,
   "metadata": {},
   "outputs": [
    {
     "name": "stdout",
     "output_type": "stream",
     "text": [
      "Feature 1 is working from A Class\n",
      "Feature 3 is working from B Class\n"
     ]
    }
   ],
   "source": [
    "b.Feature1()\n",
    "b.Feature3()"
   ]
  },
  {
   "cell_type": "markdown",
   "metadata": {},
   "source": [
    "I am defining One more class C"
   ]
  },
  {
   "cell_type": "markdown",
   "metadata": {},
   "source": [
    "__MultiLevel Inherticance__"
   ]
  },
  {
   "cell_type": "code",
   "execution_count": 141,
   "metadata": {},
   "outputs": [],
   "source": [
    "class C(B):#-----------------------------> Inheriting Class B Properties (Here Indirectly Class A also)\n",
    "    def Feature6(self):\n",
    "        print(\"I am feature 6 and belongs to class C\")\n",
    "    def Feature7(self):\n",
    "        print(\"I am feature 7 and belongs to class C\")"
   ]
  },
  {
   "cell_type": "markdown",
   "metadata": {},
   "source": [
    "<img src = \"Multilevel Inheritance.png\" height=400 width=150></img>"
   ]
  },
  {
   "cell_type": "code",
   "execution_count": 142,
   "metadata": {},
   "outputs": [],
   "source": [
    "c = C()"
   ]
  },
  {
   "cell_type": "code",
   "execution_count": 143,
   "metadata": {},
   "outputs": [
    {
     "name": "stdout",
     "output_type": "stream",
     "text": [
      "Feature 1 is working from A Class\n"
     ]
    }
   ],
   "source": [
    "c.Feature1()"
   ]
  },
  {
   "cell_type": "code",
   "execution_count": 144,
   "metadata": {},
   "outputs": [
    {
     "name": "stdout",
     "output_type": "stream",
     "text": [
      "Feature 4 is working from B Class\n"
     ]
    }
   ],
   "source": [
    "c.Feature4()"
   ]
  },
  {
   "cell_type": "code",
   "execution_count": 145,
   "metadata": {},
   "outputs": [
    {
     "name": "stdout",
     "output_type": "stream",
     "text": [
      "I am feature 7 and belongs to class C\n"
     ]
    }
   ],
   "source": [
    "c.Feature7()"
   ]
  },
  {
   "cell_type": "markdown",
   "metadata": {},
   "source": [
    "__ Multiple Inhertiance__"
   ]
  },
  {
   "cell_type": "code",
   "execution_count": 148,
   "metadata": {},
   "outputs": [],
   "source": [
    "class A:\n",
    "    def Feature1(self):\n",
    "        print(\"Feature 1 is working from A Class\")\n",
    "    def Feature2(self):\n",
    "        print(\"Feature 2 is working from A Class\")"
   ]
  },
  {
   "cell_type": "code",
   "execution_count": 149,
   "metadata": {},
   "outputs": [],
   "source": [
    "class B:\n",
    "    def Feature3(self):\n",
    "        print(\"Feature 3 is working from B Class\")\n",
    "    def Feature4(self):\n",
    "        print(\"Feature 4 is working from B Class\")\n",
    "    def Feature5(self):\n",
    "        print(\"Feature 5 is working from B Class\")"
   ]
  },
  {
   "cell_type": "markdown",
   "metadata": {},
   "source": [
    "<img src = \"Mulitple Inheritance.png\" height=600 width=300></img>"
   ]
  },
  {
   "cell_type": "code",
   "execution_count": 150,
   "metadata": {},
   "outputs": [],
   "source": [
    "class C(A,B):#-------------------> Multiple Inhertiance (C acquiring all properties of A and B)\n",
    "    def Feature6(self):\n",
    "        print(\"I am feature 6 and belongs to class C\")\n",
    "    def Feature7(self):\n",
    "        print(\"I am feature 7 and belongs to class C\")"
   ]
  },
  {
   "cell_type": "code",
   "execution_count": 152,
   "metadata": {},
   "outputs": [],
   "source": [
    "c =C()"
   ]
  },
  {
   "cell_type": "code",
   "execution_count": 154,
   "metadata": {},
   "outputs": [
    {
     "name": "stdout",
     "output_type": "stream",
     "text": [
      "Feature 1 is working from A Class\n"
     ]
    }
   ],
   "source": [
    "c.Feature1()"
   ]
  },
  {
   "cell_type": "code",
   "execution_count": 155,
   "metadata": {},
   "outputs": [
    {
     "name": "stdout",
     "output_type": "stream",
     "text": [
      "Feature 5 is working from B Class\n"
     ]
    }
   ],
   "source": [
    "c.Feature5()"
   ]
  },
  {
   "cell_type": "code",
   "execution_count": 157,
   "metadata": {},
   "outputs": [
    {
     "name": "stdout",
     "output_type": "stream",
     "text": [
      "I am feature 7 and belongs to class C\n"
     ]
    }
   ],
   "source": [
    "c.Feature7()"
   ]
  },
  {
   "cell_type": "markdown",
   "metadata": {},
   "source": [
    "# Example:"
   ]
  },
  {
   "cell_type": "code",
   "execution_count": 160,
   "metadata": {},
   "outputs": [],
   "source": [
    "class Animal:\n",
    "    def __init__(self):\n",
    "        print(\"Animal created\")\n",
    "\n",
    "    def whoAmI(self):\n",
    "        print(\"Animal\")\n",
    "\n",
    "    def eat(self):\n",
    "        print(\"Eating\")"
   ]
  },
  {
   "cell_type": "code",
   "execution_count": 166,
   "metadata": {},
   "outputs": [],
   "source": [
    "class Dog(Animal):\n",
    "    def __init__(self):\n",
    "        Animal.__init__(self)\n",
    "        print(\"Dog created\")\n",
    "\n",
    "    def whoAmI(self):\n",
    "        print(\"Dog\")\n",
    "\n",
    "    def bark(self):\n",
    "        print(\"Bow Bow!\")"
   ]
  },
  {
   "cell_type": "code",
   "execution_count": 167,
   "metadata": {},
   "outputs": [
    {
     "name": "stdout",
     "output_type": "stream",
     "text": [
      "Animal created\n",
      "Dog created\n"
     ]
    }
   ],
   "source": [
    "d = Dog()"
   ]
  },
  {
   "cell_type": "code",
   "execution_count": 168,
   "metadata": {},
   "outputs": [
    {
     "name": "stdout",
     "output_type": "stream",
     "text": [
      "Dog\n"
     ]
    }
   ],
   "source": [
    "d.whoAmI()"
   ]
  },
  {
   "cell_type": "code",
   "execution_count": 169,
   "metadata": {},
   "outputs": [
    {
     "name": "stdout",
     "output_type": "stream",
     "text": [
      "Eating\n"
     ]
    }
   ],
   "source": [
    "d.eat()"
   ]
  },
  {
   "cell_type": "code",
   "execution_count": 170,
   "metadata": {},
   "outputs": [
    {
     "name": "stdout",
     "output_type": "stream",
     "text": [
      "Bow Bow!\n"
     ]
    }
   ],
   "source": [
    "d.bark()"
   ]
  },
  {
   "cell_type": "markdown",
   "metadata": {},
   "source": [
    "## Constructor in Inheritance"
   ]
  },
  {
   "cell_type": "code",
   "execution_count": 185,
   "metadata": {},
   "outputs": [],
   "source": [
    "class A:\n",
    "    def __init__(self):\n",
    "        print(\"i am init of A\")\n",
    "    def Feature1(self):\n",
    "        print(\"I am feature 1 belongs to class A\")\n",
    "    def Feature2(self):\n",
    "        print(\"I am feature 2 bleong to class B\")"
   ]
  },
  {
   "cell_type": "code",
   "execution_count": 180,
   "metadata": {},
   "outputs": [],
   "source": [
    "class B(A):\n",
    "    def Feature1(self):\n",
    "        print(\"I am Feature 1 Belongs to Class B\")"
   ]
  },
  {
   "cell_type": "code",
   "execution_count": 173,
   "metadata": {},
   "outputs": [
    {
     "name": "stdout",
     "output_type": "stream",
     "text": [
      "i am init A\n"
     ]
    }
   ],
   "source": [
    "a=A()"
   ]
  },
  {
   "cell_type": "code",
   "execution_count": 174,
   "metadata": {},
   "outputs": [
    {
     "name": "stdout",
     "output_type": "stream",
     "text": [
      "i am init A\n"
     ]
    }
   ],
   "source": [
    "b=B()"
   ]
  },
  {
   "cell_type": "code",
   "execution_count": 175,
   "metadata": {},
   "outputs": [],
   "source": [
    "class B(A):\n",
    "    def __init__(self):\n",
    "        print(\"i am init of B\")\n",
    "    def Feature1(self):\n",
    "        print(\"I am Feature 1 Belongs to Class B\")"
   ]
  },
  {
   "cell_type": "code",
   "execution_count": 176,
   "metadata": {},
   "outputs": [
    {
     "name": "stdout",
     "output_type": "stream",
     "text": [
      "i am init A\n"
     ]
    }
   ],
   "source": [
    "a=A()"
   ]
  },
  {
   "cell_type": "code",
   "execution_count": 177,
   "metadata": {},
   "outputs": [
    {
     "name": "stdout",
     "output_type": "stream",
     "text": [
      "i am init of B\n"
     ]
    }
   ],
   "source": [
    "b=B()"
   ]
  },
  {
   "cell_type": "markdown",
   "metadata": {},
   "source": [
    "How can i call two constructors"
   ]
  },
  {
   "cell_type": "code",
   "execution_count": 186,
   "metadata": {},
   "outputs": [],
   "source": [
    "class B(A):\n",
    "    def __init__(self):\n",
    "        super().__init__()\n",
    "        print(\"i am init of B\")\n",
    "    def Feature1(self):\n",
    "        print(\"I am Feature 1 Belongs to Class B\")"
   ]
  },
  {
   "cell_type": "code",
   "execution_count": 187,
   "metadata": {},
   "outputs": [
    {
     "name": "stdout",
     "output_type": "stream",
     "text": [
      "i am init of A\n",
      "i am init of B\n"
     ]
    }
   ],
   "source": [
    "b=B()"
   ]
  },
  {
   "cell_type": "markdown",
   "metadata": {},
   "source": [
    "* While Inherting parent class to child class, Child class constructor gets called if it doesn't has its own constructor.\n",
    "* If it has its own constructor then it will call itself."
   ]
  },
  {
   "cell_type": "markdown",
   "metadata": {},
   "source": [
    "Let's look at multiple inheritance"
   ]
  },
  {
   "cell_type": "code",
   "execution_count": 188,
   "metadata": {},
   "outputs": [],
   "source": [
    "class A:\n",
    "    def __init__(self):\n",
    "        print(\"i am init of A\")\n",
    "    def Feature1(self):\n",
    "        print(\"I am feature 1 belongs to class A\")\n",
    "    def Feature2(self):\n",
    "        print(\"I am feature 2 bleong to class B\")\n",
    "class B:\n",
    "    def __init__(self):\n",
    "        print(\"i am init of B\")\n",
    "    def Feature1(self):\n",
    "        print(\"I am feature 1 belongs to class A\")\n",
    "    def Feature4(self):\n",
    "        print(\"I am feature 4 bleong to class B\")\n"
   ]
  },
  {
   "cell_type": "code",
   "execution_count": 189,
   "metadata": {},
   "outputs": [],
   "source": [
    "class C(A,B):\n",
    "    def __init__(self):\n",
    "        super().__init__()\n",
    "        \n",
    "        print(\"I am init of C\")\n",
    "    def Feature4(self):\n",
    "        print(\"I am feature 4 belongs to class C\")"
   ]
  },
  {
   "cell_type": "code",
   "execution_count": 190,
   "metadata": {},
   "outputs": [
    {
     "name": "stdout",
     "output_type": "stream",
     "text": [
      "i am init of A\n",
      "I am init of C\n"
     ]
    }
   ],
   "source": [
    "c=C()"
   ]
  },
  {
   "cell_type": "markdown",
   "metadata": {},
   "source": [
    "<img src = \"Mulitple Inheritance.png\" height=600 width=300></img>"
   ]
  },
  {
   "cell_type": "markdown",
   "metadata": {},
   "source": [
    "So its calling Construtor of class from left to right."
   ]
  }
 ],
 "metadata": {
  "kernelspec": {
   "display_name": "Python 3",
   "language": "python",
   "name": "python3"
  },
  "language_info": {
   "codemirror_mode": {
    "name": "ipython",
    "version": 3
   },
   "file_extension": ".py",
   "mimetype": "text/x-python",
   "name": "python",
   "nbconvert_exporter": "python",
   "pygments_lexer": "ipython3",
   "version": "3.6.3"
  }
 },
 "nbformat": 4,
 "nbformat_minor": 2
}
