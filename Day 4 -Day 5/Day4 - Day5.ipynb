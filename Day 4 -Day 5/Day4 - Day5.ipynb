{
 "cells": [
  {
   "cell_type": "code",
   "execution_count": null,
   "metadata": {},
   "outputs": [],
   "source": [
    "from IPython.display import Image\n",
    "from IPython.core.display import Image, display"
   ]
  },
  {
   "cell_type": "markdown",
   "metadata": {},
   "source": [
    "# Introduction to Python Statements\n",
    "* Instructions that a Python interpreter can execute are called statements. For example, a = 1 is an assignment statement. \n",
    "* <code>if</code> statement, <code>for</code> statement, <code>while</code> statement etc. are other kinds of statements which will be discussed later"
   ]
  },
  {
   "cell_type": "markdown",
   "metadata": {},
   "source": [
    "## Python vs Other Languages\n",
    "\n",
    "Let's create a simple statement that says:\n",
    "\"If a is greater than b, assign 2 to a and 4 to b\"\n",
    "\n",
    "Take a look at these two if statements (we will learn about building out if statements soon).\n",
    "\n",
    "**Version 1 (Other Languages)**\n",
    "\n",
    "    if (a>b){\n",
    "        a = 2;\n",
    "        b = 4;\n",
    "    }\n",
    "                        \n",
    "**Version 2 (Python)**   \n",
    "\n",
    "    if a>b:\n",
    "        a = 2\n",
    "        b = 4"
   ]
  },
  {
   "cell_type": "markdown",
   "metadata": {},
   "source": [
    "### Python Indentation"
   ]
  },
  {
   "cell_type": "markdown",
   "metadata": {},
   "source": [
    "* Most of the programming languages like C, C++, Java use braces { } to define a block of code. Python uses indentation.\n",
    "* The amount of indentation is up to you, but it must be consistent throughout that block.\n",
    "* Generally four whitespaces are used for indentation and is preferred over tabs. \n",
    "\n",
    "##### Ex:\n",
    "<code>\n",
    "for i in range(1,11):\n",
    "    print(i)\n",
    "    if i == 5:\n",
    "        break\n",
    "</code>\n",
    "\n",
    "* The enforcement of indentation in Python makes the code look neat and clean. This results into Python programs that look similar and consistent.\n",
    "* Incorrect indentation will result into IndentationError."
   ]
  },
  {
   "cell_type": "markdown",
   "metadata": {},
   "source": [
    "# if, elif, else Statements\n",
    "\n",
    "* <code>if</code> Statements in Python allows us to tell the computer to perform alternative actions based on a certain set of results.\n",
    "\n",
    "* Verbally, we can imagine we are telling the computer:\n",
    "\n",
    "    * \"Hey if this case happens, perform some action\"\n",
    "    * \"Hey if this case happens, perform some action. Else, if another case happens, perform some other action. Else, if *none* of the above cases happened, perform this action.\""
   ]
  },
  {
   "cell_type": "markdown",
   "metadata": {},
   "source": [
    "### Syntax:"
   ]
  },
  {
   "cell_type": "markdown",
   "metadata": {},
   "source": [
    "syntax for if"
   ]
  },
  {
   "cell_type": "markdown",
   "metadata": {},
   "source": [
    "<code>if test expression:\n",
    "    statement(s)</code>"
   ]
  },
  {
   "cell_type": "markdown",
   "metadata": {},
   "source": [
    "* Here, the program evaluates the test expression and will execute statement(s) only if the text expression is True.\n",
    "\n",
    "* If the text expression is False, the statement(s) is not executed.\n",
    "* Python interprets non-zero values as True. None and 0 are interpreted as False."
   ]
  },
  {
   "cell_type": "code",
   "execution_count": 108,
   "metadata": {},
   "outputs": [
    {
     "name": "stdout",
     "output_type": "stream",
     "text": [
      "It was true!\n",
      "Secone Line\n"
     ]
    }
   ],
   "source": [
    "if True:\n",
    "                            print('It was true!')\n",
    "                            print(\"Secone Line\")"
   ]
  },
  {
   "cell_type": "code",
   "execution_count": 109,
   "metadata": {},
   "outputs": [
    {
     "name": "stdout",
     "output_type": "stream",
     "text": [
      "If Block\n"
     ]
    }
   ],
   "source": [
    "if 2:\n",
    "    print(\"If Block\")"
   ]
  },
  {
   "cell_type": "code",
   "execution_count": 113,
   "metadata": {},
   "outputs": [
    {
     "data": {
      "text/plain": [
       "False"
      ]
     },
     "execution_count": 113,
     "metadata": {},
     "output_type": "execute_result"
    }
   ],
   "source": [
    "bool(None)"
   ]
  },
  {
   "cell_type": "code",
   "execution_count": null,
   "metadata": {},
   "outputs": [],
   "source": [
    "num = 3\n",
    "if num > 0:\n",
    "    print(num, \"is a positive number.\")\n",
    "print(\"This is always printed.\")"
   ]
  },
  {
   "cell_type": "code",
   "execution_count": null,
   "metadata": {},
   "outputs": [],
   "source": [
    "num = -1\n",
    "if num > 0:\n",
    "    print(num, \"is a positive number.\")\n",
    "print(\"This is also always printed.\")"
   ]
  },
  {
   "cell_type": "code",
   "execution_count": null,
   "metadata": {},
   "outputs": [],
   "source": [
    "x = False\n",
    "\n",
    "if x:\n",
    "    print('x was True!')\n",
    "else:\n",
    "    print('x is not True! Thats why i am here')\n",
    "#     print('I will be printed in any case where x is not true')"
   ]
  },
  {
   "cell_type": "markdown",
   "metadata": {},
   "source": [
    " if..else"
   ]
  },
  {
   "cell_type": "markdown",
   "metadata": {},
   "source": [
    "<code>\n",
    "if test expression:\n",
    "    Body of if\n",
    "else:\n",
    "    Body of else</code>"
   ]
  },
  {
   "cell_type": "markdown",
   "metadata": {},
   "source": [
    "* The if..else statement evaluates test expression and will execute body of if only when test condition is True.\n",
    "\n",
    "* If the condition is False, body of else is executed. Indentation is used to separate the blocks."
   ]
  },
  {
   "cell_type": "code",
   "execution_count": null,
   "metadata": {},
   "outputs": [],
   "source": [
    "# Program checks if the number is positive or negative\n",
    "# And displays an appropriate message\n",
    "\n",
    "num = 3\n",
    "\n",
    "# Try these two variations as well. \n",
    "# num = -5\n",
    "# num = 0\n",
    "\n",
    "if num >= 0:\n",
    "    print(\"Positive or Zero\")\n",
    "else:\n",
    "    print(\"Negative number\")"
   ]
  },
  {
   "cell_type": "markdown",
   "metadata": {},
   "source": [
    "if...elif...else"
   ]
  },
  {
   "cell_type": "markdown",
   "metadata": {},
   "source": [
    "<code>if test expression:\n",
    "    Body of if\n",
    "elif test expression:\n",
    "    Body of elif\n",
    "else: \n",
    "    Body of else</code>"
   ]
  },
  {
   "cell_type": "markdown",
   "metadata": {},
   "source": [
    "* The elif is short for else if. It allows us to check for multiple expressions.\n",
    "\n",
    "* If the condition for if is False, it checks the condition of the next elif block and so on.\n",
    "\n",
    "* If all the conditions are False, body of else is executed\n",
    "\n",
    "* Only one block among the several if...elif...else blocks is executed according to the condition.\n",
    "\n",
    "* The if block can have only one else block. But it can have multiple elif blocks."
   ]
  },
  {
   "cell_type": "code",
   "execution_count": null,
   "metadata": {},
   "outputs": [],
   "source": [
    "loc = 'Bank'\n",
    "\n",
    "if loc == 'Auto Shop':\n",
    "    print('Welcome to the Auto Shop!')\n",
    "\n",
    "elif loc == 'Bank':\n",
    "    print('Welcome to the bank!')\n",
    "\n",
    "elif loc==\"\":\n",
    "    print('Where are you?')\n",
    "\n",
    "else:\n",
    "    print(\"Where are you?\")"
   ]
  },
  {
   "cell_type": "markdown",
   "metadata": {},
   "source": [
    "(Try Your self..!)"
   ]
  },
  {
   "cell_type": "code",
   "execution_count": 10,
   "metadata": {},
   "outputs": [
    {
     "name": "stdout",
     "output_type": "stream",
     "text": [
      "a is big\n"
     ]
    }
   ],
   "source": [
    "# To check Biggest number \n",
    "a=5 \n",
    "b=4\n",
    "c=3\n",
    "\n",
    "if (a>b) & (a>c):\n",
    "    print(\"a is big\")\n",
    "elif (b>c):\n",
    "    print(\"b is big\")\n",
    "else:\n",
    "    print(\"c is big\")"
   ]
  },
  {
   "cell_type": "markdown",
   "metadata": {},
   "source": [
    "# For loop"
   ]
  },
  {
   "cell_type": "markdown",
   "metadata": {},
   "source": [
    "* The for loop in Python is used to iterate over a sequence (list, tuple, string) or other iterable objects. Iterating over a sequence is called traversal."
   ]
  },
  {
   "cell_type": "code",
   "execution_count": null,
   "metadata": {},
   "outputs": [],
   "source": []
  },
  {
   "cell_type": "code",
   "execution_count": null,
   "metadata": {},
   "outputs": [],
   "source": []
  },
  {
   "cell_type": "markdown",
   "metadata": {},
   "source": [
    "<code>for val in sequence:\n",
    "    Body of for</code>"
   ]
  },
  {
   "cell_type": "markdown",
   "metadata": {},
   "source": [
    "* Here, val is the variable that takes the value of the item inside the sequence on each iteration.\n",
    "* Loop continues until we reach the last item in the sequence."
   ]
  },
  {
   "cell_type": "markdown",
   "metadata": {},
   "source": [
    "##### Example 1:"
   ]
  },
  {
   "cell_type": "code",
   "execution_count": 1,
   "metadata": {},
   "outputs": [],
   "source": [
    "my_list = [1,2,3,4,5]"
   ]
  },
  {
   "cell_type": "code",
   "execution_count": 3,
   "metadata": {},
   "outputs": [
    {
     "name": "stdout",
     "output_type": "stream",
     "text": [
      "1\n",
      "4\n",
      "9\n",
      "16\n",
      "25\n"
     ]
    }
   ],
   "source": [
    "for num in my_list:\n",
    "    print(num**2)"
   ]
  },
  {
   "cell_type": "markdown",
   "metadata": {},
   "source": [
    "##### Example 2:"
   ]
  },
  {
   "cell_type": "code",
   "execution_count": 6,
   "metadata": {},
   "outputs": [],
   "source": [
    "list1=[1,2,3,4,5,6,7]"
   ]
  },
  {
   "cell_type": "code",
   "execution_count": 7,
   "metadata": {},
   "outputs": [
    {
     "name": "stdout",
     "output_type": "stream",
     "text": [
      "28\n"
     ]
    }
   ],
   "source": [
    "# Start sum at zero\n",
    "list_sum = 0 \n",
    "\n",
    "for num in list1:\n",
    "    list_sum = list_sum + num #  list_sum  += num\n",
    "\n",
    "print(list_sum)"
   ]
  },
  {
   "cell_type": "code",
   "execution_count": 8,
   "metadata": {},
   "outputs": [
    {
     "name": "stdout",
     "output_type": "stream",
     "text": [
      "28\n"
     ]
    }
   ],
   "source": [
    "n=len(list1)\n",
    "print(int(n*((n+1)/2)))"
   ]
  },
  {
   "cell_type": "markdown",
   "metadata": {},
   "source": [
    "##### Example 3:"
   ]
  },
  {
   "cell_type": "code",
   "execution_count": 9,
   "metadata": {},
   "outputs": [
    {
     "name": "stdout",
     "output_type": "stream",
     "text": [
      "28\n"
     ]
    }
   ],
   "source": [
    "list_sum = 0 \n",
    "\n",
    "for num in list1:\n",
    "    list_sum += num\n",
    "\n",
    "print(list_sum)"
   ]
  },
  {
   "cell_type": "markdown",
   "metadata": {},
   "source": [
    "##### Example 4:"
   ]
  },
  {
   "cell_type": "code",
   "execution_count": 11,
   "metadata": {},
   "outputs": [
    {
     "name": "stdout",
     "output_type": "stream",
     "text": [
      "T\n",
      "h\n",
      "i\n",
      "s\n",
      " \n",
      "i\n",
      "s\n",
      " \n",
      "a\n",
      " \n",
      "s\n",
      "t\n",
      "r\n",
      "i\n",
      "n\n",
      "g\n",
      ".\n"
     ]
    }
   ],
   "source": [
    "for i in 'This is a string.':\n",
    "    print(i)"
   ]
  },
  {
   "cell_type": "markdown",
   "metadata": {},
   "source": [
    "##### Example 5:"
   ]
  },
  {
   "cell_type": "code",
   "execution_count": 13,
   "metadata": {},
   "outputs": [
    {
     "name": "stdout",
     "output_type": "stream",
     "text": [
      "1\n",
      "2\n",
      "3\n",
      "4\n",
      "5\n"
     ]
    }
   ],
   "source": [
    "tup = (1,2,3,4,5)\n",
    "\n",
    "for t in tup:\n",
    "    print(t)"
   ]
  },
  {
   "cell_type": "markdown",
   "metadata": {},
   "source": [
    "##### Example 6:"
   ]
  },
  {
   "cell_type": "markdown",
   "metadata": {},
   "source": [
    "* Tuples have a special quality when it comes to for loops. \n",
    "* If you are iterating through a sequence that contains tuples, the item can actually be the tuple itself, this is an example of **tuple unpacking**. \n",
    "* During the for loop we will be unpacking the tuple inside of a sequence and we can access the individual items inside that tuple!"
   ]
  },
  {
   "cell_type": "code",
   "execution_count": 16,
   "metadata": {},
   "outputs": [],
   "source": [
    "list2 = [(2,4),(6,8),(10,12)]"
   ]
  },
  {
   "cell_type": "code",
   "execution_count": 17,
   "metadata": {},
   "outputs": [
    {
     "name": "stdout",
     "output_type": "stream",
     "text": [
      "(2, 4)\n",
      "(6, 8)\n",
      "(10, 12)\n"
     ]
    }
   ],
   "source": [
    "for item in list2:\n",
    "    print(item)"
   ]
  },
  {
   "cell_type": "code",
   "execution_count": 22,
   "metadata": {},
   "outputs": [
    {
     "data": {
      "text/plain": [
       "(6, 8)"
      ]
     },
     "execution_count": 22,
     "metadata": {},
     "output_type": "execute_result"
    }
   ],
   "source": [
    "list2[1]"
   ]
  },
  {
   "cell_type": "code",
   "execution_count": 25,
   "metadata": {},
   "outputs": [
    {
     "data": {
      "text/plain": [
       "[(2, 4), (6, 8), (10, 12)]"
      ]
     },
     "execution_count": 25,
     "metadata": {},
     "output_type": "execute_result"
    }
   ],
   "source": [
    "list2"
   ]
  },
  {
   "cell_type": "code",
   "execution_count": 28,
   "metadata": {},
   "outputs": [
    {
     "name": "stdout",
     "output_type": "stream",
     "text": [
      "2\n",
      "6\n",
      "10\n"
     ]
    }
   ],
   "source": [
    "# Now with unpacking!\n",
    "for items,items1 in list2:    \n",
    "    print(items)"
   ]
  },
  {
   "cell_type": "code",
   "execution_count": 27,
   "metadata": {},
   "outputs": [
    {
     "name": "stdout",
     "output_type": "stream",
     "text": [
      "2\n",
      "6\n",
      "10\n"
     ]
    }
   ],
   "source": [
    "for t1,t2 in list2:\n",
    "    print(t1)"
   ]
  },
  {
   "cell_type": "markdown",
   "metadata": {},
   "source": [
    "##### Example 7:"
   ]
  },
  {
   "cell_type": "code",
   "execution_count": 30,
   "metadata": {},
   "outputs": [],
   "source": [
    "d = {'k1':1,'k2':2,'k3':3}"
   ]
  },
  {
   "cell_type": "code",
   "execution_count": 32,
   "metadata": {},
   "outputs": [
    {
     "name": "stdout",
     "output_type": "stream",
     "text": [
      "k1\n",
      "k2\n",
      "k3\n"
     ]
    }
   ],
   "source": [
    "for value in d:\n",
    "    print(value)"
   ]
  },
  {
   "cell_type": "code",
   "execution_count": 35,
   "metadata": {},
   "outputs": [
    {
     "data": {
      "text/plain": [
       "{'k1': 1, 'k2': 2, 'k3': 3}"
      ]
     },
     "execution_count": 35,
     "metadata": {},
     "output_type": "execute_result"
    }
   ],
   "source": [
    "d"
   ]
  },
  {
   "cell_type": "code",
   "execution_count": 36,
   "metadata": {},
   "outputs": [],
   "source": [
    "a = {'k1':1,'k2':2,'k3':3}"
   ]
  },
  {
   "cell_type": "code",
   "execution_count": 37,
   "metadata": {},
   "outputs": [
    {
     "data": {
      "text/plain": [
       "dict_items([('k1', 1), ('k2', 2), ('k3', 3)])"
      ]
     },
     "execution_count": 37,
     "metadata": {},
     "output_type": "execute_result"
    }
   ],
   "source": [
    "a.items()"
   ]
  },
  {
   "cell_type": "code",
   "execution_count": 39,
   "metadata": {},
   "outputs": [
    {
     "name": "stdout",
     "output_type": "stream",
     "text": [
      "k1\n",
      "1\n",
      "k2\n",
      "2\n",
      "k3\n",
      "3\n"
     ]
    }
   ],
   "source": [
    "for key,value in d.items():\n",
    "    print(key)\n",
    "    print(value)"
   ]
  },
  {
   "cell_type": "markdown",
   "metadata": {},
   "source": [
    "##### Example 8:"
   ]
  },
  {
   "cell_type": "code",
   "execution_count": 33,
   "metadata": {},
   "outputs": [
    {
     "name": "stdout",
     "output_type": "stream",
     "text": [
      "k1\n",
      "1\n",
      "k2\n",
      "2\n",
      "k3\n",
      "3\n"
     ]
    }
   ],
   "source": [
    "# Dictionary unpacking\n",
    "for k,v in d.items():\n",
    "    print(k)\n",
    "    print(v) "
   ]
  },
  {
   "cell_type": "markdown",
   "metadata": {},
   "source": [
    "If you want to obtain a true list of keys, values, or key/value tuples, you can *cast* the view as a list:"
   ]
  },
  {
   "cell_type": "code",
   "execution_count": 34,
   "metadata": {},
   "outputs": [
    {
     "data": {
      "text/plain": [
       "['k1', 'k2', 'k3']"
      ]
     },
     "execution_count": 34,
     "metadata": {},
     "output_type": "execute_result"
    }
   ],
   "source": [
    "list(d.keys())"
   ]
  },
  {
   "cell_type": "markdown",
   "metadata": {},
   "source": [
    "# While Loop"
   ]
  },
  {
   "cell_type": "markdown",
   "metadata": {},
   "source": [
    "* The <code>while</code> statement in Python is one of most general ways to perform iteration. A <code>while</code> statement will repeatedly execute a single statement or group of statements as long as the condition is true.\n",
    "\n",
    "* We generally use this loop when we don't know beforehand, the number of times to iterate.\n",
    "\n"
   ]
  },
  {
   "cell_type": "markdown",
   "metadata": {},
   "source": [
    "Syntax"
   ]
  },
  {
   "cell_type": "markdown",
   "metadata": {},
   "source": [
    "<code>while test_expression:\n",
    "    Body of while</code>"
   ]
  },
  {
   "cell_type": "markdown",
   "metadata": {},
   "source": [
    "* In while loop, test expression is checked first. The body of the loop is entered only if the test_expression evaluates to True. After one iteration, the test expression is checked again. This process continues until the test_expression evaluates to False"
   ]
  },
  {
   "cell_type": "markdown",
   "metadata": {},
   "source": [
    "##### Example 1:"
   ]
  },
  {
   "cell_type": "code",
   "execution_count": 43,
   "metadata": {},
   "outputs": [
    {
     "name": "stdout",
     "output_type": "stream",
     "text": [
      "0\n",
      "1\n",
      "4\n",
      "9\n",
      "16\n",
      "25\n",
      "36\n",
      "49\n",
      "64\n",
      "81\n"
     ]
    }
   ],
   "source": [
    "i=0\n",
    "\n",
    "while (i<10):\n",
    "    print(i**2)\n",
    "    i+=1"
   ]
  },
  {
   "cell_type": "code",
   "execution_count": 39,
   "metadata": {},
   "outputs": [
    {
     "name": "stdout",
     "output_type": "stream",
     "text": [
      "55\n"
     ]
    }
   ],
   "source": [
    "# Sum of first 5 numbers:\n",
    "i=1\n",
    "Sum=0\n",
    "\n",
    "while i<=10:\n",
    "    Sum=Sum+i\n",
    "    i+=1 #Counter"
   ]
  },
  {
   "cell_type": "code",
   "execution_count": null,
   "metadata": {},
   "outputs": [],
   "source": [
    "# Program to add natural\n",
    "# numbers upto \n",
    "# sum = 1+2+3+...+n\n",
    "\n",
    "# To take input from the user,\n",
    "# n = int(input(\"Enter n: \"))\n",
    "\n",
    "n = 10\n",
    "\n",
    "# initialize sum and counter\n",
    "sum = 0\n",
    "i = 1\n",
    "\n",
    "while i <= n:\n",
    "    sum = sum + i\n",
    "    i = i+1    # update counter\n",
    "\n",
    "# print the sum\n",
    "print(\"The sum is\", sum)"
   ]
  },
  {
   "cell_type": "markdown",
   "metadata": {},
   "source": [
    "##### Example 2:"
   ]
  },
  {
   "cell_type": "markdown",
   "metadata": {},
   "source": [
    "* Same as that of for loop, we can have an optional else block with while loop as well.m\n",
    "* The else part is executed if the condition in the while loop evaluates to False."
   ]
  },
  {
   "cell_type": "code",
   "execution_count": 44,
   "metadata": {},
   "outputs": [
    {
     "name": "stdout",
     "output_type": "stream",
     "text": [
      "x is currently:  0\n",
      " x is still less than 10, adding 1 to x\n",
      "x is currently:  1\n",
      " x is still less than 10, adding 1 to x\n",
      "x is currently:  2\n",
      " x is still less than 10, adding 1 to x\n",
      "x is currently:  3\n",
      " x is still less than 10, adding 1 to x\n",
      "x is currently:  4\n",
      " x is still less than 10, adding 1 to x\n",
      "x is currently:  5\n",
      " x is still less than 10, adding 1 to x\n",
      "x is currently:  6\n",
      " x is still less than 10, adding 1 to x\n",
      "x is currently:  7\n",
      " x is still less than 10, adding 1 to x\n",
      "x is currently:  8\n",
      " x is still less than 10, adding 1 to x\n",
      "x is currently:  9\n",
      " x is still less than 10, adding 1 to x\n",
      "All Done!\n"
     ]
    }
   ],
   "source": [
    "x = 0 #Intilization.\n",
    "\n",
    "while x < 10:\n",
    "    print('x is currently: ',x)\n",
    "    print(' x is still less than 10, adding 1 to x')\n",
    "    x+=1\n",
    "    \n",
    "else:\n",
    "    print('All Done!')"
   ]
  },
  {
   "cell_type": "code",
   "execution_count": null,
   "metadata": {},
   "outputs": [],
   "source": [
    "while True:\n",
    "    print(\"Its an infite Loop!\")"
   ]
  },
  {
   "cell_type": "markdown",
   "metadata": {},
   "source": [
    "# Useful Operators:"
   ]
  },
  {
   "cell_type": "markdown",
   "metadata": {},
   "source": [
    "## range\n",
    "\n",
    "The range function allows you to quickly *generate* a list of integers, this comes in handy a lot, so take note of how to use it! There are 3 parameters you can pass, a start, a stop, and a step size. Let's see some examples:"
   ]
  },
  {
   "cell_type": "code",
   "execution_count": 45,
   "metadata": {},
   "outputs": [
    {
     "data": {
      "text/plain": [
       "range(0, 11)"
      ]
     },
     "execution_count": 45,
     "metadata": {},
     "output_type": "execute_result"
    }
   ],
   "source": [
    "range(0,11)# generator"
   ]
  },
  {
   "cell_type": "markdown",
   "metadata": {},
   "source": [
    "What is a generator?"
   ]
  },
  {
   "cell_type": "markdown",
   "metadata": {},
   "source": [
    "* Its a special type of function that will generate information and not need to save it to memory.\n",
    "* Note that this is a generator function\n",
    "    * so to actually get a list out of it, we need to cast it to a list with list() "
   ]
  },
  {
   "cell_type": "code",
   "execution_count": 46,
   "metadata": {},
   "outputs": [
    {
     "data": {
      "text/plain": [
       "[0, 1, 2, 3, 4, 5, 6, 7, 8, 9, 10]"
      ]
     },
     "execution_count": 46,
     "metadata": {},
     "output_type": "execute_result"
    }
   ],
   "source": [
    "list(range(0,11))"
   ]
  },
  {
   "cell_type": "code",
   "execution_count": 46,
   "metadata": {},
   "outputs": [
    {
     "data": {
      "text/plain": [
       "[0, 1, 2, 3, 4, 5, 6, 7, 8, 9, 10, 11]"
      ]
     },
     "execution_count": 46,
     "metadata": {},
     "output_type": "execute_result"
    }
   ],
   "source": [
    "list(range(0,12))"
   ]
  },
  {
   "cell_type": "code",
   "execution_count": 47,
   "metadata": {},
   "outputs": [
    {
     "data": {
      "text/plain": [
       "[0, 10, 20, 30, 40, 50, 60, 70, 80, 90, 100]"
      ]
     },
     "execution_count": 47,
     "metadata": {},
     "output_type": "execute_result"
    }
   ],
   "source": [
    "list(range(0,101,10))"
   ]
  },
  {
   "cell_type": "code",
   "execution_count": 48,
   "metadata": {
    "collapsed": true
   },
   "outputs": [
    {
     "name": "stdout",
     "output_type": "stream",
     "text": [
      "0\n",
      "1\n",
      "2\n",
      "3\n",
      "4\n",
      "5\n",
      "6\n",
      "7\n",
      "8\n",
      "9\n"
     ]
    }
   ],
   "source": [
    "for i in range(1000):\n",
    "    print(i)"
   ]
  },
  {
   "cell_type": "code",
   "execution_count": 52,
   "metadata": {},
   "outputs": [
    {
     "data": {
      "text/plain": [
       "[0, 2, 4, 6, 8, 10]"
      ]
     },
     "execution_count": 52,
     "metadata": {},
     "output_type": "execute_result"
    }
   ],
   "source": [
    "list(range(1,12,2))# Odd Numbers\n",
    "list(range(0,12,2))# Even Numbers"
   ]
  },
  {
   "cell_type": "markdown",
   "metadata": {},
   "source": [
    "## enumerate\n",
    "\n",
    "* enumerate is a very useful function to use with for loops. \n",
    "* Mainly we can use for loop count without using another varibale externally!"
   ]
  },
  {
   "cell_type": "code",
   "execution_count": 49,
   "metadata": {},
   "outputs": [
    {
     "data": {
      "text/plain": [
       "[(0, 1), (1, 2), (2, 3), (3, 4), (4, 5)]"
      ]
     },
     "execution_count": 49,
     "metadata": {},
     "output_type": "execute_result"
    }
   ],
   "source": [
    "list(enumerate([1,2,3,4,5]))"
   ]
  },
  {
   "cell_type": "code",
   "execution_count": 50,
   "metadata": {},
   "outputs": [
    {
     "name": "stdout",
     "output_type": "stream",
     "text": [
      "0 1\n",
      "1 2\n",
      "2 3\n",
      "3 4\n",
      "4 5\n"
     ]
    }
   ],
   "source": [
    "for cnt,i in enumerate([1,2,3,4,5]):\n",
    "    print(cnt,i)"
   ]
  },
  {
   "cell_type": "code",
   "execution_count": 52,
   "metadata": {},
   "outputs": [
    {
     "name": "stdout",
     "output_type": "stream",
     "text": [
      "0 1\n",
      "1 2\n",
      "2 3\n",
      "3 4\n",
      "4 5\n"
     ]
    }
   ],
   "source": [
    "cnt=0\n",
    "\n",
    "for i in [1,2,3,4,5]:\n",
    "#     print(i)\n",
    "    print(cnt,i)\n",
    "    cnt=cnt+1"
   ]
  },
  {
   "cell_type": "code",
   "execution_count": 53,
   "metadata": {},
   "outputs": [
    {
     "name": "stdout",
     "output_type": "stream",
     "text": [
      "At index 0 the letter is a\n",
      "At index 1 the letter is b\n",
      "At index 2 the letter is c\n",
      "At index 3 the letter is d\n",
      "At index 4 the letter is e\n"
     ]
    }
   ],
   "source": [
    "index_count = 0\n",
    "\n",
    "for letter in 'abcde':\n",
    "    print(\"At index {} the letter is {}\".format(index_count,letter))\n",
    "    index_count += 1"
   ]
  },
  {
   "cell_type": "code",
   "execution_count": 54,
   "metadata": {},
   "outputs": [
    {
     "name": "stdout",
     "output_type": "stream",
     "text": [
      "At index 0 the letter is a\n",
      "At index 1 the letter is b\n",
      "At index 2 the letter is c\n",
      "At index 3 the letter is d\n",
      "At index 4 the letter is e\n"
     ]
    }
   ],
   "source": [
    "for index_count,letter in enumerate('abcde'):\n",
    "    print(\"At index {} the letter is {}\".format(index_count,letter))"
   ]
  },
  {
   "cell_type": "code",
   "execution_count": 62,
   "metadata": {},
   "outputs": [
    {
     "data": {
      "text/plain": [
       "[(0, 'a'), (1, 'b'), (2, 'c'), (3, 'd'), (4, 'e')]"
      ]
     },
     "execution_count": 62,
     "metadata": {},
     "output_type": "execute_result"
    }
   ],
   "source": [
    "list(enumerate('abcde'))"
   ]
  },
  {
   "cell_type": "markdown",
   "metadata": {},
   "source": [
    "## zip\n",
    "\n",
    "Notice the format enumerate actually returns, let's take a look by transforming it to a list()"
   ]
  },
  {
   "cell_type": "code",
   "execution_count": 55,
   "metadata": {},
   "outputs": [],
   "source": [
    "mylist1 = [1,2,3,4,5]\n",
    "mylist2 = ['a','b','c','d','e']"
   ]
  },
  {
   "cell_type": "code",
   "execution_count": 56,
   "metadata": {},
   "outputs": [
    {
     "data": {
      "text/plain": [
       "<zip at 0x1ca2b861cc8>"
      ]
     },
     "execution_count": 56,
     "metadata": {},
     "output_type": "execute_result"
    }
   ],
   "source": [
    "# This one is also a generator! We will explain this later, but for now let's transform it to a list\n",
    "zip(mylist1,mylist2)"
   ]
  },
  {
   "cell_type": "code",
   "execution_count": 59,
   "metadata": {},
   "outputs": [
    {
     "data": {
      "text/plain": [
       "((1, 'a'), (2, 'b'), (3, 'c'), (4, 'd'), (5, 'e'))"
      ]
     },
     "execution_count": 59,
     "metadata": {},
     "output_type": "execute_result"
    }
   ],
   "source": [
    "# tuple(zip(mylist1,mylist2))"
   ]
  },
  {
   "cell_type": "code",
   "execution_count": 66,
   "metadata": {},
   "outputs": [
    {
     "name": "stdout",
     "output_type": "stream",
     "text": [
      "a\n",
      "b\n",
      "c\n",
      "d\n",
      "e\n"
     ]
    }
   ],
   "source": [
    "for t1,t2 in  list(zip(mylist1,mylist2)): # Both Packing and Unpacking\n",
    "    print(t2)"
   ]
  },
  {
   "cell_type": "markdown",
   "metadata": {},
   "source": [
    "To use the generator, we could just use a for loop"
   ]
  },
  {
   "cell_type": "code",
   "execution_count": null,
   "metadata": {},
   "outputs": [],
   "source": [
    "for item1, item2 in zip(mylist1,mylist2):\n",
    "    print('For this tuple, first item was {} and second item was {}'.format(item1,item2))"
   ]
  },
  {
   "cell_type": "markdown",
   "metadata": {},
   "source": [
    "## `in` operator\n",
    "\n",
    "We've already seen the **in** keyword durng the for loop, but we can also use it to quickly check if an object is in a list"
   ]
  },
  {
   "cell_type": "markdown",
   "metadata": {},
   "source": [
    "<code>value in sequence</code>"
   ]
  },
  {
   "cell_type": "code",
   "execution_count": 68,
   "metadata": {},
   "outputs": [
    {
     "data": {
      "text/plain": [
       "True"
      ]
     },
     "execution_count": 68,
     "metadata": {},
     "output_type": "execute_result"
    }
   ],
   "source": [
    "'x' in ['x','y','z']"
   ]
  },
  {
   "cell_type": "code",
   "execution_count": 60,
   "metadata": {},
   "outputs": [
    {
     "data": {
      "text/plain": [
       "False"
      ]
     },
     "execution_count": 60,
     "metadata": {},
     "output_type": "execute_result"
    }
   ],
   "source": [
    "'x' in \"Python\""
   ]
  },
  {
   "cell_type": "code",
   "execution_count": null,
   "metadata": {},
   "outputs": [],
   "source": [
    "#print all vowels present inside string\n",
    "# \"Koteswari\"\n",
    "my_list=[]\n",
    "for i in \"Koteswari\":\n",
    "    if (\"a\" in i) or ('e' in i) or ('i' in i) or ('o' in i) or ('u' in i):\n",
    "        my_list.append(i)\n",
    "#         print(i,end=\",\")\n",
    "my_list.sort()"
   ]
  },
  {
   "cell_type": "code",
   "execution_count": 79,
   "metadata": {},
   "outputs": [
    {
     "name": "stdout",
     "output_type": "stream",
     "text": [
      "a,e,i,o\n"
     ]
    }
   ],
   "source": [
    "print(\",\".join(my_list))"
   ]
  },
  {
   "cell_type": "code",
   "execution_count": 72,
   "metadata": {},
   "outputs": [
    {
     "name": "stdout",
     "output_type": "stream",
     "text": [
      "o,e,a,i,"
     ]
    }
   ],
   "source": [
    "#print all vowels present inside string\n",
    "# \"Koteswari\"\n",
    "for i in \"Koteswari\":\n",
    "    if (\"a\" in i) or ('e' in i) or ('i' in i) or ('o' in i) or ('u' in i):\n",
    "        print(i,end=\",\")\n"
   ]
  },
  {
   "cell_type": "code",
   "execution_count": 74,
   "metadata": {},
   "outputs": [
    {
     "data": {
      "text/plain": [
       "False"
      ]
     },
     "execution_count": 74,
     "metadata": {},
     "output_type": "execute_result"
    }
   ],
   "source": [
    "\"x\" in (tuple(\"Python\"))"
   ]
  },
  {
   "cell_type": "code",
   "execution_count": 69,
   "metadata": {},
   "outputs": [
    {
     "data": {
      "text/plain": [
       "False"
      ]
     },
     "execution_count": 69,
     "metadata": {},
     "output_type": "execute_result"
    }
   ],
   "source": [
    "'x' in [1,2,3]"
   ]
  },
  {
   "cell_type": "code",
   "execution_count": 79,
   "metadata": {},
   "outputs": [
    {
     "data": {
      "text/plain": [
       "False"
      ]
     },
     "execution_count": 79,
     "metadata": {},
     "output_type": "execute_result"
    }
   ],
   "source": [
    "19 in range(0,13)"
   ]
  },
  {
   "cell_type": "markdown",
   "metadata": {},
   "source": [
    "## min and max\n",
    "\n",
    "Quickly check the minimum or maximum of a list with these functions."
   ]
  },
  {
   "cell_type": "code",
   "execution_count": 81,
   "metadata": {},
   "outputs": [],
   "source": [
    "mylist = [10,20,30,40,100]"
   ]
  },
  {
   "cell_type": "code",
   "execution_count": 82,
   "metadata": {},
   "outputs": [
    {
     "data": {
      "text/plain": [
       "10"
      ]
     },
     "execution_count": 82,
     "metadata": {},
     "output_type": "execute_result"
    }
   ],
   "source": [
    "min(mylist)"
   ]
  },
  {
   "cell_type": "code",
   "execution_count": 83,
   "metadata": {},
   "outputs": [
    {
     "data": {
      "text/plain": [
       "100"
      ]
     },
     "execution_count": 83,
     "metadata": {},
     "output_type": "execute_result"
    }
   ],
   "source": [
    "max(mylist)"
   ]
  },
  {
   "cell_type": "markdown",
   "metadata": {},
   "source": [
    "## input"
   ]
  },
  {
   "cell_type": "code",
   "execution_count": null,
   "metadata": {},
   "outputs": [],
   "source": [
    "## Calculator \n",
    "\n",
    "* Should take 2 numbers\n",
    "* Should perfomr addition,sub,multip,divsion,mod,sqrt,cube,...etc"
   ]
  },
  {
   "cell_type": "code",
   "execution_count": 9,
   "metadata": {},
   "outputs": [
    {
     "name": "stdout",
     "output_type": "stream",
     "text": [
      "enter a:2\n",
      "enter b:4\n",
      "What do you wnat to do?add\n",
      "Your Addition as per request is: 6\n"
     ]
    }
   ],
   "source": [
    "## Simple Caluclator... Scientific Calculator(log,ln,cos,sin,!,...)\n",
    "a=int(input(\"enter a:\"))\n",
    "b=int(input(\"enter b:\"))\n",
    "ope = input(\"What do you wnat to do?\")\n",
    "\n",
    "if ope.lower()=='add':\n",
    "    print(\"Your Addition as per request is:\",a+b)"
   ]
  },
  {
   "cell_type": "code",
   "execution_count": null,
   "metadata": {},
   "outputs": [],
   "source": [
    "a= int(input(\"Please enter list:\"))"
   ]
  },
  {
   "cell_type": "code",
   "execution_count": 45,
   "metadata": {},
   "outputs": [
    {
     "data": {
      "text/plain": [
       "int"
      ]
     },
     "execution_count": 45,
     "metadata": {},
     "output_type": "execute_result"
    }
   ],
   "source": [
    "type(a)"
   ]
  },
  {
   "cell_type": "code",
   "execution_count": 41,
   "metadata": {},
   "outputs": [
    {
     "data": {
      "text/plain": [
       "5"
      ]
     },
     "execution_count": 41,
     "metadata": {},
     "output_type": "execute_result"
    }
   ],
   "source": []
  },
  {
   "cell_type": "code",
   "execution_count": null,
   "metadata": {},
   "outputs": [],
   "source": [
    "a= 'plese enter something'# "
   ]
  },
  {
   "cell_type": "code",
   "execution_count": 35,
   "metadata": {},
   "outputs": [
    {
     "data": {
      "text/plain": [
       "str"
      ]
     },
     "execution_count": 35,
     "metadata": {},
     "output_type": "execute_result"
    }
   ],
   "source": [
    "type(a)"
   ]
  },
  {
   "cell_type": "code",
   "execution_count": 90,
   "metadata": {},
   "outputs": [
    {
     "name": "stdout",
     "output_type": "stream",
     "text": [
      "Enter Some integer only: 4\n"
     ]
    }
   ],
   "source": [
    "user_input = int(input('Enter Some integer only: ')) #Always Will receive as string"
   ]
  },
  {
   "cell_type": "code",
   "execution_count": 91,
   "metadata": {},
   "outputs": [
    {
     "data": {
      "text/plain": [
       "4"
      ]
     },
     "execution_count": 91,
     "metadata": {},
     "output_type": "execute_result"
    }
   ],
   "source": [
    "user_input"
   ]
  },
  {
   "cell_type": "markdown",
   "metadata": {},
   "source": [
    "# Break, Pass & Continue"
   ]
  },
  {
   "cell_type": "markdown",
   "metadata": {},
   "source": [
    "* In Python, break and continue statements can alter the flow of a normal loop.\n",
    "* Loops iterate over a block of code until test expression is false, but sometimes we wish to terminate the current iteration or even the whole loop without checking test expression.\n",
    "* The break and continue statements are used in these cases.\n",
    "\n"
   ]
  },
  {
   "cell_type": "code",
   "execution_count": 4,
   "metadata": {},
   "outputs": [
    {
     "data": {
      "image/jpeg": "[encoded data removed]",
      "text/plain": [
       "<IPython.core.display.Image object>"
      ]
     },
     "metadata": {},
     "output_type": "display_data"
    }
   ],
   "source": [
    "display(Image(\"https://cdn.programiz.com/sites/tutorial2program/files/how-break-statement-works.jpg\"))"
   ]
  },
  {
   "cell_type": "code",
   "execution_count": 1,
   "metadata": {},
   "outputs": [
    {
     "name": "stdout",
     "output_type": "stream",
     "text": [
      "s\n",
      "t\n",
      "r\n",
      "The end\n"
     ]
    }
   ],
   "source": [
    "for val in \"string\":\n",
    "    if val == \"i\":\n",
    "        break\n",
    "    print(val)\n",
    "\n",
    "print(\"The end\")"
   ]
  },
  {
   "cell_type": "code",
   "execution_count": 2,
   "metadata": {},
   "outputs": [
    {
     "name": "stdout",
     "output_type": "stream",
     "text": [
      "s\n",
      "t\n",
      "r\n",
      "n\n",
      "g\n",
      "The end\n"
     ]
    }
   ],
   "source": [
    "for val in \"string\":\n",
    "    if val == \"i\":\n",
    "        continue\n",
    "    print(val)\n",
    "\n",
    "print(\"The end\")"
   ]
  },
  {
   "cell_type": "code",
   "execution_count": 6,
   "metadata": {},
   "outputs": [
    {
     "data": {
      "image/jpeg": "[encoded data removed]",
      "text/plain": [
       "<IPython.core.display.Image object>"
      ]
     },
     "metadata": {},
     "output_type": "display_data"
    }
   ],
   "source": [
    "url=\"https://cdn.programiz.com/sites/tutorial2program/files/how-continue-statment-works.jpg\"\n",
    "display(Image(url))"
   ]
  },
  {
   "cell_type": "code",
   "execution_count": 7,
   "metadata": {},
   "outputs": [
    {
     "name": "stdout",
     "output_type": "stream",
     "text": [
      "s\n",
      "t\n",
      "r\n",
      "n\n",
      "g\n",
      "The end\n"
     ]
    }
   ],
   "source": [
    "for val in \"string\":\n",
    "    if val == \"i\":\n",
    "        continue\n",
    "    print(val)\n",
    "\n",
    "print(\"The end\")"
   ]
  },
  {
   "cell_type": "markdown",
   "metadata": {},
   "source": [
    "* We continue with the loop, if the string is \"i\", not executing the rest of the block(here print line). Hence, we see in our output that all the letters except \"i\" gets printed."
   ]
  },
  {
   "cell_type": "markdown",
   "metadata": {},
   "source": [
    "### Pass"
   ]
  },
  {
   "cell_type": "markdown",
   "metadata": {},
   "source": [
    "* Python has the syntactical requirement that code blocks\n",
    "* Empty code blocks are however useful in a variety of different contexts\n",
    "*  if nothing is supposed to happen in a code block, a pass is needed for such a block to not produce an IndentationError."
   ]
  },
  {
   "cell_type": "code",
   "execution_count": 24,
   "metadata": {},
   "outputs": [],
   "source": [
    "for i in range(20):\n",
    "        pass"
   ]
  },
  {
   "cell_type": "code",
   "execution_count": 4,
   "metadata": {},
   "outputs": [
    {
     "name": "stdout",
     "output_type": "stream",
     "text": [
      "You are not adult, so you can't do that task\n"
     ]
    }
   ],
   "source": [
    "age = 12\n",
    "\n",
    "if age < 18:\n",
    "    print (\"You are not adult, so you can't do that task\")\n",
    "\n",
    "elif age >= 18 and age < 60:\n",
    "    pass\n",
    "    \n",
    "else:\n",
    "    print(\"You are too old to do anything , sorry \")"
   ]
  },
  {
   "cell_type": "code",
   "execution_count": 29,
   "metadata": {},
   "outputs": [
    {
     "name": "stdout",
     "output_type": "stream",
     "text": [
      "You are not adult, so you can't do that task\n"
     ]
    }
   ],
   "source": [
    "age = 12\n",
    "\n",
    "if age < 18:\n",
    "    print (\"You are not adult, so you can't do that task\")\n",
    "\n",
    "elif age >= 18 and age < 60:\n",
    "    ## Later i will add come code here\n",
    "    pass\n",
    "\n",
    "else:\n",
    "    print(\"You are too old to do anything , sorry \")"
   ]
  },
  {
   "cell_type": "markdown",
   "metadata": {},
   "source": [
    "# List Comprehension"
   ]
  },
  {
   "cell_type": "markdown",
   "metadata": {},
   "source": [
    "* List comprehensions provide a concise way to create lists. \n",
    "* The list comprehension always returns a result list. \n",
    "*  a one line for loop built inside of brackets"
   ]
  },
  {
   "cell_type": "markdown",
   "metadata": {},
   "source": [
    "#### Example 1"
   ]
  },
  {
   "cell_type": "code",
   "execution_count": 13,
   "metadata": {},
   "outputs": [
    {
     "name": "stdout",
     "output_type": "stream",
     "text": [
      "[0, 1, 2, 3, 4, 5, 6, 7, 8, 9, 10]\n"
     ]
    }
   ],
   "source": [
    "print(list(range(0,11)))"
   ]
  },
  {
   "cell_type": "code",
   "execution_count": 12,
   "metadata": {},
   "outputs": [
    {
     "name": "stdout",
     "output_type": "stream",
     "text": [
      "[0, 1, 2, 3, 4, 5, 6, 7, 8, 9, 10]\n"
     ]
    }
   ],
   "source": [
    "my_list = []\n",
    "\n",
    "for i in [0, 1, 2, 3, 4, 5, 6, 7, 8, 9, 10]:\n",
    "    my_list.append(i)\n",
    "print(my_list)"
   ]
  },
  {
   "cell_type": "code",
   "execution_count": 14,
   "metadata": {},
   "outputs": [
    {
     "data": {
      "text/plain": [
       "['one', 'two', 'three']"
      ]
     },
     "execution_count": 14,
     "metadata": {},
     "output_type": "execute_result"
    }
   ],
   "source": [
    "## For Loop-I:\n",
    "list1 = ['one','two','three']\n",
    "fin_list=[]\n",
    "for items in list1:\n",
    "    fin_list.append(items)\n",
    "\n",
    "    \n",
    "fin_list    "
   ]
  },
  {
   "cell_type": "code",
   "execution_count": 15,
   "metadata": {},
   "outputs": [
    {
     "data": {
      "text/plain": [
       "['one', 'two', 'three']"
      ]
     },
     "execution_count": 15,
     "metadata": {},
     "output_type": "execute_result"
    }
   ],
   "source": [
    "## Equivalent List Comprehension for For Loop-I:\n",
    "\n",
    "[x for x in list1]"
   ]
  },
  {
   "cell_type": "markdown",
   "metadata": {},
   "source": [
    "#### Example 2"
   ]
  },
  {
   "cell_type": "code",
   "execution_count": 17,
   "metadata": {},
   "outputs": [
    {
     "data": {
      "text/plain": [
       "[0, 1, 2, 3, 4, 5, 6, 7, 8, 9, 10]"
      ]
     },
     "execution_count": 17,
     "metadata": {},
     "output_type": "execute_result"
    }
   ],
   "source": [
    "list1=list(range(0,11))\n",
    "list1"
   ]
  },
  {
   "cell_type": "code",
   "execution_count": 96,
   "metadata": {},
   "outputs": [
    {
     "data": {
      "text/plain": [
       "[0, 2, 4, 6, 8, 10]"
      ]
     },
     "execution_count": 96,
     "metadata": {},
     "output_type": "execute_result"
    }
   ],
   "source": [
    "## For Loop-II:\n",
    "\n",
    "even_numbers=[]\n",
    "for nums in list1:\n",
    "    if nums%2==0:\n",
    "        even_numbers.append(nums)\n",
    "even_numbers"
   ]
  },
  {
   "cell_type": "code",
   "execution_count": 18,
   "metadata": {},
   "outputs": [
    {
     "data": {
      "text/plain": [
       "[0, 2, 4, 6, 8, 10]"
      ]
     },
     "execution_count": 18,
     "metadata": {},
     "output_type": "execute_result"
    }
   ],
   "source": [
    "## Equivalent List Comprehension for For Loop-II:\n",
    "\n",
    "[nums for nums in list1 if nums%2==0]"
   ]
  },
  {
   "cell_type": "code",
   "execution_count": null,
   "metadata": {},
   "outputs": [],
   "source": [
    "## Summation of N numbers using List Comprehension\n"
   ]
  },
  {
   "cell_type": "code",
   "execution_count": 20,
   "metadata": {},
   "outputs": [
    {
     "data": {
      "text/plain": [
       "[0, 2, 4, 6, 8, 10]"
      ]
     },
     "execution_count": 20,
     "metadata": {},
     "output_type": "execute_result"
    }
   ],
   "source": [
    "list(nums for nums in list1 if nums%2==0)"
   ]
  },
  {
   "cell_type": "markdown",
   "metadata": {},
   "source": [
    "#### Example 3"
   ]
  },
  {
   "cell_type": "code",
   "execution_count": 22,
   "metadata": {},
   "outputs": [
    {
     "name": "stdout",
     "output_type": "stream",
     "text": [
      "Wall time: 565 ms\n"
     ]
    }
   ],
   "source": [
    "%%time\n",
    "list1 = list(range(0,1000000))\n",
    "even_numbers=[]\n",
    "for nums in list1:\n",
    "    if nums%2==0:\n",
    "        even_numbers.append(nums)\n",
    "    else:\n",
    "        even_numbers.append(\"Odd\")\n",
    "        \n",
    "even_numbers"
   ]
  },
  {
   "cell_type": "code",
   "execution_count": 24,
   "metadata": {
    "collapsed": true
   },
   "outputs": [
    {
     "name": "stdout",
     "output_type": "stream",
     "text": [
      "Wall time: 289 ms\n"
     ]
    },
    {
     "data": {
      "text/plain": [
       "[0,\n",
       " 'Odd',\n",
       " 2,\n",
       " 'Odd',\n",
       " 4,\n",
       " 'Odd',\n",
       " 6,\n",
       " 'Odd',\n",
       " 8,\n",
       " 'Odd',\n",
       " 10,\n",
       " 'Odd',\n",
       " 12,\n",
       " 'Odd',\n",
       " 14,\n",
       " 'Odd',\n",
       " 16,\n",
       " 'Odd',\n",
       " 18,\n",
       " 'Odd',\n",
       " 20,\n",
       " 'Odd',\n",
       " 22,\n",
       " 'Odd',\n",
       " 24,\n",
       " 'Odd',\n",
       " 26,\n",
       " 'Odd',\n",
       " 28,\n",
       " 'Odd',\n",
       " 30,\n",
       " 'Odd',\n",
       " 32,\n",
       " 'Odd',\n",
       " 34,\n",
       " 'Odd',\n",
       " 36,\n",
       " 'Odd',\n",
       " 38,\n",
       " 'Odd',\n",
       " 40,\n",
       " 'Odd',\n",
       " 42,\n",
       " 'Odd',\n",
       " 44,\n",
       " 'Odd',\n",
       " 46,\n",
       " 'Odd',\n",
       " 48,\n",
       " 'Odd',\n",
       " 50,\n",
       " 'Odd',\n",
       " 52,\n",
       " 'Odd',\n",
       " 54,\n",
       " 'Odd',\n",
       " 56,\n",
       " 'Odd',\n",
       " 58,\n",
       " 'Odd',\n",
       " 60,\n",
       " 'Odd',\n",
       " 62,\n",
       " 'Odd',\n",
       " 64,\n",
       " 'Odd',\n",
       " 66,\n",
       " 'Odd',\n",
       " 68,\n",
       " 'Odd',\n",
       " 70,\n",
       " 'Odd',\n",
       " 72,\n",
       " 'Odd',\n",
       " 74,\n",
       " 'Odd',\n",
       " 76,\n",
       " 'Odd',\n",
       " 78,\n",
       " 'Odd',\n",
       " 80,\n",
       " 'Odd',\n",
       " 82,\n",
       " 'Odd',\n",
       " 84,\n",
       " 'Odd',\n",
       " 86,\n",
       " 'Odd',\n",
       " 88,\n",
       " 'Odd',\n",
       " 90,\n",
       " 'Odd',\n",
       " 92,\n",
       " 'Odd',\n",
       " 94,\n",
       " 'Odd',\n",
       " 96,\n",
       " 'Odd',\n",
       " 98,\n",
       " 'Odd',\n",
       " 100,\n",
       " 'Odd',\n",
       " 102,\n",
       " 'Odd',\n",
       " 104,\n",
       " 'Odd',\n",
       " 106,\n",
       " 'Odd',\n",
       " 108,\n",
       " 'Odd',\n",
       " 110,\n",
       " 'Odd',\n",
       " 112,\n",
       " 'Odd',\n",
       " 114,\n",
       " 'Odd',\n",
       " 116,\n",
       " 'Odd',\n",
       " 118,\n",
       " 'Odd',\n",
       " 120,\n",
       " 'Odd',\n",
       " 122,\n",
       " 'Odd',\n",
       " 124,\n",
       " 'Odd',\n",
       " 126,\n",
       " 'Odd',\n",
       " 128,\n",
       " 'Odd',\n",
       " 130,\n",
       " 'Odd',\n",
       " 132,\n",
       " 'Odd',\n",
       " 134,\n",
       " 'Odd',\n",
       " 136,\n",
       " 'Odd',\n",
       " 138,\n",
       " 'Odd',\n",
       " 140,\n",
       " 'Odd',\n",
       " 142,\n",
       " 'Odd',\n",
       " 144,\n",
       " 'Odd',\n",
       " 146,\n",
       " 'Odd',\n",
       " 148,\n",
       " 'Odd',\n",
       " 150,\n",
       " 'Odd',\n",
       " 152,\n",
       " 'Odd',\n",
       " 154,\n",
       " 'Odd',\n",
       " 156,\n",
       " 'Odd',\n",
       " 158,\n",
       " 'Odd',\n",
       " 160,\n",
       " 'Odd',\n",
       " 162,\n",
       " 'Odd',\n",
       " 164,\n",
       " 'Odd',\n",
       " 166,\n",
       " 'Odd',\n",
       " 168,\n",
       " 'Odd',\n",
       " 170,\n",
       " 'Odd',\n",
       " 172,\n",
       " 'Odd',\n",
       " 174,\n",
       " 'Odd',\n",
       " 176,\n",
       " 'Odd',\n",
       " 178,\n",
       " 'Odd',\n",
       " 180,\n",
       " 'Odd',\n",
       " 182,\n",
       " 'Odd',\n",
       " 184,\n",
       " 'Odd',\n",
       " 186,\n",
       " 'Odd',\n",
       " 188,\n",
       " 'Odd',\n",
       " 190,\n",
       " 'Odd',\n",
       " 192,\n",
       " 'Odd',\n",
       " 194,\n",
       " 'Odd',\n",
       " 196,\n",
       " 'Odd',\n",
       " 198,\n",
       " 'Odd',\n",
       " 200,\n",
       " 'Odd',\n",
       " 202,\n",
       " 'Odd',\n",
       " 204,\n",
       " 'Odd',\n",
       " 206,\n",
       " 'Odd',\n",
       " 208,\n",
       " 'Odd',\n",
       " 210,\n",
       " 'Odd',\n",
       " 212,\n",
       " 'Odd',\n",
       " 214,\n",
       " 'Odd',\n",
       " 216,\n",
       " 'Odd',\n",
       " 218,\n",
       " 'Odd',\n",
       " 220,\n",
       " 'Odd',\n",
       " 222,\n",
       " 'Odd',\n",
       " 224,\n",
       " 'Odd',\n",
       " 226,\n",
       " 'Odd',\n",
       " 228,\n",
       " 'Odd',\n",
       " 230,\n",
       " 'Odd',\n",
       " 232,\n",
       " 'Odd',\n",
       " 234,\n",
       " 'Odd',\n",
       " 236,\n",
       " 'Odd',\n",
       " 238,\n",
       " 'Odd',\n",
       " 240,\n",
       " 'Odd',\n",
       " 242,\n",
       " 'Odd',\n",
       " 244,\n",
       " 'Odd',\n",
       " 246,\n",
       " 'Odd',\n",
       " 248,\n",
       " 'Odd',\n",
       " 250,\n",
       " 'Odd',\n",
       " 252,\n",
       " 'Odd',\n",
       " 254,\n",
       " 'Odd',\n",
       " 256,\n",
       " 'Odd',\n",
       " 258,\n",
       " 'Odd',\n",
       " 260,\n",
       " 'Odd',\n",
       " 262,\n",
       " 'Odd',\n",
       " 264,\n",
       " 'Odd',\n",
       " 266,\n",
       " 'Odd',\n",
       " 268,\n",
       " 'Odd',\n",
       " 270,\n",
       " 'Odd',\n",
       " 272,\n",
       " 'Odd',\n",
       " 274,\n",
       " 'Odd',\n",
       " 276,\n",
       " 'Odd',\n",
       " 278,\n",
       " 'Odd',\n",
       " 280,\n",
       " 'Odd',\n",
       " 282,\n",
       " 'Odd',\n",
       " 284,\n",
       " 'Odd',\n",
       " 286,\n",
       " 'Odd',\n",
       " 288,\n",
       " 'Odd',\n",
       " 290,\n",
       " 'Odd',\n",
       " 292,\n",
       " 'Odd',\n",
       " 294,\n",
       " 'Odd',\n",
       " 296,\n",
       " 'Odd',\n",
       " 298,\n",
       " 'Odd',\n",
       " 300,\n",
       " 'Odd',\n",
       " 302,\n",
       " 'Odd',\n",
       " 304,\n",
       " 'Odd',\n",
       " 306,\n",
       " 'Odd',\n",
       " 308,\n",
       " 'Odd',\n",
       " 310,\n",
       " 'Odd',\n",
       " 312,\n",
       " 'Odd',\n",
       " 314,\n",
       " 'Odd',\n",
       " 316,\n",
       " 'Odd',\n",
       " 318,\n",
       " 'Odd',\n",
       " 320,\n",
       " 'Odd',\n",
       " 322,\n",
       " 'Odd',\n",
       " 324,\n",
       " 'Odd',\n",
       " 326,\n",
       " 'Odd',\n",
       " 328,\n",
       " 'Odd',\n",
       " 330,\n",
       " 'Odd',\n",
       " 332,\n",
       " 'Odd',\n",
       " 334,\n",
       " 'Odd',\n",
       " 336,\n",
       " 'Odd',\n",
       " 338,\n",
       " 'Odd',\n",
       " 340,\n",
       " 'Odd',\n",
       " 342,\n",
       " 'Odd',\n",
       " 344,\n",
       " 'Odd',\n",
       " 346,\n",
       " 'Odd',\n",
       " 348,\n",
       " 'Odd',\n",
       " 350,\n",
       " 'Odd',\n",
       " 352,\n",
       " 'Odd',\n",
       " 354,\n",
       " 'Odd',\n",
       " 356,\n",
       " 'Odd',\n",
       " 358,\n",
       " 'Odd',\n",
       " 360,\n",
       " 'Odd',\n",
       " 362,\n",
       " 'Odd',\n",
       " 364,\n",
       " 'Odd',\n",
       " 366,\n",
       " 'Odd',\n",
       " 368,\n",
       " 'Odd',\n",
       " 370,\n",
       " 'Odd',\n",
       " 372,\n",
       " 'Odd',\n",
       " 374,\n",
       " 'Odd',\n",
       " 376,\n",
       " 'Odd',\n",
       " 378,\n",
       " 'Odd',\n",
       " 380,\n",
       " 'Odd',\n",
       " 382,\n",
       " 'Odd',\n",
       " 384,\n",
       " 'Odd',\n",
       " 386,\n",
       " 'Odd',\n",
       " 388,\n",
       " 'Odd',\n",
       " 390,\n",
       " 'Odd',\n",
       " 392,\n",
       " 'Odd',\n",
       " 394,\n",
       " 'Odd',\n",
       " 396,\n",
       " 'Odd',\n",
       " 398,\n",
       " 'Odd',\n",
       " 400,\n",
       " 'Odd',\n",
       " 402,\n",
       " 'Odd',\n",
       " 404,\n",
       " 'Odd',\n",
       " 406,\n",
       " 'Odd',\n",
       " 408,\n",
       " 'Odd',\n",
       " 410,\n",
       " 'Odd',\n",
       " 412,\n",
       " 'Odd',\n",
       " 414,\n",
       " 'Odd',\n",
       " 416,\n",
       " 'Odd',\n",
       " 418,\n",
       " 'Odd',\n",
       " 420,\n",
       " 'Odd',\n",
       " 422,\n",
       " 'Odd',\n",
       " 424,\n",
       " 'Odd',\n",
       " 426,\n",
       " 'Odd',\n",
       " 428,\n",
       " 'Odd',\n",
       " 430,\n",
       " 'Odd',\n",
       " 432,\n",
       " 'Odd',\n",
       " 434,\n",
       " 'Odd',\n",
       " 436,\n",
       " 'Odd',\n",
       " 438,\n",
       " 'Odd',\n",
       " 440,\n",
       " 'Odd',\n",
       " 442,\n",
       " 'Odd',\n",
       " 444,\n",
       " 'Odd',\n",
       " 446,\n",
       " 'Odd',\n",
       " 448,\n",
       " 'Odd',\n",
       " 450,\n",
       " 'Odd',\n",
       " 452,\n",
       " 'Odd',\n",
       " 454,\n",
       " 'Odd',\n",
       " 456,\n",
       " 'Odd',\n",
       " 458,\n",
       " 'Odd',\n",
       " 460,\n",
       " 'Odd',\n",
       " 462,\n",
       " 'Odd',\n",
       " 464,\n",
       " 'Odd',\n",
       " 466,\n",
       " 'Odd',\n",
       " 468,\n",
       " 'Odd',\n",
       " 470,\n",
       " 'Odd',\n",
       " 472,\n",
       " 'Odd',\n",
       " 474,\n",
       " 'Odd',\n",
       " 476,\n",
       " 'Odd',\n",
       " 478,\n",
       " 'Odd',\n",
       " 480,\n",
       " 'Odd',\n",
       " 482,\n",
       " 'Odd',\n",
       " 484,\n",
       " 'Odd',\n",
       " 486,\n",
       " 'Odd',\n",
       " 488,\n",
       " 'Odd',\n",
       " 490,\n",
       " 'Odd',\n",
       " 492,\n",
       " 'Odd',\n",
       " 494,\n",
       " 'Odd',\n",
       " 496,\n",
       " 'Odd',\n",
       " 498,\n",
       " 'Odd',\n",
       " 500,\n",
       " 'Odd',\n",
       " 502,\n",
       " 'Odd',\n",
       " 504,\n",
       " 'Odd',\n",
       " 506,\n",
       " 'Odd',\n",
       " 508,\n",
       " 'Odd',\n",
       " 510,\n",
       " 'Odd',\n",
       " 512,\n",
       " 'Odd',\n",
       " 514,\n",
       " 'Odd',\n",
       " 516,\n",
       " 'Odd',\n",
       " 518,\n",
       " 'Odd',\n",
       " 520,\n",
       " 'Odd',\n",
       " 522,\n",
       " 'Odd',\n",
       " 524,\n",
       " 'Odd',\n",
       " 526,\n",
       " 'Odd',\n",
       " 528,\n",
       " 'Odd',\n",
       " 530,\n",
       " 'Odd',\n",
       " 532,\n",
       " 'Odd',\n",
       " 534,\n",
       " 'Odd',\n",
       " 536,\n",
       " 'Odd',\n",
       " 538,\n",
       " 'Odd',\n",
       " 540,\n",
       " 'Odd',\n",
       " 542,\n",
       " 'Odd',\n",
       " 544,\n",
       " 'Odd',\n",
       " 546,\n",
       " 'Odd',\n",
       " 548,\n",
       " 'Odd',\n",
       " 550,\n",
       " 'Odd',\n",
       " 552,\n",
       " 'Odd',\n",
       " 554,\n",
       " 'Odd',\n",
       " 556,\n",
       " 'Odd',\n",
       " 558,\n",
       " 'Odd',\n",
       " 560,\n",
       " 'Odd',\n",
       " 562,\n",
       " 'Odd',\n",
       " 564,\n",
       " 'Odd',\n",
       " 566,\n",
       " 'Odd',\n",
       " 568,\n",
       " 'Odd',\n",
       " 570,\n",
       " 'Odd',\n",
       " 572,\n",
       " 'Odd',\n",
       " 574,\n",
       " 'Odd',\n",
       " 576,\n",
       " 'Odd',\n",
       " 578,\n",
       " 'Odd',\n",
       " 580,\n",
       " 'Odd',\n",
       " 582,\n",
       " 'Odd',\n",
       " 584,\n",
       " 'Odd',\n",
       " 586,\n",
       " 'Odd',\n",
       " 588,\n",
       " 'Odd',\n",
       " 590,\n",
       " 'Odd',\n",
       " 592,\n",
       " 'Odd',\n",
       " 594,\n",
       " 'Odd',\n",
       " 596,\n",
       " 'Odd',\n",
       " 598,\n",
       " 'Odd',\n",
       " 600,\n",
       " 'Odd',\n",
       " 602,\n",
       " 'Odd',\n",
       " 604,\n",
       " 'Odd',\n",
       " 606,\n",
       " 'Odd',\n",
       " 608,\n",
       " 'Odd',\n",
       " 610,\n",
       " 'Odd',\n",
       " 612,\n",
       " 'Odd',\n",
       " 614,\n",
       " 'Odd',\n",
       " 616,\n",
       " 'Odd',\n",
       " 618,\n",
       " 'Odd',\n",
       " 620,\n",
       " 'Odd',\n",
       " 622,\n",
       " 'Odd',\n",
       " 624,\n",
       " 'Odd',\n",
       " 626,\n",
       " 'Odd',\n",
       " 628,\n",
       " 'Odd',\n",
       " 630,\n",
       " 'Odd',\n",
       " 632,\n",
       " 'Odd',\n",
       " 634,\n",
       " 'Odd',\n",
       " 636,\n",
       " 'Odd',\n",
       " 638,\n",
       " 'Odd',\n",
       " 640,\n",
       " 'Odd',\n",
       " 642,\n",
       " 'Odd',\n",
       " 644,\n",
       " 'Odd',\n",
       " 646,\n",
       " 'Odd',\n",
       " 648,\n",
       " 'Odd',\n",
       " 650,\n",
       " 'Odd',\n",
       " 652,\n",
       " 'Odd',\n",
       " 654,\n",
       " 'Odd',\n",
       " 656,\n",
       " 'Odd',\n",
       " 658,\n",
       " 'Odd',\n",
       " 660,\n",
       " 'Odd',\n",
       " 662,\n",
       " 'Odd',\n",
       " 664,\n",
       " 'Odd',\n",
       " 666,\n",
       " 'Odd',\n",
       " 668,\n",
       " 'Odd',\n",
       " 670,\n",
       " 'Odd',\n",
       " 672,\n",
       " 'Odd',\n",
       " 674,\n",
       " 'Odd',\n",
       " 676,\n",
       " 'Odd',\n",
       " 678,\n",
       " 'Odd',\n",
       " 680,\n",
       " 'Odd',\n",
       " 682,\n",
       " 'Odd',\n",
       " 684,\n",
       " 'Odd',\n",
       " 686,\n",
       " 'Odd',\n",
       " 688,\n",
       " 'Odd',\n",
       " 690,\n",
       " 'Odd',\n",
       " 692,\n",
       " 'Odd',\n",
       " 694,\n",
       " 'Odd',\n",
       " 696,\n",
       " 'Odd',\n",
       " 698,\n",
       " 'Odd',\n",
       " 700,\n",
       " 'Odd',\n",
       " 702,\n",
       " 'Odd',\n",
       " 704,\n",
       " 'Odd',\n",
       " 706,\n",
       " 'Odd',\n",
       " 708,\n",
       " 'Odd',\n",
       " 710,\n",
       " 'Odd',\n",
       " 712,\n",
       " 'Odd',\n",
       " 714,\n",
       " 'Odd',\n",
       " 716,\n",
       " 'Odd',\n",
       " 718,\n",
       " 'Odd',\n",
       " 720,\n",
       " 'Odd',\n",
       " 722,\n",
       " 'Odd',\n",
       " 724,\n",
       " 'Odd',\n",
       " 726,\n",
       " 'Odd',\n",
       " 728,\n",
       " 'Odd',\n",
       " 730,\n",
       " 'Odd',\n",
       " 732,\n",
       " 'Odd',\n",
       " 734,\n",
       " 'Odd',\n",
       " 736,\n",
       " 'Odd',\n",
       " 738,\n",
       " 'Odd',\n",
       " 740,\n",
       " 'Odd',\n",
       " 742,\n",
       " 'Odd',\n",
       " 744,\n",
       " 'Odd',\n",
       " 746,\n",
       " 'Odd',\n",
       " 748,\n",
       " 'Odd',\n",
       " 750,\n",
       " 'Odd',\n",
       " 752,\n",
       " 'Odd',\n",
       " 754,\n",
       " 'Odd',\n",
       " 756,\n",
       " 'Odd',\n",
       " 758,\n",
       " 'Odd',\n",
       " 760,\n",
       " 'Odd',\n",
       " 762,\n",
       " 'Odd',\n",
       " 764,\n",
       " 'Odd',\n",
       " 766,\n",
       " 'Odd',\n",
       " 768,\n",
       " 'Odd',\n",
       " 770,\n",
       " 'Odd',\n",
       " 772,\n",
       " 'Odd',\n",
       " 774,\n",
       " 'Odd',\n",
       " 776,\n",
       " 'Odd',\n",
       " 778,\n",
       " 'Odd',\n",
       " 780,\n",
       " 'Odd',\n",
       " 782,\n",
       " 'Odd',\n",
       " 784,\n",
       " 'Odd',\n",
       " 786,\n",
       " 'Odd',\n",
       " 788,\n",
       " 'Odd',\n",
       " 790,\n",
       " 'Odd',\n",
       " 792,\n",
       " 'Odd',\n",
       " 794,\n",
       " 'Odd',\n",
       " 796,\n",
       " 'Odd',\n",
       " 798,\n",
       " 'Odd',\n",
       " 800,\n",
       " 'Odd',\n",
       " 802,\n",
       " 'Odd',\n",
       " 804,\n",
       " 'Odd',\n",
       " 806,\n",
       " 'Odd',\n",
       " 808,\n",
       " 'Odd',\n",
       " 810,\n",
       " 'Odd',\n",
       " 812,\n",
       " 'Odd',\n",
       " 814,\n",
       " 'Odd',\n",
       " 816,\n",
       " 'Odd',\n",
       " 818,\n",
       " 'Odd',\n",
       " 820,\n",
       " 'Odd',\n",
       " 822,\n",
       " 'Odd',\n",
       " 824,\n",
       " 'Odd',\n",
       " 826,\n",
       " 'Odd',\n",
       " 828,\n",
       " 'Odd',\n",
       " 830,\n",
       " 'Odd',\n",
       " 832,\n",
       " 'Odd',\n",
       " 834,\n",
       " 'Odd',\n",
       " 836,\n",
       " 'Odd',\n",
       " 838,\n",
       " 'Odd',\n",
       " 840,\n",
       " 'Odd',\n",
       " 842,\n",
       " 'Odd',\n",
       " 844,\n",
       " 'Odd',\n",
       " 846,\n",
       " 'Odd',\n",
       " 848,\n",
       " 'Odd',\n",
       " 850,\n",
       " 'Odd',\n",
       " 852,\n",
       " 'Odd',\n",
       " 854,\n",
       " 'Odd',\n",
       " 856,\n",
       " 'Odd',\n",
       " 858,\n",
       " 'Odd',\n",
       " 860,\n",
       " 'Odd',\n",
       " 862,\n",
       " 'Odd',\n",
       " 864,\n",
       " 'Odd',\n",
       " 866,\n",
       " 'Odd',\n",
       " 868,\n",
       " 'Odd',\n",
       " 870,\n",
       " 'Odd',\n",
       " 872,\n",
       " 'Odd',\n",
       " 874,\n",
       " 'Odd',\n",
       " 876,\n",
       " 'Odd',\n",
       " 878,\n",
       " 'Odd',\n",
       " 880,\n",
       " 'Odd',\n",
       " 882,\n",
       " 'Odd',\n",
       " 884,\n",
       " 'Odd',\n",
       " 886,\n",
       " 'Odd',\n",
       " 888,\n",
       " 'Odd',\n",
       " 890,\n",
       " 'Odd',\n",
       " 892,\n",
       " 'Odd',\n",
       " 894,\n",
       " 'Odd',\n",
       " 896,\n",
       " 'Odd',\n",
       " 898,\n",
       " 'Odd',\n",
       " 900,\n",
       " 'Odd',\n",
       " 902,\n",
       " 'Odd',\n",
       " 904,\n",
       " 'Odd',\n",
       " 906,\n",
       " 'Odd',\n",
       " 908,\n",
       " 'Odd',\n",
       " 910,\n",
       " 'Odd',\n",
       " 912,\n",
       " 'Odd',\n",
       " 914,\n",
       " 'Odd',\n",
       " 916,\n",
       " 'Odd',\n",
       " 918,\n",
       " 'Odd',\n",
       " 920,\n",
       " 'Odd',\n",
       " 922,\n",
       " 'Odd',\n",
       " 924,\n",
       " 'Odd',\n",
       " 926,\n",
       " 'Odd',\n",
       " 928,\n",
       " 'Odd',\n",
       " 930,\n",
       " 'Odd',\n",
       " 932,\n",
       " 'Odd',\n",
       " 934,\n",
       " 'Odd',\n",
       " 936,\n",
       " 'Odd',\n",
       " 938,\n",
       " 'Odd',\n",
       " 940,\n",
       " 'Odd',\n",
       " 942,\n",
       " 'Odd',\n",
       " 944,\n",
       " 'Odd',\n",
       " 946,\n",
       " 'Odd',\n",
       " 948,\n",
       " 'Odd',\n",
       " 950,\n",
       " 'Odd',\n",
       " 952,\n",
       " 'Odd',\n",
       " 954,\n",
       " 'Odd',\n",
       " 956,\n",
       " 'Odd',\n",
       " 958,\n",
       " 'Odd',\n",
       " 960,\n",
       " 'Odd',\n",
       " 962,\n",
       " 'Odd',\n",
       " 964,\n",
       " 'Odd',\n",
       " 966,\n",
       " 'Odd',\n",
       " 968,\n",
       " 'Odd',\n",
       " 970,\n",
       " 'Odd',\n",
       " 972,\n",
       " 'Odd',\n",
       " 974,\n",
       " 'Odd',\n",
       " 976,\n",
       " 'Odd',\n",
       " 978,\n",
       " 'Odd',\n",
       " 980,\n",
       " 'Odd',\n",
       " 982,\n",
       " 'Odd',\n",
       " 984,\n",
       " 'Odd',\n",
       " 986,\n",
       " 'Odd',\n",
       " 988,\n",
       " 'Odd',\n",
       " 990,\n",
       " 'Odd',\n",
       " 992,\n",
       " 'Odd',\n",
       " 994,\n",
       " 'Odd',\n",
       " 996,\n",
       " 'Odd',\n",
       " 998,\n",
       " 'Odd',\n",
       " ...]"
      ]
     },
     "execution_count": 24,
     "metadata": {},
     "output_type": "execute_result"
    }
   ],
   "source": [
    "%%time\n",
    "[nums if nums%2==0 else \"Odd\" for nums in list1]"
   ]
  },
  {
   "cell_type": "markdown",
   "metadata": {},
   "source": [
    "#### Example 4"
   ]
  },
  {
   "cell_type": "code",
   "execution_count": 25,
   "metadata": {},
   "outputs": [
    {
     "data": {
      "text/plain": [
       "[32.0, 50.0, 68.18, 94.1]"
      ]
     },
     "execution_count": 25,
     "metadata": {},
     "output_type": "execute_result"
    }
   ],
   "source": [
    "# Convert Celsius to Fahrenheit\n",
    "celsius = [0,10,20.1,34.5]\n",
    "\n",
    "fahrenheit = [((9/5)*temp + 32) for temp in celsius ]\n",
    "\n",
    "fahrenheit"
   ]
  },
  {
   "cell_type": "markdown",
   "metadata": {},
   "source": [
    "#### Example 5"
   ]
  },
  {
   "cell_type": "code",
   "execution_count": 26,
   "metadata": {},
   "outputs": [
    {
     "data": {
      "text/plain": [
       "[0, 1, 16, 81, 256, 625, 1296, 2401, 4096, 6561, 10000]"
      ]
     },
     "execution_count": 26,
     "metadata": {},
     "output_type": "execute_result"
    }
   ],
   "source": [
    "lst = [ x**2 for x in [x**2 for x in range(11)]]\n",
    "lst"
   ]
  },
  {
   "cell_type": "code",
   "execution_count": null,
   "metadata": {},
   "outputs": [],
   "source": [
    "lst =  [x**4 for x in range(11)]\n",
    "lst"
   ]
  },
  {
   "cell_type": "markdown",
   "metadata": {},
   "source": [
    "#### Key Points to Remember"
   ]
  },
  {
   "cell_type": "markdown",
   "metadata": {},
   "source": [
    "* List comprehension is an elegant way to define and create lists based on existing lists.\n",
    "* List comprehension is generally more compact and faster than normal functions and loops for creating list.\n",
    "* However, we should avoid writing very long list comprehensions in one line to ensure that code is user-friendly\n",
    "* Remember, every list comprehension can be rewritten in for loop, but every for loop can’t be rewritten in the form of list comprehension"
   ]
  }
 ],
 "metadata": {
  "kernelspec": {
   "display_name": "Python 3",
   "language": "python",
   "name": "python3"
  },
  "language_info": {
   "codemirror_mode": {
    "name": "ipython",
    "version": 3
   },
   "file_extension": ".py",
   "mimetype": "text/x-python",
   "name": "python",
   "nbconvert_exporter": "python",
   "pygments_lexer": "ipython3",
   "version": "3.6.3"
  }
 },
 "nbformat": 4,
 "nbformat_minor": 2
}
