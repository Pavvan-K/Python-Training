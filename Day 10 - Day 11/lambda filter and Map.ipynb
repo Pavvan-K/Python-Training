{
 "cells": [
  {
   "cell_type": "markdown",
   "metadata": {},
   "source": [
    "## What are anonymous functions in Python?"
   ]
  },
  {
   "cell_type": "markdown",
   "metadata": {},
   "source": [
    "* In Python, __anonymous function__ is a function that is defined without a name.\n",
    "* While normal functions are defined using the __def__ keyword, in Python anonymous functions are defined using the __lambda__ keyword\n",
    "* Lambda functions are used along with built-in functions like <code>filter()</code>, <code>map()</code> etc\n"
   ]
  },
  {
   "cell_type": "markdown",
   "metadata": {},
   "source": [
    "### Why would use this?  "
   ]
  },
  {
   "cell_type": "markdown",
   "metadata": {},
   "source": [
    "* We use lambda functions when we require a __nameless function__ for a short period of time.\n",
    "* In Python, we generally use it as an argument to a higher-order function (a function that takes in other functions as arguments)\n"
   ]
  },
  {
   "cell_type": "markdown",
   "metadata": {},
   "source": [
    "### How to use lambda Functions in Python?"
   ]
  },
  {
   "cell_type": "markdown",
   "metadata": {},
   "source": [
    "* **lambda operator** or **lambda function** is used for creating small, one-time and anonymous function objects in Python."
   ]
  },
  {
   "cell_type": "markdown",
   "metadata": {},
   "source": [
    "Syntax"
   ]
  },
  {
   "cell_type": "markdown",
   "metadata": {},
   "source": [
    "<code>**lambda** arguments: expression</code>"
   ]
  },
  {
   "cell_type": "code",
   "execution_count": 155,
   "metadata": {},
   "outputs": [],
   "source": [
    "def square_root(x):\n",
    "       return x**(1/2)"
   ]
  },
  {
   "cell_type": "code",
   "execution_count": 156,
   "metadata": {},
   "outputs": [],
   "source": [
    "g= square_root"
   ]
  },
  {
   "cell_type": "code",
   "execution_count": 158,
   "metadata": {},
   "outputs": [
    {
     "data": {
      "text/plain": [
       "2.449489742783178"
      ]
     },
     "execution_count": 158,
     "metadata": {},
     "output_type": "execute_result"
    }
   ],
   "source": [
    "g(6)"
   ]
  },
  {
   "cell_type": "code",
   "execution_count": 150,
   "metadata": {},
   "outputs": [],
   "source": [
    "f= lambda x:x**(0.5)"
   ]
  },
  {
   "cell_type": "code",
   "execution_count": 152,
   "metadata": {},
   "outputs": [
    {
     "data": {
      "text/plain": [
       "1.4142135623730951"
      ]
     },
     "execution_count": 152,
     "metadata": {},
     "output_type": "execute_result"
    }
   ],
   "source": [
    "f(2)"
   ]
  },
  {
   "cell_type": "code",
   "execution_count": 148,
   "metadata": {},
   "outputs": [
    {
     "data": {
      "text/plain": [
       "1.7320508075688772"
      ]
     },
     "execution_count": 148,
     "metadata": {},
     "output_type": "execute_result"
    }
   ],
   "source": [
    "cube_root(3)"
   ]
  },
  {
   "cell_type": "markdown",
   "metadata": {},
   "source": [
    "### Prerquesites:"
   ]
  },
  {
   "cell_type": "markdown",
   "metadata": {},
   "source": [
    "* lambda operator can have any number of arguments, but it can have only one expression\n",
    "*  It cannot contain any statements and it returns a function object which can be assigned to any variable."
   ]
  },
  {
   "cell_type": "markdown",
   "metadata": {},
   "source": [
    "Lets slowly break down a lambda expression by deconstructing a function:"
   ]
  },
  {
   "cell_type": "code",
   "execution_count": 159,
   "metadata": {},
   "outputs": [],
   "source": [
    "def square(num):\n",
    "    result = num**2\n",
    "    return result"
   ]
  },
  {
   "cell_type": "code",
   "execution_count": 166,
   "metadata": {},
   "outputs": [],
   "source": [
    "my_variable = square"
   ]
  },
  {
   "cell_type": "code",
   "execution_count": 167,
   "metadata": {},
   "outputs": [
    {
     "data": {
      "text/plain": [
       "4"
      ]
     },
     "execution_count": 167,
     "metadata": {},
     "output_type": "execute_result"
    }
   ],
   "source": [
    "my_variable(2)"
   ]
  },
  {
   "cell_type": "code",
   "execution_count": 160,
   "metadata": {},
   "outputs": [
    {
     "data": {
      "text/plain": [
       "4"
      ]
     },
     "execution_count": 160,
     "metadata": {},
     "output_type": "execute_result"
    }
   ],
   "source": [
    "square(2)"
   ]
  },
  {
   "cell_type": "code",
   "execution_count": null,
   "metadata": {},
   "outputs": [],
   "source": []
  },
  {
   "cell_type": "code",
   "execution_count": 161,
   "metadata": {},
   "outputs": [],
   "source": [
    "def square(num):\n",
    "    return num**2"
   ]
  },
  {
   "cell_type": "code",
   "execution_count": 162,
   "metadata": {},
   "outputs": [
    {
     "data": {
      "text/plain": [
       "4"
      ]
     },
     "execution_count": 162,
     "metadata": {},
     "output_type": "execute_result"
    }
   ],
   "source": [
    "square(2)"
   ]
  },
  {
   "cell_type": "code",
   "execution_count": null,
   "metadata": {},
   "outputs": [],
   "source": []
  },
  {
   "cell_type": "code",
   "execution_count": null,
   "metadata": {},
   "outputs": [],
   "source": [
    "We could actually even write this all on one line."
   ]
  },
  {
   "cell_type": "code",
   "execution_count": 163,
   "metadata": {},
   "outputs": [],
   "source": [
    "def square(num): return num**2"
   ]
  },
  {
   "cell_type": "code",
   "execution_count": 164,
   "metadata": {},
   "outputs": [
    {
     "data": {
      "text/plain": [
       "4"
      ]
     },
     "execution_count": 164,
     "metadata": {},
     "output_type": "execute_result"
    }
   ],
   "source": [
    "square(2)"
   ]
  },
  {
   "cell_type": "markdown",
   "metadata": {},
   "source": [
    "Finally lambda expression"
   ]
  },
  {
   "cell_type": "code",
   "execution_count": 168,
   "metadata": {},
   "outputs": [],
   "source": [
    "f= lambda num: num ** 2"
   ]
  },
  {
   "cell_type": "code",
   "execution_count": 169,
   "metadata": {},
   "outputs": [
    {
     "data": {
      "text/plain": [
       "4"
      ]
     },
     "execution_count": 169,
     "metadata": {},
     "output_type": "execute_result"
    }
   ],
   "source": [
    "f(2)"
   ]
  },
  {
   "cell_type": "code",
   "execution_count": null,
   "metadata": {},
   "outputs": [],
   "source": []
  },
  {
   "cell_type": "markdown",
   "metadata": {},
   "source": [
    "### Example of Lambda Function in python"
   ]
  },
  {
   "cell_type": "code",
   "execution_count": 1,
   "metadata": {},
   "outputs": [
    {
     "data": {
      "text/plain": [
       "5"
      ]
     },
     "execution_count": 1,
     "metadata": {},
     "output_type": "execute_result"
    }
   ],
   "source": [
    "## To add two numbers without Lambda\n",
    "\n",
    "def add(x, y,z): \n",
    "    return x + y\n",
    "\n",
    "add(2,3)"
   ]
  },
  {
   "cell_type": "code",
   "execution_count": 176,
   "metadata": {},
   "outputs": [
    {
     "name": "stdout",
     "output_type": "stream",
     "text": [
      "my Result is: 5\n"
     ]
    }
   ],
   "source": [
    "## To add two numbers with help of Lambda\n",
    "f = lambda x,y:x+y\n",
    "\n",
    "my_result = f(2,3)\n",
    "\n",
    "print(\"my Result is:\", my_result)"
   ]
  },
  {
   "cell_type": "markdown",
   "metadata": {},
   "source": [
    "In __lambda x, y: x + y;__ x and y are arguments to the function and x + y is the expression which gets executed and its values is returned as output\n",
    "\n",
    "__lambda x, y: x + y__ returns a function object which can be assigned to any variable, in this case function object is assigned to the `f` variable.\n",
    "\n"
   ]
  },
  {
   "cell_type": "markdown",
   "metadata": {},
   "source": [
    "## Map:"
   ]
  },
  {
   "cell_type": "code",
   "execution_count": 70,
   "metadata": {},
   "outputs": [],
   "source": [
    "list1 = [1,2,3,4,5,6]\n",
    "\n",
    "list1= range(0,1000000)"
   ]
  },
  {
   "cell_type": "code",
   "execution_count": 71,
   "metadata": {},
   "outputs": [
    {
     "name": "stdout",
     "output_type": "stream",
     "text": [
      "Wall time: 465 ms\n"
     ]
    }
   ],
   "source": [
    "%%time\n",
    "result = []\n",
    "for i in list1:\n",
    "    result.append(i*i)"
   ]
  },
  {
   "cell_type": "code",
   "execution_count": 211,
   "metadata": {},
   "outputs": [],
   "source": [
    "def myOwnFunc(x):\n",
    "    return x%2==0"
   ]
  },
  {
   "cell_type": "code",
   "execution_count": 213,
   "metadata": {
    "collapsed": true
   },
   "outputs": [
    {
     "data": {
      "text/plain": [
       "[0,\n",
       " 2,\n",
       " 4,\n",
       " 6,\n",
       " 8,\n",
       " 10,\n",
       " 12,\n",
       " 14,\n",
       " 16,\n",
       " 18,\n",
       " 20,\n",
       " 22,\n",
       " 24,\n",
       " 26,\n",
       " 28,\n",
       " 30,\n",
       " 32,\n",
       " 34,\n",
       " 36,\n",
       " 38,\n",
       " 40,\n",
       " 42,\n",
       " 44,\n",
       " 46,\n",
       " 48,\n",
       " 50,\n",
       " 52,\n",
       " 54,\n",
       " 56,\n",
       " 58,\n",
       " 60,\n",
       " 62,\n",
       " 64,\n",
       " 66,\n",
       " 68,\n",
       " 70,\n",
       " 72,\n",
       " 74,\n",
       " 76,\n",
       " 78,\n",
       " 80,\n",
       " 82,\n",
       " 84,\n",
       " 86,\n",
       " 88,\n",
       " 90,\n",
       " 92,\n",
       " 94,\n",
       " 96,\n",
       " 98,\n",
       " 100,\n",
       " 102,\n",
       " 104,\n",
       " 106,\n",
       " 108,\n",
       " 110,\n",
       " 112,\n",
       " 114,\n",
       " 116,\n",
       " 118,\n",
       " 120,\n",
       " 122,\n",
       " 124,\n",
       " 126,\n",
       " 128,\n",
       " 130,\n",
       " 132,\n",
       " 134,\n",
       " 136,\n",
       " 138,\n",
       " 140,\n",
       " 142,\n",
       " 144,\n",
       " 146,\n",
       " 148,\n",
       " 150,\n",
       " 152,\n",
       " 154,\n",
       " 156,\n",
       " 158,\n",
       " 160,\n",
       " 162,\n",
       " 164,\n",
       " 166,\n",
       " 168,\n",
       " 170,\n",
       " 172,\n",
       " 174,\n",
       " 176,\n",
       " 178,\n",
       " 180,\n",
       " 182,\n",
       " 184,\n",
       " 186,\n",
       " 188,\n",
       " 190,\n",
       " 192,\n",
       " 194,\n",
       " 196,\n",
       " 198,\n",
       " 200,\n",
       " 202,\n",
       " 204,\n",
       " 206,\n",
       " 208,\n",
       " 210,\n",
       " 212,\n",
       " 214,\n",
       " 216,\n",
       " 218,\n",
       " 220,\n",
       " 222,\n",
       " 224,\n",
       " 226,\n",
       " 228,\n",
       " 230,\n",
       " 232,\n",
       " 234,\n",
       " 236,\n",
       " 238,\n",
       " 240,\n",
       " 242,\n",
       " 244,\n",
       " 246,\n",
       " 248,\n",
       " 250,\n",
       " 252,\n",
       " 254,\n",
       " 256,\n",
       " 258,\n",
       " 260,\n",
       " 262,\n",
       " 264,\n",
       " 266,\n",
       " 268,\n",
       " 270,\n",
       " 272,\n",
       " 274,\n",
       " 276,\n",
       " 278,\n",
       " 280,\n",
       " 282,\n",
       " 284,\n",
       " 286,\n",
       " 288,\n",
       " 290,\n",
       " 292,\n",
       " 294,\n",
       " 296,\n",
       " 298,\n",
       " 300,\n",
       " 302,\n",
       " 304,\n",
       " 306,\n",
       " 308,\n",
       " 310,\n",
       " 312,\n",
       " 314,\n",
       " 316,\n",
       " 318,\n",
       " 320,\n",
       " 322,\n",
       " 324,\n",
       " 326,\n",
       " 328,\n",
       " 330,\n",
       " 332,\n",
       " 334,\n",
       " 336,\n",
       " 338,\n",
       " 340,\n",
       " 342,\n",
       " 344,\n",
       " 346,\n",
       " 348,\n",
       " 350,\n",
       " 352,\n",
       " 354,\n",
       " 356,\n",
       " 358,\n",
       " 360,\n",
       " 362,\n",
       " 364,\n",
       " 366,\n",
       " 368,\n",
       " 370,\n",
       " 372,\n",
       " 374,\n",
       " 376,\n",
       " 378,\n",
       " 380,\n",
       " 382,\n",
       " 384,\n",
       " 386,\n",
       " 388,\n",
       " 390,\n",
       " 392,\n",
       " 394,\n",
       " 396,\n",
       " 398,\n",
       " 400,\n",
       " 402,\n",
       " 404,\n",
       " 406,\n",
       " 408,\n",
       " 410,\n",
       " 412,\n",
       " 414,\n",
       " 416,\n",
       " 418,\n",
       " 420,\n",
       " 422,\n",
       " 424,\n",
       " 426,\n",
       " 428,\n",
       " 430,\n",
       " 432,\n",
       " 434,\n",
       " 436,\n",
       " 438,\n",
       " 440,\n",
       " 442,\n",
       " 444,\n",
       " 446,\n",
       " 448,\n",
       " 450,\n",
       " 452,\n",
       " 454,\n",
       " 456,\n",
       " 458,\n",
       " 460,\n",
       " 462,\n",
       " 464,\n",
       " 466,\n",
       " 468,\n",
       " 470,\n",
       " 472,\n",
       " 474,\n",
       " 476,\n",
       " 478,\n",
       " 480,\n",
       " 482,\n",
       " 484,\n",
       " 486,\n",
       " 488,\n",
       " 490,\n",
       " 492,\n",
       " 494,\n",
       " 496,\n",
       " 498,\n",
       " 500,\n",
       " 502,\n",
       " 504,\n",
       " 506,\n",
       " 508,\n",
       " 510,\n",
       " 512,\n",
       " 514,\n",
       " 516,\n",
       " 518,\n",
       " 520,\n",
       " 522,\n",
       " 524,\n",
       " 526,\n",
       " 528,\n",
       " 530,\n",
       " 532,\n",
       " 534,\n",
       " 536,\n",
       " 538,\n",
       " 540,\n",
       " 542,\n",
       " 544,\n",
       " 546,\n",
       " 548,\n",
       " 550,\n",
       " 552,\n",
       " 554,\n",
       " 556,\n",
       " 558,\n",
       " 560,\n",
       " 562,\n",
       " 564,\n",
       " 566,\n",
       " 568,\n",
       " 570,\n",
       " 572,\n",
       " 574,\n",
       " 576,\n",
       " 578,\n",
       " 580,\n",
       " 582,\n",
       " 584,\n",
       " 586,\n",
       " 588,\n",
       " 590,\n",
       " 592,\n",
       " 594,\n",
       " 596,\n",
       " 598,\n",
       " 600,\n",
       " 602,\n",
       " 604,\n",
       " 606,\n",
       " 608,\n",
       " 610,\n",
       " 612,\n",
       " 614,\n",
       " 616,\n",
       " 618,\n",
       " 620,\n",
       " 622,\n",
       " 624,\n",
       " 626,\n",
       " 628,\n",
       " 630,\n",
       " 632,\n",
       " 634,\n",
       " 636,\n",
       " 638,\n",
       " 640,\n",
       " 642,\n",
       " 644,\n",
       " 646,\n",
       " 648,\n",
       " 650,\n",
       " 652,\n",
       " 654,\n",
       " 656,\n",
       " 658,\n",
       " 660,\n",
       " 662,\n",
       " 664,\n",
       " 666,\n",
       " 668,\n",
       " 670,\n",
       " 672,\n",
       " 674,\n",
       " 676,\n",
       " 678,\n",
       " 680,\n",
       " 682,\n",
       " 684,\n",
       " 686,\n",
       " 688,\n",
       " 690,\n",
       " 692,\n",
       " 694,\n",
       " 696,\n",
       " 698,\n",
       " 700,\n",
       " 702,\n",
       " 704,\n",
       " 706,\n",
       " 708,\n",
       " 710,\n",
       " 712,\n",
       " 714,\n",
       " 716,\n",
       " 718,\n",
       " 720,\n",
       " 722,\n",
       " 724,\n",
       " 726,\n",
       " 728,\n",
       " 730,\n",
       " 732,\n",
       " 734,\n",
       " 736,\n",
       " 738,\n",
       " 740,\n",
       " 742,\n",
       " 744,\n",
       " 746,\n",
       " 748,\n",
       " 750,\n",
       " 752,\n",
       " 754,\n",
       " 756,\n",
       " 758,\n",
       " 760,\n",
       " 762,\n",
       " 764,\n",
       " 766,\n",
       " 768,\n",
       " 770,\n",
       " 772,\n",
       " 774,\n",
       " 776,\n",
       " 778,\n",
       " 780,\n",
       " 782,\n",
       " 784,\n",
       " 786,\n",
       " 788,\n",
       " 790,\n",
       " 792,\n",
       " 794,\n",
       " 796,\n",
       " 798,\n",
       " 800,\n",
       " 802,\n",
       " 804,\n",
       " 806,\n",
       " 808,\n",
       " 810,\n",
       " 812,\n",
       " 814,\n",
       " 816,\n",
       " 818,\n",
       " 820,\n",
       " 822,\n",
       " 824,\n",
       " 826,\n",
       " 828,\n",
       " 830,\n",
       " 832,\n",
       " 834,\n",
       " 836,\n",
       " 838,\n",
       " 840,\n",
       " 842,\n",
       " 844,\n",
       " 846,\n",
       " 848,\n",
       " 850,\n",
       " 852,\n",
       " 854,\n",
       " 856,\n",
       " 858,\n",
       " 860,\n",
       " 862,\n",
       " 864,\n",
       " 866,\n",
       " 868,\n",
       " 870,\n",
       " 872,\n",
       " 874,\n",
       " 876,\n",
       " 878,\n",
       " 880,\n",
       " 882,\n",
       " 884,\n",
       " 886,\n",
       " 888,\n",
       " 890,\n",
       " 892,\n",
       " 894,\n",
       " 896,\n",
       " 898,\n",
       " 900,\n",
       " 902,\n",
       " 904,\n",
       " 906,\n",
       " 908,\n",
       " 910,\n",
       " 912,\n",
       " 914,\n",
       " 916,\n",
       " 918,\n",
       " 920,\n",
       " 922,\n",
       " 924,\n",
       " 926,\n",
       " 928,\n",
       " 930,\n",
       " 932,\n",
       " 934,\n",
       " 936,\n",
       " 938,\n",
       " 940,\n",
       " 942,\n",
       " 944,\n",
       " 946,\n",
       " 948,\n",
       " 950,\n",
       " 952,\n",
       " 954,\n",
       " 956,\n",
       " 958,\n",
       " 960,\n",
       " 962,\n",
       " 964,\n",
       " 966,\n",
       " 968,\n",
       " 970,\n",
       " 972,\n",
       " 974,\n",
       " 976,\n",
       " 978,\n",
       " 980,\n",
       " 982,\n",
       " 984,\n",
       " 986,\n",
       " 988,\n",
       " 990,\n",
       " 992,\n",
       " 994,\n",
       " 996,\n",
       " 998]"
      ]
     },
     "execution_count": 213,
     "metadata": {},
     "output_type": "execute_result"
    }
   ],
   "source": [
    "list(filter(myOwnFunc,range(1000)))"
   ]
  },
  {
   "cell_type": "code",
   "execution_count": 206,
   "metadata": {},
   "outputs": [],
   "source": [
    "f=myOwnFunc"
   ]
  },
  {
   "cell_type": "code",
   "execution_count": 72,
   "metadata": {},
   "outputs": [],
   "source": [
    "def square(x):\n",
    "    return x*x"
   ]
  },
  {
   "cell_type": "code",
   "execution_count": 73,
   "metadata": {},
   "outputs": [
    {
     "data": {
      "text/plain": [
       "<function __main__.square>"
      ]
     },
     "execution_count": 73,
     "metadata": {},
     "output_type": "execute_result"
    }
   ],
   "source": [
    "square"
   ]
  },
  {
   "cell_type": "markdown",
   "metadata": {},
   "source": [
    "* The **map** function allows you to \"map\" a function to an iterable object. \n",
    "* That is to say you can quickly call the same function to every item in an iterable, such as a list\n"
   ]
  },
  {
   "cell_type": "markdown",
   "metadata": {},
   "source": [
    "Syntax:"
   ]
  },
  {
   "cell_type": "markdown",
   "metadata": {},
   "source": [
    "<code>map(function_object, iterable1, iterable2,...)</code>"
   ]
  },
  {
   "cell_type": "code",
   "execution_count": 180,
   "metadata": {},
   "outputs": [
    {
     "name": "stdout",
     "output_type": "stream",
     "text": [
      "Wall time: 367 ms\n"
     ]
    }
   ],
   "source": [
    "%%time\n",
    "list1 = [1,2,4,5]\n",
    "\n",
    "a= list(map(lambda x:x*x,range(0,1000000)))"
   ]
  },
  {
   "cell_type": "markdown",
   "metadata": {},
   "source": [
    "* __map functions__ expects a function object and any number of iterables like list, dictionary, etc. It executes the function_object for each element in the sequence and returns a list of the elements modified by the function object"
   ]
  },
  {
   "cell_type": "markdown",
   "metadata": {},
   "source": [
    "#### Example\""
   ]
  },
  {
   "cell_type": "code",
   "execution_count": 77,
   "metadata": {},
   "outputs": [],
   "source": [
    "my_list = [1,2,3,5,6,7]"
   ]
  },
  {
   "cell_type": "code",
   "execution_count": 78,
   "metadata": {},
   "outputs": [],
   "source": [
    "def square(x):\n",
    "    return x*x"
   ]
  },
  {
   "cell_type": "code",
   "execution_count": 79,
   "metadata": {},
   "outputs": [
    {
     "data": {
      "text/plain": [
       "[1, 4, 9, 25, 36, 49]"
      ]
     },
     "execution_count": 79,
     "metadata": {},
     "output_type": "execute_result"
    }
   ],
   "source": [
    "list(map(square,my_list))"
   ]
  },
  {
   "cell_type": "markdown",
   "metadata": {},
   "source": [
    "In the above example, map executes __square__ function for each element in the list"
   ]
  },
  {
   "cell_type": "code",
   "execution_count": 218,
   "metadata": {},
   "outputs": [],
   "source": [
    "dict_a = [{'name': 'python', 'points': 10}, {'name': 'java', 'points': 8},{'name': 'C', 'points': 8}]"
   ]
  },
  {
   "cell_type": "code",
   "execution_count": 219,
   "metadata": {},
   "outputs": [
    {
     "data": {
      "text/plain": [
       "<function __main__.<lambda>>"
      ]
     },
     "execution_count": 219,
     "metadata": {},
     "output_type": "execute_result"
    }
   ],
   "source": [
    "lambda x:expresion"
   ]
  },
  {
   "cell_type": "code",
   "execution_count": 220,
   "metadata": {},
   "outputs": [
    {
     "data": {
      "text/plain": [
       "['python', 'java', 'C']"
      ]
     },
     "execution_count": 220,
     "metadata": {},
     "output_type": "execute_result"
    }
   ],
   "source": [
    "list(map(lambda x:x['name'], dict_a))"
   ]
  },
  {
   "cell_type": "code",
   "execution_count": 183,
   "metadata": {},
   "outputs": [
    {
     "data": {
      "text/plain": [
       "[8, 10, 12, 14]"
      ]
     },
     "execution_count": 183,
     "metadata": {},
     "output_type": "execute_result"
    }
   ],
   "source": [
    "list1 = [3,4,5,6]\n",
    "list2 = [5,6,7,8]\n",
    "\n",
    "list(map(lambda x,y:x+y,list1,list2))"
   ]
  },
  {
   "cell_type": "code",
   "execution_count": 184,
   "metadata": {},
   "outputs": [],
   "source": [
    "list1 = range(0,1000)"
   ]
  },
  {
   "cell_type": "code",
   "execution_count": 185,
   "metadata": {
    "collapsed": true
   },
   "outputs": [
    {
     "data": {
      "text/plain": [
       "[0,\n",
       " 2,\n",
       " 4,\n",
       " 6,\n",
       " 8,\n",
       " 10,\n",
       " 12,\n",
       " 14,\n",
       " 16,\n",
       " 18,\n",
       " 20,\n",
       " 22,\n",
       " 24,\n",
       " 26,\n",
       " 28,\n",
       " 30,\n",
       " 32,\n",
       " 34,\n",
       " 36,\n",
       " 38,\n",
       " 40,\n",
       " 42,\n",
       " 44,\n",
       " 46,\n",
       " 48,\n",
       " 50,\n",
       " 52,\n",
       " 54,\n",
       " 56,\n",
       " 58,\n",
       " 60,\n",
       " 62,\n",
       " 64,\n",
       " 66,\n",
       " 68,\n",
       " 70,\n",
       " 72,\n",
       " 74,\n",
       " 76,\n",
       " 78,\n",
       " 80,\n",
       " 82,\n",
       " 84,\n",
       " 86,\n",
       " 88,\n",
       " 90,\n",
       " 92,\n",
       " 94,\n",
       " 96,\n",
       " 98,\n",
       " 100,\n",
       " 102,\n",
       " 104,\n",
       " 106,\n",
       " 108,\n",
       " 110,\n",
       " 112,\n",
       " 114,\n",
       " 116,\n",
       " 118,\n",
       " 120,\n",
       " 122,\n",
       " 124,\n",
       " 126,\n",
       " 128,\n",
       " 130,\n",
       " 132,\n",
       " 134,\n",
       " 136,\n",
       " 138,\n",
       " 140,\n",
       " 142,\n",
       " 144,\n",
       " 146,\n",
       " 148,\n",
       " 150,\n",
       " 152,\n",
       " 154,\n",
       " 156,\n",
       " 158,\n",
       " 160,\n",
       " 162,\n",
       " 164,\n",
       " 166,\n",
       " 168,\n",
       " 170,\n",
       " 172,\n",
       " 174,\n",
       " 176,\n",
       " 178,\n",
       " 180,\n",
       " 182,\n",
       " 184,\n",
       " 186,\n",
       " 188,\n",
       " 190,\n",
       " 192,\n",
       " 194,\n",
       " 196,\n",
       " 198,\n",
       " 200,\n",
       " 202,\n",
       " 204,\n",
       " 206,\n",
       " 208,\n",
       " 210,\n",
       " 212,\n",
       " 214,\n",
       " 216,\n",
       " 218,\n",
       " 220,\n",
       " 222,\n",
       " 224,\n",
       " 226,\n",
       " 228,\n",
       " 230,\n",
       " 232,\n",
       " 234,\n",
       " 236,\n",
       " 238,\n",
       " 240,\n",
       " 242,\n",
       " 244,\n",
       " 246,\n",
       " 248,\n",
       " 250,\n",
       " 252,\n",
       " 254,\n",
       " 256,\n",
       " 258,\n",
       " 260,\n",
       " 262,\n",
       " 264,\n",
       " 266,\n",
       " 268,\n",
       " 270,\n",
       " 272,\n",
       " 274,\n",
       " 276,\n",
       " 278,\n",
       " 280,\n",
       " 282,\n",
       " 284,\n",
       " 286,\n",
       " 288,\n",
       " 290,\n",
       " 292,\n",
       " 294,\n",
       " 296,\n",
       " 298,\n",
       " 300,\n",
       " 302,\n",
       " 304,\n",
       " 306,\n",
       " 308,\n",
       " 310,\n",
       " 312,\n",
       " 314,\n",
       " 316,\n",
       " 318,\n",
       " 320,\n",
       " 322,\n",
       " 324,\n",
       " 326,\n",
       " 328,\n",
       " 330,\n",
       " 332,\n",
       " 334,\n",
       " 336,\n",
       " 338,\n",
       " 340,\n",
       " 342,\n",
       " 344,\n",
       " 346,\n",
       " 348,\n",
       " 350,\n",
       " 352,\n",
       " 354,\n",
       " 356,\n",
       " 358,\n",
       " 360,\n",
       " 362,\n",
       " 364,\n",
       " 366,\n",
       " 368,\n",
       " 370,\n",
       " 372,\n",
       " 374,\n",
       " 376,\n",
       " 378,\n",
       " 380,\n",
       " 382,\n",
       " 384,\n",
       " 386,\n",
       " 388,\n",
       " 390,\n",
       " 392,\n",
       " 394,\n",
       " 396,\n",
       " 398,\n",
       " 400,\n",
       " 402,\n",
       " 404,\n",
       " 406,\n",
       " 408,\n",
       " 410,\n",
       " 412,\n",
       " 414,\n",
       " 416,\n",
       " 418,\n",
       " 420,\n",
       " 422,\n",
       " 424,\n",
       " 426,\n",
       " 428,\n",
       " 430,\n",
       " 432,\n",
       " 434,\n",
       " 436,\n",
       " 438,\n",
       " 440,\n",
       " 442,\n",
       " 444,\n",
       " 446,\n",
       " 448,\n",
       " 450,\n",
       " 452,\n",
       " 454,\n",
       " 456,\n",
       " 458,\n",
       " 460,\n",
       " 462,\n",
       " 464,\n",
       " 466,\n",
       " 468,\n",
       " 470,\n",
       " 472,\n",
       " 474,\n",
       " 476,\n",
       " 478,\n",
       " 480,\n",
       " 482,\n",
       " 484,\n",
       " 486,\n",
       " 488,\n",
       " 490,\n",
       " 492,\n",
       " 494,\n",
       " 496,\n",
       " 498,\n",
       " 500,\n",
       " 502,\n",
       " 504,\n",
       " 506,\n",
       " 508,\n",
       " 510,\n",
       " 512,\n",
       " 514,\n",
       " 516,\n",
       " 518,\n",
       " 520,\n",
       " 522,\n",
       " 524,\n",
       " 526,\n",
       " 528,\n",
       " 530,\n",
       " 532,\n",
       " 534,\n",
       " 536,\n",
       " 538,\n",
       " 540,\n",
       " 542,\n",
       " 544,\n",
       " 546,\n",
       " 548,\n",
       " 550,\n",
       " 552,\n",
       " 554,\n",
       " 556,\n",
       " 558,\n",
       " 560,\n",
       " 562,\n",
       " 564,\n",
       " 566,\n",
       " 568,\n",
       " 570,\n",
       " 572,\n",
       " 574,\n",
       " 576,\n",
       " 578,\n",
       " 580,\n",
       " 582,\n",
       " 584,\n",
       " 586,\n",
       " 588,\n",
       " 590,\n",
       " 592,\n",
       " 594,\n",
       " 596,\n",
       " 598,\n",
       " 600,\n",
       " 602,\n",
       " 604,\n",
       " 606,\n",
       " 608,\n",
       " 610,\n",
       " 612,\n",
       " 614,\n",
       " 616,\n",
       " 618,\n",
       " 620,\n",
       " 622,\n",
       " 624,\n",
       " 626,\n",
       " 628,\n",
       " 630,\n",
       " 632,\n",
       " 634,\n",
       " 636,\n",
       " 638,\n",
       " 640,\n",
       " 642,\n",
       " 644,\n",
       " 646,\n",
       " 648,\n",
       " 650,\n",
       " 652,\n",
       " 654,\n",
       " 656,\n",
       " 658,\n",
       " 660,\n",
       " 662,\n",
       " 664,\n",
       " 666,\n",
       " 668,\n",
       " 670,\n",
       " 672,\n",
       " 674,\n",
       " 676,\n",
       " 678,\n",
       " 680,\n",
       " 682,\n",
       " 684,\n",
       " 686,\n",
       " 688,\n",
       " 690,\n",
       " 692,\n",
       " 694,\n",
       " 696,\n",
       " 698,\n",
       " 700,\n",
       " 702,\n",
       " 704,\n",
       " 706,\n",
       " 708,\n",
       " 710,\n",
       " 712,\n",
       " 714,\n",
       " 716,\n",
       " 718,\n",
       " 720,\n",
       " 722,\n",
       " 724,\n",
       " 726,\n",
       " 728,\n",
       " 730,\n",
       " 732,\n",
       " 734,\n",
       " 736,\n",
       " 738,\n",
       " 740,\n",
       " 742,\n",
       " 744,\n",
       " 746,\n",
       " 748,\n",
       " 750,\n",
       " 752,\n",
       " 754,\n",
       " 756,\n",
       " 758,\n",
       " 760,\n",
       " 762,\n",
       " 764,\n",
       " 766,\n",
       " 768,\n",
       " 770,\n",
       " 772,\n",
       " 774,\n",
       " 776,\n",
       " 778,\n",
       " 780,\n",
       " 782,\n",
       " 784,\n",
       " 786,\n",
       " 788,\n",
       " 790,\n",
       " 792,\n",
       " 794,\n",
       " 796,\n",
       " 798,\n",
       " 800,\n",
       " 802,\n",
       " 804,\n",
       " 806,\n",
       " 808,\n",
       " 810,\n",
       " 812,\n",
       " 814,\n",
       " 816,\n",
       " 818,\n",
       " 820,\n",
       " 822,\n",
       " 824,\n",
       " 826,\n",
       " 828,\n",
       " 830,\n",
       " 832,\n",
       " 834,\n",
       " 836,\n",
       " 838,\n",
       " 840,\n",
       " 842,\n",
       " 844,\n",
       " 846,\n",
       " 848,\n",
       " 850,\n",
       " 852,\n",
       " 854,\n",
       " 856,\n",
       " 858,\n",
       " 860,\n",
       " 862,\n",
       " 864,\n",
       " 866,\n",
       " 868,\n",
       " 870,\n",
       " 872,\n",
       " 874,\n",
       " 876,\n",
       " 878,\n",
       " 880,\n",
       " 882,\n",
       " 884,\n",
       " 886,\n",
       " 888,\n",
       " 890,\n",
       " 892,\n",
       " 894,\n",
       " 896,\n",
       " 898,\n",
       " 900,\n",
       " 902,\n",
       " 904,\n",
       " 906,\n",
       " 908,\n",
       " 910,\n",
       " 912,\n",
       " 914,\n",
       " 916,\n",
       " 918,\n",
       " 920,\n",
       " 922,\n",
       " 924,\n",
       " 926,\n",
       " 928,\n",
       " 930,\n",
       " 932,\n",
       " 934,\n",
       " 936,\n",
       " 938,\n",
       " 940,\n",
       " 942,\n",
       " 944,\n",
       " 946,\n",
       " 948,\n",
       " 950,\n",
       " 952,\n",
       " 954,\n",
       " 956,\n",
       " 958,\n",
       " 960,\n",
       " 962,\n",
       " 964,\n",
       " 966,\n",
       " 968,\n",
       " 970,\n",
       " 972,\n",
       " 974,\n",
       " 976,\n",
       " 978,\n",
       " 980,\n",
       " 982,\n",
       " 984,\n",
       " 986,\n",
       " 988,\n",
       " 990,\n",
       " 992,\n",
       " 994,\n",
       " 996,\n",
       " 998]"
      ]
     },
     "execution_count": 185,
     "metadata": {},
     "output_type": "execute_result"
    }
   ],
   "source": [
    "list(filter(lambda i:i%2==0,list1))"
   ]
  },
  {
   "cell_type": "code",
   "execution_count": 186,
   "metadata": {},
   "outputs": [
    {
     "name": "stdout",
     "output_type": "stream",
     "text": [
      "Enter Your string: This is my string\n"
     ]
    }
   ],
   "source": [
    "s= input(\"Enter Your string: \")"
   ]
  },
  {
   "cell_type": "code",
   "execution_count": 187,
   "metadata": {},
   "outputs": [
    {
     "data": {
      "text/plain": [
       "'This is my string'"
      ]
     },
     "execution_count": 187,
     "metadata": {},
     "output_type": "execute_result"
    }
   ],
   "source": [
    "s"
   ]
  },
  {
   "cell_type": "code",
   "execution_count": 188,
   "metadata": {},
   "outputs": [],
   "source": [
    "lsit=[]\n",
    "for word in s.split():\n",
    "    if word[0] in ['a','e','i','o','u']:\n",
    "        lsit.append(word)"
   ]
  },
  {
   "cell_type": "code",
   "execution_count": 189,
   "metadata": {},
   "outputs": [
    {
     "data": {
      "text/plain": [
       "['is']"
      ]
     },
     "execution_count": 189,
     "metadata": {},
     "output_type": "execute_result"
    }
   ],
   "source": [
    "lsit"
   ]
  },
  {
   "cell_type": "code",
   "execution_count": 80,
   "metadata": {},
   "outputs": [],
   "source": [
    "a= {'name': 'python', 'points': 10}"
   ]
  },
  {
   "cell_type": "code",
   "execution_count": 81,
   "metadata": {},
   "outputs": [
    {
     "data": {
      "text/plain": [
       "'python'"
      ]
     },
     "execution_count": 81,
     "metadata": {},
     "output_type": "execute_result"
    }
   ],
   "source": [
    "a['name']"
   ]
  },
  {
   "cell_type": "code",
   "execution_count": 18,
   "metadata": {},
   "outputs": [],
   "source": [
    "def get_name(x):\n",
    "    return x['name']\n",
    "\n",
    "def get_points(x):\n",
    "    return x['points']\n",
    "\n",
    "def get_and_multiply_points(x):\n",
    "    return x['points']*1\n"
   ]
  },
  {
   "cell_type": "code",
   "execution_count": 82,
   "metadata": {},
   "outputs": [
    {
     "data": {
      "text/plain": [
       "['python', 'java']"
      ]
     },
     "execution_count": 82,
     "metadata": {},
     "output_type": "execute_result"
    }
   ],
   "source": [
    "list(map(get_name,dict_a))"
   ]
  },
  {
   "cell_type": "code",
   "execution_count": 83,
   "metadata": {},
   "outputs": [
    {
     "data": {
      "text/plain": [
       "[10, 8]"
      ]
     },
     "execution_count": 83,
     "metadata": {},
     "output_type": "execute_result"
    }
   ],
   "source": [
    "list(map(get_point,dict_a))"
   ]
  },
  {
   "cell_type": "code",
   "execution_count": 85,
   "metadata": {},
   "outputs": [
    {
     "data": {
      "text/plain": [
       "[100, 80]"
      ]
     },
     "execution_count": 85,
     "metadata": {},
     "output_type": "execute_result"
    }
   ],
   "source": [
    "list(map(get_and_multiply_points,dict_a))"
   ]
  },
  {
   "cell_type": "code",
   "execution_count": 88,
   "metadata": {},
   "outputs": [
    {
     "data": {
      "text/plain": [
       "{'name': 'java', 'points': 8}"
      ]
     },
     "execution_count": 88,
     "metadata": {},
     "output_type": "execute_result"
    }
   ],
   "source": [
    "# type(dict_a)\n",
    "dict_a[1]"
   ]
  },
  {
   "cell_type": "code",
   "execution_count": null,
   "metadata": {},
   "outputs": [],
   "source": []
  },
  {
   "cell_type": "code",
   "execution_count": 93,
   "metadata": {},
   "outputs": [],
   "source": [
    "list1= [1,2,3,4]\n",
    "list2 = [5,6,7,8]"
   ]
  },
  {
   "cell_type": "code",
   "execution_count": 92,
   "metadata": {},
   "outputs": [
    {
     "data": {
      "text/plain": [
       "[0, 1, 2]"
      ]
     },
     "execution_count": 92,
     "metadata": {},
     "output_type": "execute_result"
    }
   ],
   "source": [
    "list(range(len(list_a)))"
   ]
  },
  {
   "cell_type": "code",
   "execution_count": 95,
   "metadata": {},
   "outputs": [
    {
     "data": {
      "text/plain": [
       "[6, 8, 10, 12]"
      ]
     },
     "execution_count": 95,
     "metadata": {},
     "output_type": "execute_result"
    }
   ],
   "source": [
    "final_list=[]\n",
    "for i in range(len(list2)):\n",
    "    final_list.append(list1[i]+list2[i])\n",
    "final_list"
   ]
  },
  {
   "cell_type": "code",
   "execution_count": 96,
   "metadata": {},
   "outputs": [],
   "source": [
    "def adding(x,y):\n",
    "    return x+y"
   ]
  },
  {
   "cell_type": "code",
   "execution_count": 97,
   "metadata": {},
   "outputs": [
    {
     "data": {
      "text/plain": [
       "[6, 8, 10, 12]"
      ]
     },
     "execution_count": 97,
     "metadata": {},
     "output_type": "execute_result"
    }
   ],
   "source": [
    "list(map(adding,list1,list2))"
   ]
  },
  {
   "cell_type": "code",
   "execution_count": 37,
   "metadata": {},
   "outputs": [],
   "source": [
    "## Traditional way\n",
    "\n",
    "def sum_two(x,y):\n",
    "    return x+y"
   ]
  },
  {
   "cell_type": "code",
   "execution_count": 35,
   "metadata": {},
   "outputs": [
    {
     "data": {
      "text/plain": [
       "[11, 22, 33]"
      ]
     },
     "execution_count": 35,
     "metadata": {},
     "output_type": "execute_result"
    }
   ],
   "source": [
    "list_a = [1, 2, 3]\n",
    "\n",
    "list_b = [10, 20, 30]\n",
    "\n",
    "list(map(sum_two, list_a, list_b))"
   ]
  },
  {
   "cell_type": "markdown",
   "metadata": {},
   "source": [
    "### Practise:"
   ]
  },
  {
   "cell_type": "markdown",
   "metadata": {},
   "source": [
    "Input is list of words. Objective is to get the word name as it is if no. of words are odd otherwise it has give 'e'\n",
    "\n",
    "Sample Input = [\"python\",\"is\",\"a\",\"famous\",\"Language\",\"now\",\"a\", \"days\"]\n",
    "\n",
    "Expected_ Ouput = [\"e\",\"e\",\"a\",\"e\",\"e\",\"now\",\"a\",\"e\"]"
   ]
  },
  {
   "cell_type": "code",
   "execution_count": 107,
   "metadata": {},
   "outputs": [],
   "source": [
    "def odd_even(x):\n",
    "    if len(x)%2==0:\n",
    "        return 'e'\n",
    "    else:\n",
    "        return x\n",
    "    \n",
    "def get_even(x):\n",
    "    return x%2==0\n",
    "   "
   ]
  },
  {
   "cell_type": "code",
   "execution_count": 111,
   "metadata": {},
   "outputs": [
    {
     "data": {
      "text/plain": [
       "False"
      ]
     },
     "execution_count": 111,
     "metadata": {},
     "output_type": "execute_result"
    }
   ],
   "source": [
    "1==2\n"
   ]
  },
  {
   "cell_type": "code",
   "execution_count": 108,
   "metadata": {},
   "outputs": [
    {
     "data": {
      "text/plain": [
       "[0, 1, 2, 3, 4]"
      ]
     },
     "execution_count": 108,
     "metadata": {},
     "output_type": "execute_result"
    }
   ],
   "source": [
    "Sample_Input = list(range(0,1001))\n",
    "Sample_Input[:5]"
   ]
  },
  {
   "cell_type": "code",
   "execution_count": 109,
   "metadata": {
    "collapsed": true
   },
   "outputs": [
    {
     "data": {
      "text/plain": [
       "[0,\n",
       " None,\n",
       " 2,\n",
       " None,\n",
       " 4,\n",
       " None,\n",
       " 6,\n",
       " None,\n",
       " 8,\n",
       " None,\n",
       " 10,\n",
       " None,\n",
       " 12,\n",
       " None,\n",
       " 14,\n",
       " None,\n",
       " 16,\n",
       " None,\n",
       " 18,\n",
       " None,\n",
       " 20,\n",
       " None,\n",
       " 22,\n",
       " None,\n",
       " 24,\n",
       " None,\n",
       " 26,\n",
       " None,\n",
       " 28,\n",
       " None,\n",
       " 30,\n",
       " None,\n",
       " 32,\n",
       " None,\n",
       " 34,\n",
       " None,\n",
       " 36,\n",
       " None,\n",
       " 38,\n",
       " None,\n",
       " 40,\n",
       " None,\n",
       " 42,\n",
       " None,\n",
       " 44,\n",
       " None,\n",
       " 46,\n",
       " None,\n",
       " 48,\n",
       " None,\n",
       " 50,\n",
       " None,\n",
       " 52,\n",
       " None,\n",
       " 54,\n",
       " None,\n",
       " 56,\n",
       " None,\n",
       " 58,\n",
       " None,\n",
       " 60,\n",
       " None,\n",
       " 62,\n",
       " None,\n",
       " 64,\n",
       " None,\n",
       " 66,\n",
       " None,\n",
       " 68,\n",
       " None,\n",
       " 70,\n",
       " None,\n",
       " 72,\n",
       " None,\n",
       " 74,\n",
       " None,\n",
       " 76,\n",
       " None,\n",
       " 78,\n",
       " None,\n",
       " 80,\n",
       " None,\n",
       " 82,\n",
       " None,\n",
       " 84,\n",
       " None,\n",
       " 86,\n",
       " None,\n",
       " 88,\n",
       " None,\n",
       " 90,\n",
       " None,\n",
       " 92,\n",
       " None,\n",
       " 94,\n",
       " None,\n",
       " 96,\n",
       " None,\n",
       " 98,\n",
       " None,\n",
       " 100,\n",
       " None,\n",
       " 102,\n",
       " None,\n",
       " 104,\n",
       " None,\n",
       " 106,\n",
       " None,\n",
       " 108,\n",
       " None,\n",
       " 110,\n",
       " None,\n",
       " 112,\n",
       " None,\n",
       " 114,\n",
       " None,\n",
       " 116,\n",
       " None,\n",
       " 118,\n",
       " None,\n",
       " 120,\n",
       " None,\n",
       " 122,\n",
       " None,\n",
       " 124,\n",
       " None,\n",
       " 126,\n",
       " None,\n",
       " 128,\n",
       " None,\n",
       " 130,\n",
       " None,\n",
       " 132,\n",
       " None,\n",
       " 134,\n",
       " None,\n",
       " 136,\n",
       " None,\n",
       " 138,\n",
       " None,\n",
       " 140,\n",
       " None,\n",
       " 142,\n",
       " None,\n",
       " 144,\n",
       " None,\n",
       " 146,\n",
       " None,\n",
       " 148,\n",
       " None,\n",
       " 150,\n",
       " None,\n",
       " 152,\n",
       " None,\n",
       " 154,\n",
       " None,\n",
       " 156,\n",
       " None,\n",
       " 158,\n",
       " None,\n",
       " 160,\n",
       " None,\n",
       " 162,\n",
       " None,\n",
       " 164,\n",
       " None,\n",
       " 166,\n",
       " None,\n",
       " 168,\n",
       " None,\n",
       " 170,\n",
       " None,\n",
       " 172,\n",
       " None,\n",
       " 174,\n",
       " None,\n",
       " 176,\n",
       " None,\n",
       " 178,\n",
       " None,\n",
       " 180,\n",
       " None,\n",
       " 182,\n",
       " None,\n",
       " 184,\n",
       " None,\n",
       " 186,\n",
       " None,\n",
       " 188,\n",
       " None,\n",
       " 190,\n",
       " None,\n",
       " 192,\n",
       " None,\n",
       " 194,\n",
       " None,\n",
       " 196,\n",
       " None,\n",
       " 198,\n",
       " None,\n",
       " 200,\n",
       " None,\n",
       " 202,\n",
       " None,\n",
       " 204,\n",
       " None,\n",
       " 206,\n",
       " None,\n",
       " 208,\n",
       " None,\n",
       " 210,\n",
       " None,\n",
       " 212,\n",
       " None,\n",
       " 214,\n",
       " None,\n",
       " 216,\n",
       " None,\n",
       " 218,\n",
       " None,\n",
       " 220,\n",
       " None,\n",
       " 222,\n",
       " None,\n",
       " 224,\n",
       " None,\n",
       " 226,\n",
       " None,\n",
       " 228,\n",
       " None,\n",
       " 230,\n",
       " None,\n",
       " 232,\n",
       " None,\n",
       " 234,\n",
       " None,\n",
       " 236,\n",
       " None,\n",
       " 238,\n",
       " None,\n",
       " 240,\n",
       " None,\n",
       " 242,\n",
       " None,\n",
       " 244,\n",
       " None,\n",
       " 246,\n",
       " None,\n",
       " 248,\n",
       " None,\n",
       " 250,\n",
       " None,\n",
       " 252,\n",
       " None,\n",
       " 254,\n",
       " None,\n",
       " 256,\n",
       " None,\n",
       " 258,\n",
       " None,\n",
       " 260,\n",
       " None,\n",
       " 262,\n",
       " None,\n",
       " 264,\n",
       " None,\n",
       " 266,\n",
       " None,\n",
       " 268,\n",
       " None,\n",
       " 270,\n",
       " None,\n",
       " 272,\n",
       " None,\n",
       " 274,\n",
       " None,\n",
       " 276,\n",
       " None,\n",
       " 278,\n",
       " None,\n",
       " 280,\n",
       " None,\n",
       " 282,\n",
       " None,\n",
       " 284,\n",
       " None,\n",
       " 286,\n",
       " None,\n",
       " 288,\n",
       " None,\n",
       " 290,\n",
       " None,\n",
       " 292,\n",
       " None,\n",
       " 294,\n",
       " None,\n",
       " 296,\n",
       " None,\n",
       " 298,\n",
       " None,\n",
       " 300,\n",
       " None,\n",
       " 302,\n",
       " None,\n",
       " 304,\n",
       " None,\n",
       " 306,\n",
       " None,\n",
       " 308,\n",
       " None,\n",
       " 310,\n",
       " None,\n",
       " 312,\n",
       " None,\n",
       " 314,\n",
       " None,\n",
       " 316,\n",
       " None,\n",
       " 318,\n",
       " None,\n",
       " 320,\n",
       " None,\n",
       " 322,\n",
       " None,\n",
       " 324,\n",
       " None,\n",
       " 326,\n",
       " None,\n",
       " 328,\n",
       " None,\n",
       " 330,\n",
       " None,\n",
       " 332,\n",
       " None,\n",
       " 334,\n",
       " None,\n",
       " 336,\n",
       " None,\n",
       " 338,\n",
       " None,\n",
       " 340,\n",
       " None,\n",
       " 342,\n",
       " None,\n",
       " 344,\n",
       " None,\n",
       " 346,\n",
       " None,\n",
       " 348,\n",
       " None,\n",
       " 350,\n",
       " None,\n",
       " 352,\n",
       " None,\n",
       " 354,\n",
       " None,\n",
       " 356,\n",
       " None,\n",
       " 358,\n",
       " None,\n",
       " 360,\n",
       " None,\n",
       " 362,\n",
       " None,\n",
       " 364,\n",
       " None,\n",
       " 366,\n",
       " None,\n",
       " 368,\n",
       " None,\n",
       " 370,\n",
       " None,\n",
       " 372,\n",
       " None,\n",
       " 374,\n",
       " None,\n",
       " 376,\n",
       " None,\n",
       " 378,\n",
       " None,\n",
       " 380,\n",
       " None,\n",
       " 382,\n",
       " None,\n",
       " 384,\n",
       " None,\n",
       " 386,\n",
       " None,\n",
       " 388,\n",
       " None,\n",
       " 390,\n",
       " None,\n",
       " 392,\n",
       " None,\n",
       " 394,\n",
       " None,\n",
       " 396,\n",
       " None,\n",
       " 398,\n",
       " None,\n",
       " 400,\n",
       " None,\n",
       " 402,\n",
       " None,\n",
       " 404,\n",
       " None,\n",
       " 406,\n",
       " None,\n",
       " 408,\n",
       " None,\n",
       " 410,\n",
       " None,\n",
       " 412,\n",
       " None,\n",
       " 414,\n",
       " None,\n",
       " 416,\n",
       " None,\n",
       " 418,\n",
       " None,\n",
       " 420,\n",
       " None,\n",
       " 422,\n",
       " None,\n",
       " 424,\n",
       " None,\n",
       " 426,\n",
       " None,\n",
       " 428,\n",
       " None,\n",
       " 430,\n",
       " None,\n",
       " 432,\n",
       " None,\n",
       " 434,\n",
       " None,\n",
       " 436,\n",
       " None,\n",
       " 438,\n",
       " None,\n",
       " 440,\n",
       " None,\n",
       " 442,\n",
       " None,\n",
       " 444,\n",
       " None,\n",
       " 446,\n",
       " None,\n",
       " 448,\n",
       " None,\n",
       " 450,\n",
       " None,\n",
       " 452,\n",
       " None,\n",
       " 454,\n",
       " None,\n",
       " 456,\n",
       " None,\n",
       " 458,\n",
       " None,\n",
       " 460,\n",
       " None,\n",
       " 462,\n",
       " None,\n",
       " 464,\n",
       " None,\n",
       " 466,\n",
       " None,\n",
       " 468,\n",
       " None,\n",
       " 470,\n",
       " None,\n",
       " 472,\n",
       " None,\n",
       " 474,\n",
       " None,\n",
       " 476,\n",
       " None,\n",
       " 478,\n",
       " None,\n",
       " 480,\n",
       " None,\n",
       " 482,\n",
       " None,\n",
       " 484,\n",
       " None,\n",
       " 486,\n",
       " None,\n",
       " 488,\n",
       " None,\n",
       " 490,\n",
       " None,\n",
       " 492,\n",
       " None,\n",
       " 494,\n",
       " None,\n",
       " 496,\n",
       " None,\n",
       " 498,\n",
       " None,\n",
       " 500,\n",
       " None,\n",
       " 502,\n",
       " None,\n",
       " 504,\n",
       " None,\n",
       " 506,\n",
       " None,\n",
       " 508,\n",
       " None,\n",
       " 510,\n",
       " None,\n",
       " 512,\n",
       " None,\n",
       " 514,\n",
       " None,\n",
       " 516,\n",
       " None,\n",
       " 518,\n",
       " None,\n",
       " 520,\n",
       " None,\n",
       " 522,\n",
       " None,\n",
       " 524,\n",
       " None,\n",
       " 526,\n",
       " None,\n",
       " 528,\n",
       " None,\n",
       " 530,\n",
       " None,\n",
       " 532,\n",
       " None,\n",
       " 534,\n",
       " None,\n",
       " 536,\n",
       " None,\n",
       " 538,\n",
       " None,\n",
       " 540,\n",
       " None,\n",
       " 542,\n",
       " None,\n",
       " 544,\n",
       " None,\n",
       " 546,\n",
       " None,\n",
       " 548,\n",
       " None,\n",
       " 550,\n",
       " None,\n",
       " 552,\n",
       " None,\n",
       " 554,\n",
       " None,\n",
       " 556,\n",
       " None,\n",
       " 558,\n",
       " None,\n",
       " 560,\n",
       " None,\n",
       " 562,\n",
       " None,\n",
       " 564,\n",
       " None,\n",
       " 566,\n",
       " None,\n",
       " 568,\n",
       " None,\n",
       " 570,\n",
       " None,\n",
       " 572,\n",
       " None,\n",
       " 574,\n",
       " None,\n",
       " 576,\n",
       " None,\n",
       " 578,\n",
       " None,\n",
       " 580,\n",
       " None,\n",
       " 582,\n",
       " None,\n",
       " 584,\n",
       " None,\n",
       " 586,\n",
       " None,\n",
       " 588,\n",
       " None,\n",
       " 590,\n",
       " None,\n",
       " 592,\n",
       " None,\n",
       " 594,\n",
       " None,\n",
       " 596,\n",
       " None,\n",
       " 598,\n",
       " None,\n",
       " 600,\n",
       " None,\n",
       " 602,\n",
       " None,\n",
       " 604,\n",
       " None,\n",
       " 606,\n",
       " None,\n",
       " 608,\n",
       " None,\n",
       " 610,\n",
       " None,\n",
       " 612,\n",
       " None,\n",
       " 614,\n",
       " None,\n",
       " 616,\n",
       " None,\n",
       " 618,\n",
       " None,\n",
       " 620,\n",
       " None,\n",
       " 622,\n",
       " None,\n",
       " 624,\n",
       " None,\n",
       " 626,\n",
       " None,\n",
       " 628,\n",
       " None,\n",
       " 630,\n",
       " None,\n",
       " 632,\n",
       " None,\n",
       " 634,\n",
       " None,\n",
       " 636,\n",
       " None,\n",
       " 638,\n",
       " None,\n",
       " 640,\n",
       " None,\n",
       " 642,\n",
       " None,\n",
       " 644,\n",
       " None,\n",
       " 646,\n",
       " None,\n",
       " 648,\n",
       " None,\n",
       " 650,\n",
       " None,\n",
       " 652,\n",
       " None,\n",
       " 654,\n",
       " None,\n",
       " 656,\n",
       " None,\n",
       " 658,\n",
       " None,\n",
       " 660,\n",
       " None,\n",
       " 662,\n",
       " None,\n",
       " 664,\n",
       " None,\n",
       " 666,\n",
       " None,\n",
       " 668,\n",
       " None,\n",
       " 670,\n",
       " None,\n",
       " 672,\n",
       " None,\n",
       " 674,\n",
       " None,\n",
       " 676,\n",
       " None,\n",
       " 678,\n",
       " None,\n",
       " 680,\n",
       " None,\n",
       " 682,\n",
       " None,\n",
       " 684,\n",
       " None,\n",
       " 686,\n",
       " None,\n",
       " 688,\n",
       " None,\n",
       " 690,\n",
       " None,\n",
       " 692,\n",
       " None,\n",
       " 694,\n",
       " None,\n",
       " 696,\n",
       " None,\n",
       " 698,\n",
       " None,\n",
       " 700,\n",
       " None,\n",
       " 702,\n",
       " None,\n",
       " 704,\n",
       " None,\n",
       " 706,\n",
       " None,\n",
       " 708,\n",
       " None,\n",
       " 710,\n",
       " None,\n",
       " 712,\n",
       " None,\n",
       " 714,\n",
       " None,\n",
       " 716,\n",
       " None,\n",
       " 718,\n",
       " None,\n",
       " 720,\n",
       " None,\n",
       " 722,\n",
       " None,\n",
       " 724,\n",
       " None,\n",
       " 726,\n",
       " None,\n",
       " 728,\n",
       " None,\n",
       " 730,\n",
       " None,\n",
       " 732,\n",
       " None,\n",
       " 734,\n",
       " None,\n",
       " 736,\n",
       " None,\n",
       " 738,\n",
       " None,\n",
       " 740,\n",
       " None,\n",
       " 742,\n",
       " None,\n",
       " 744,\n",
       " None,\n",
       " 746,\n",
       " None,\n",
       " 748,\n",
       " None,\n",
       " 750,\n",
       " None,\n",
       " 752,\n",
       " None,\n",
       " 754,\n",
       " None,\n",
       " 756,\n",
       " None,\n",
       " 758,\n",
       " None,\n",
       " 760,\n",
       " None,\n",
       " 762,\n",
       " None,\n",
       " 764,\n",
       " None,\n",
       " 766,\n",
       " None,\n",
       " 768,\n",
       " None,\n",
       " 770,\n",
       " None,\n",
       " 772,\n",
       " None,\n",
       " 774,\n",
       " None,\n",
       " 776,\n",
       " None,\n",
       " 778,\n",
       " None,\n",
       " 780,\n",
       " None,\n",
       " 782,\n",
       " None,\n",
       " 784,\n",
       " None,\n",
       " 786,\n",
       " None,\n",
       " 788,\n",
       " None,\n",
       " 790,\n",
       " None,\n",
       " 792,\n",
       " None,\n",
       " 794,\n",
       " None,\n",
       " 796,\n",
       " None,\n",
       " 798,\n",
       " None,\n",
       " 800,\n",
       " None,\n",
       " 802,\n",
       " None,\n",
       " 804,\n",
       " None,\n",
       " 806,\n",
       " None,\n",
       " 808,\n",
       " None,\n",
       " 810,\n",
       " None,\n",
       " 812,\n",
       " None,\n",
       " 814,\n",
       " None,\n",
       " 816,\n",
       " None,\n",
       " 818,\n",
       " None,\n",
       " 820,\n",
       " None,\n",
       " 822,\n",
       " None,\n",
       " 824,\n",
       " None,\n",
       " 826,\n",
       " None,\n",
       " 828,\n",
       " None,\n",
       " 830,\n",
       " None,\n",
       " 832,\n",
       " None,\n",
       " 834,\n",
       " None,\n",
       " 836,\n",
       " None,\n",
       " 838,\n",
       " None,\n",
       " 840,\n",
       " None,\n",
       " 842,\n",
       " None,\n",
       " 844,\n",
       " None,\n",
       " 846,\n",
       " None,\n",
       " 848,\n",
       " None,\n",
       " 850,\n",
       " None,\n",
       " 852,\n",
       " None,\n",
       " 854,\n",
       " None,\n",
       " 856,\n",
       " None,\n",
       " 858,\n",
       " None,\n",
       " 860,\n",
       " None,\n",
       " 862,\n",
       " None,\n",
       " 864,\n",
       " None,\n",
       " 866,\n",
       " None,\n",
       " 868,\n",
       " None,\n",
       " 870,\n",
       " None,\n",
       " 872,\n",
       " None,\n",
       " 874,\n",
       " None,\n",
       " 876,\n",
       " None,\n",
       " 878,\n",
       " None,\n",
       " 880,\n",
       " None,\n",
       " 882,\n",
       " None,\n",
       " 884,\n",
       " None,\n",
       " 886,\n",
       " None,\n",
       " 888,\n",
       " None,\n",
       " 890,\n",
       " None,\n",
       " 892,\n",
       " None,\n",
       " 894,\n",
       " None,\n",
       " 896,\n",
       " None,\n",
       " 898,\n",
       " None,\n",
       " 900,\n",
       " None,\n",
       " 902,\n",
       " None,\n",
       " 904,\n",
       " None,\n",
       " 906,\n",
       " None,\n",
       " 908,\n",
       " None,\n",
       " 910,\n",
       " None,\n",
       " 912,\n",
       " None,\n",
       " 914,\n",
       " None,\n",
       " 916,\n",
       " None,\n",
       " 918,\n",
       " None,\n",
       " 920,\n",
       " None,\n",
       " 922,\n",
       " None,\n",
       " 924,\n",
       " None,\n",
       " 926,\n",
       " None,\n",
       " 928,\n",
       " None,\n",
       " 930,\n",
       " None,\n",
       " 932,\n",
       " None,\n",
       " 934,\n",
       " None,\n",
       " 936,\n",
       " None,\n",
       " 938,\n",
       " None,\n",
       " 940,\n",
       " None,\n",
       " 942,\n",
       " None,\n",
       " 944,\n",
       " None,\n",
       " 946,\n",
       " None,\n",
       " 948,\n",
       " None,\n",
       " 950,\n",
       " None,\n",
       " 952,\n",
       " None,\n",
       " 954,\n",
       " None,\n",
       " 956,\n",
       " None,\n",
       " 958,\n",
       " None,\n",
       " 960,\n",
       " None,\n",
       " 962,\n",
       " None,\n",
       " 964,\n",
       " None,\n",
       " 966,\n",
       " None,\n",
       " 968,\n",
       " None,\n",
       " 970,\n",
       " None,\n",
       " 972,\n",
       " None,\n",
       " 974,\n",
       " None,\n",
       " 976,\n",
       " None,\n",
       " 978,\n",
       " None,\n",
       " 980,\n",
       " None,\n",
       " 982,\n",
       " None,\n",
       " 984,\n",
       " None,\n",
       " 986,\n",
       " None,\n",
       " 988,\n",
       " None,\n",
       " 990,\n",
       " None,\n",
       " 992,\n",
       " None,\n",
       " 994,\n",
       " None,\n",
       " 996,\n",
       " None,\n",
       " 998,\n",
       " None,\n",
       " ...]"
      ]
     },
     "execution_count": 109,
     "metadata": {},
     "output_type": "execute_result"
    }
   ],
   "source": [
    "list(map(get_even,Sample_Input))"
   ]
  },
  {
   "cell_type": "markdown",
   "metadata": {},
   "source": [
    "## Filter:"
   ]
  },
  {
   "cell_type": "markdown",
   "metadata": {},
   "source": [
    "* filter function expects two arguments, function_object and an iterable. \n",
    "* Assume if function_object returns a boolean value\n",
    "\n",
    "* function_object is called for each element of the iterable and filter returns only those element for which the function_object returns true\n",
    "\n",
    "* Like map function, filter function also returns a list of element. Unlike map function filter function can only have one iterable as input."
   ]
  },
  {
   "cell_type": "code",
   "execution_count": 112,
   "metadata": {},
   "outputs": [],
   "source": [
    "def get_even(x):\n",
    "    return x%2==0"
   ]
  },
  {
   "cell_type": "code",
   "execution_count": 117,
   "metadata": {},
   "outputs": [
    {
     "data": {
      "text/plain": [
       "[0, 2, 4, 6, 8, 10, 12, 14, 16, 18]"
      ]
     },
     "execution_count": 117,
     "metadata": {},
     "output_type": "execute_result"
    }
   ],
   "source": [
    "list(filter(get_even,list(range(0,1001))))[:10]"
   ]
  },
  {
   "cell_type": "markdown",
   "metadata": {},
   "source": [
    "#### Example 1"
   ]
  },
  {
   "cell_type": "code",
   "execution_count": 51,
   "metadata": {},
   "outputs": [],
   "source": [
    "def check_even(x):\n",
    "    return x%2==0"
   ]
  },
  {
   "cell_type": "code",
   "execution_count": 52,
   "metadata": {},
   "outputs": [
    {
     "data": {
      "text/plain": [
       "<filter at 0x1f1dca663c8>"
      ]
     },
     "execution_count": 52,
     "metadata": {},
     "output_type": "execute_result"
    }
   ],
   "source": [
    "a = [1, 2, 3, 4, 5, 6]\n",
    "filter(check_even, a)"
   ]
  },
  {
   "cell_type": "markdown",
   "metadata": {},
   "source": [
    "##### Example 2"
   ]
  },
  {
   "cell_type": "code",
   "execution_count": 131,
   "metadata": {},
   "outputs": [],
   "source": [
    "def is_python(x):\n",
    "    return x['name']==\"python\""
   ]
  },
  {
   "cell_type": "code",
   "execution_count": 134,
   "metadata": {},
   "outputs": [
    {
     "data": {
      "text/plain": [
       "[{'name': 'python', 'points': 10}]"
      ]
     },
     "execution_count": 134,
     "metadata": {},
     "output_type": "execute_result"
    }
   ],
   "source": [
    "dict1={'name': 'python', 'points': 10}\n",
    "dict2 = {'name': 'java', 'points': 8}\n",
    "\n",
    "dict_a = [dict1,dict2]\n",
    "\n",
    "list((filter(is_python, dict_a)))"
   ]
  },
  {
   "cell_type": "code",
   "execution_count": 133,
   "metadata": {},
   "outputs": [
    {
     "data": {
      "text/plain": [
       "False"
      ]
     },
     "execution_count": 133,
     "metadata": {},
     "output_type": "execute_result"
    }
   ],
   "source": [
    "is_python(x={'name': 'java', 'points': 8})"
   ]
  }
 ],
 "metadata": {
  "kernelspec": {
   "display_name": "Python 3",
   "language": "python",
   "name": "python3"
  },
  "language_info": {
   "codemirror_mode": {
    "name": "ipython",
    "version": 3
   },
   "file_extension": ".py",
   "mimetype": "text/x-python",
   "name": "python",
   "nbconvert_exporter": "python",
   "pygments_lexer": "ipython3",
   "version": "3.6.3"
  }
 },
 "nbformat": 4,
 "nbformat_minor": 2
}
